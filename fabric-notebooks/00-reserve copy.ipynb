{
 "cells": [
  {
   "cell_type": "markdown",
   "id": "258cbc1b-8bfb-402a-b492-db39aad22b3e",
   "metadata": {},
   "source": [
    "# Reserve and configure FABRIC resources for reproducing \"Revisiting TCP Congestion Control Throughput Models & Fairness Properties at Scale\""
   ]
  },
  {
   "cell_type": "markdown",
   "id": "844ee501-0bb2-41b8-a398-9d8f7f58e48e",
   "metadata": {},
   "source": [
    "## Set up your FABRIC environment\n",
    "\n",
    "This assumes that you have already configured your FABRIC account and your Jupyter environment as described in [Hello, FABRIC](https://teaching-on-testbeds.github.io/blog/hello-fabric)."
   ]
  },
  {
   "cell_type": "code",
   "execution_count": null,
   "id": "d0494be9-b9ee-4d12-873a-7bdae4e9be9e",
   "metadata": {},
   "outputs": [],
   "source": [
    "from fabrictestbed_extensions.fablib.fablib import FablibManager as fablib_manager\n",
    "fablib = fablib_manager() \n",
    "fablib.show_config()"
   ]
  },
  {
   "cell_type": "markdown",
   "id": "7f841b0e-2c59-43db-80c4-83f270e068ed",
   "metadata": {},
   "source": [
    "## Check if slice already exists"
   ]
  },
  {
   "cell_type": "code",
   "execution_count": null,
   "id": "13db87db-d3b3-4b25-8f4e-32271725fb83",
   "metadata": {},
   "outputs": [],
   "source": [
    "n_endpoints = 10\n",
    "slice_name=\"bottleneck-\" + str(n_endpoints) + '-test'\n",
    "try:\n",
    "    slice = fablib.get_slice(slice_name)\n",
    "    print(\"You already have a slice by this name!\")\n",
    "    print(\"If you previously reserved resources, skip to the 'log in to resources' section.\")\n",
    "except:\n",
    "    print(\"You don't have a slice named %s yet.\" % slice_name)\n",
    "    print(\"Continue to the next step to make one.\")\n",
    "    slice = fablib.new_slice(name=slice_name)\n",
    "     \n",
    "\n",
    "#slice = fablib.new_slice(name=slice_name)"
   ]
  },
  {
   "cell_type": "markdown",
   "id": "00cc5d54-e26d-4bbe-a2c2-807be6723fd7",
   "metadata": {},
   "source": [
    "This cell will try to identify a site that has sufficient resources for your experiment. But, you should still check in the [FABRIC Portal](https://portal.fabric-testbed.net/resources/all) to make sure it is not in maintenance or out of service - if so, you should run the cell again until you get a site that is ready to use."
   ]
  },
  {
   "cell_type": "markdown",
   "id": "bc60c8f1",
   "metadata": {},
   "source": [
    "## Defining resource configuration"
   ]
  },
  {
   "cell_type": "code",
   "execution_count": null,
   "id": "658439f4",
   "metadata": {},
   "outputs": [],
   "source": [
    "sender_common = {'cores':4, 'ram':32, 'disk':500, 'image':'default_ubuntu_18'}\n",
    "receiver_common = {'cores':4, 'ram':32, 'disk':100, 'image':'default_ubuntu_18'}\n",
    "\n",
    "router_node_conf = [{'name': \"router\", 'cores':32, 'ram' : 256, 'disk':500, 'image':'default_ubuntu_22'}]\n",
    "sender_node_conf = [{'name': f\"sender-{i}\", **sender_common} for i in range(n_endpoints)]\n",
    "receiver_node_conf = [{'name': f\"receiver-{i}\", **receiver_common} for i in range(n_endpoints)]\n",
    "\n",
    "node_conf = router_node_conf + sender_node_conf + receiver_node_conf\n",
    "\n",
    "net_conf = [\n",
    "    {\n",
    "        \"name\" : \"link-sender\", \n",
    "        \"subnet\":\"10.10.1.0/24\",\n",
    "        \"nodes\": [{\"name\": \"sender-\" + str(i), \"addr\": \"10.10.1.1\"+ str(i)} for i in range(n_endpoints)] + [{\"name\": \"router\", \"addr\" : \"10.10.1.1\"}],\n",
    "        \"idx\":0\n",
    "    },   \n",
    "    {\n",
    "        \"name\" : \"link-receiver\", \n",
    "        \"subnet\":\"10.10.2.0/24\",\n",
    "        \"nodes\": [{\"name\": \"receiver-\" + str(i), \"addr\": \"10.10.2.1\" + str(i)} for i in range(n_endpoints)]+ [{\"name\": \"router\", \"addr\" : \"10.10.2.1\"}],\n",
    "        \n",
    "        \"idx\":1\n",
    "    }\n",
    "]\n",
    "               \n",
    "route_conf = [\n",
    "    {\n",
    "        \"addr\":\"10.10.2.0/24\", \"gw\": \"10.10.1.1\", \n",
    "        \"nodes\" : [\"sender-\"+ str(i) for i in range(n_endpoints)]\n",
    "    },\n",
    "    {\n",
    "        \"addr\":\"10.10.1.0/24\", \"gw\": \"10.10.2.1\", \n",
    "        \"nodes\" : [\"receiver-\" + str(i) for i in range(n_endpoints)]\n",
    "    }\n",
    "]\n",
    "\n",
    "exp_conf = {'cores': sum([ n['cores'] for n in node_conf]), 'nic': sum([len(n['nodes']) for n in net_conf]) }\n"
   ]
  },
  {
   "cell_type": "markdown",
   "id": "9016f9ea",
   "metadata": {},
   "source": [
    "## Reserve Resources"
   ]
  },
  {
   "cell_type": "code",
   "execution_count": null,
   "id": "82e66b47-2114-466a-85ed-e18d51da7ac2",
   "metadata": {},
   "outputs": [],
   "source": [
    "exp_requires = {'core': 2*n_endpoints*4+32, 'nic': 2*n_endpoints*1, 'connectx5': 1}\n",
    "while True:\n",
    "    site_name = fablib.get_random_site()\n",
    "    if ( (fablib.resources.get_core_available(site_name) > 1.2*exp_requires['core']) and\n",
    "        (fablib.resources.get_component_available(site_name, 'SharedNIC-ConnectX-6') > 1.2**exp_requires['nic']) and\n",
    "        (fablib.resources.get_component_available(site_name, 'SmartNIC-ConnectX-5') > 1.2*exp_requires['connectx5'])   ):\n",
    "        break\n",
    "\n",
    "fablib.show_site(site_name)"
   ]
  },
  {
   "cell_type": "code",
   "execution_count": null,
   "id": "e1c7d443-1795-4c90-839c-f5e07ec620fd",
   "metadata": {},
   "outputs": [],
   "source": [
    "# this cell sets up the nodes\n",
    "for n in node_conf:\n",
    "    slice.add_node(name=n['name'], site=site_name, \n",
    "                   cores=n['cores'], \n",
    "                   ram=n['ram'], \n",
    "                   disk=n['disk'], \n",
    "                   image=n['image'])"
   ]
  },
  {
   "cell_type": "code",
   "execution_count": null,
   "id": "2b76d723-6d0c-4519-9066-34a84f170595",
   "metadata": {},
   "outputs": [],
   "source": [
    "# this cell sets up the network segments\n",
    "for n in net_conf:\n",
    "    ifaces = [slice.get_node(node[\"name\"]).add_component(model=\"NIC_Basic\", \n",
    "                                                 name=n[\"name\"]).get_interfaces()[0] for node in n['nodes'] ]\n",
    "    slice.add_l2network(name=n[\"name\"], type='L2Bridge', interfaces=ifaces)"
   ]
  },
  {
   "cell_type": "markdown",
   "id": "ef6862ae",
   "metadata": {},
   "source": [
    "The following cell submits our request to the FABRIC site. The output of this cell will update automatically as the status of our request changes.\n",
    "\n",
    "While it is being prepared, the “State” of the slice will appear as “Configuring”. When it is ready, the “State” of the slice will change to “StableOK”. You may prefer to walk away and come back in a few minutes (for simple slices) or a few tens of minutes (for more complicated slices with many resources)."
   ]
  },
  {
   "cell_type": "markdown",
   "id": "72ad6833-f08b-4a86-919c-99a55e143c1a",
   "metadata": {},
   "source": [
    "When everything is ready, submit the slice and wait for it to get to \"StableOK\" state.  You can also see the state of your slice on the browser-based interface at https://portal.fabric-testbed.net/experiments#slices.\n",
    "\n",
    "In case of an error, you can modify the slice name in the first cell of the \"Create and submit a slice\" section, to try again with a new slice (different name). Then, return to this cell and click Run > Run All Above Selected Cell. Finally, re-run the `slice.submit()` cell."
   ]
  },
  {
   "cell_type": "code",
   "execution_count": null,
   "id": "623bc221-3f3a-407a-b431-6c55e8c0f8f0",
   "metadata": {},
   "outputs": [],
   "source": [
    "slice.submit()\n"
   ]
  },
  {
   "cell_type": "code",
   "execution_count": null,
   "id": "d5ebc59d",
   "metadata": {},
   "outputs": [],
   "source": [
    "slice.get_state()\n",
    "slice.wait_ssh(progress=True)"
   ]
  },
  {
   "cell_type": "markdown",
   "id": "2878aa3a",
   "metadata": {},
   "source": [
    "## Extend the slice"
   ]
  },
  {
   "cell_type": "code",
   "execution_count": null,
   "id": "7579991a",
   "metadata": {},
   "outputs": [],
   "source": [
    "from datetime import datetime\n",
    "from datetime import timezone\n",
    "from datetime import timedelta\n",
    "\n",
    "# Set end date to 4 days from now\n",
    "end_date = (datetime.now(timezone.utc) + timedelta(days=4)).strftime(\"%Y-%m-%d %H:%M:%S %z\")\n",
    "slice.renew(end_date)"
   ]
  },
  {
   "cell_type": "markdown",
   "id": "81133620-e4a1-49b7-9594-d2019b5693a4",
   "metadata": {},
   "source": [
    "## Configuring the slice"
   ]
  },
  {
   "cell_type": "code",
   "execution_count": null,
   "id": "e59990df-6581-4dde-8e8c-16d8362e175f",
   "metadata": {},
   "outputs": [],
   "source": [
    "slice = fablib.get_slice(name=slice_name)"
   ]
  },
  {
   "cell_type": "code",
   "execution_count": null,
   "id": "f2116a70",
   "metadata": {},
   "outputs": [],
   "source": [
    "# bring interfaces up and either assign an address (if there is one) or flush address\n",
    "from ipaddress import ip_address, IPv4Address, IPv4Network\n",
    "\n",
    "for net in net_conf:\n",
    "    for n in net['nodes']:\n",
    "        if_name = n['name'] + '-' + net['name'] + '-p1'\n",
    "        iface = slice.get_interface(if_name)\n",
    "        iface.ip_link_up()\n",
    "        if n['addr']:\n",
    "            iface.ip_addr_add(addr=n['addr'], subnet=IPv4Network(net['subnet']))\n",
    "        else:\n",
    "            iface.get_node().execute(\"sudo ip addr flush dev %s\"  % iface.get_device_name())"
   ]
  },
  {
   "cell_type": "code",
   "execution_count": null,
   "id": "a26f232f",
   "metadata": {},
   "outputs": [],
   "source": [
    "# enable IPv4 forwarding on all nodes\n",
    "for n in slice.get_nodes():\n",
    "    n.execute(\"sudo sysctl -w net.ipv4.ip_forward=1\")"
   ]
  },
  {
   "cell_type": "code",
   "execution_count": null,
   "id": "508708ec",
   "metadata": {},
   "outputs": [],
   "source": [
    "# set up static routes\n",
    "for rt in route_conf:\n",
    "    for n in rt['nodes']:\n",
    "        slice.get_node(name=n).ip_route_add(subnet=IPv4Network(rt['addr']), gateway=rt['gw'])"
   ]
  },
  {
   "cell_type": "code",
   "execution_count": null,
   "id": "faaaa45f",
   "metadata": {},
   "outputs": [],
   "source": [
    "# turn off segmentation offload on interfaces\n",
    "for iface in slice.get_interfaces():\n",
    "    iface_name = iface.get_device_name()\n",
    "    n = iface.get_node()\n",
    "    offloads = [\"gro\", \"lro\", \"gso\", \"tso\"]\n",
    "    for offload in offloads:\n",
    "        n.execute(\"sudo ethtool -K %s %s off\" % (iface_name, offload))"
   ]
  },
  {
   "cell_type": "code",
   "execution_count": null,
   "id": "cb0a03ab",
   "metadata": {},
   "outputs": [],
   "source": [
    "# Also install `iperf3` on sender and receiver hosts:\n",
    "sender_nodes = [slice.get_node(name='sender-' + str(i))  for i in range(n_endpoints)]\n",
    "receiver_nodes = [slice.get_node(name='receiver-' + str(i))  for i in range(n_endpoints)]\n",
    "\n",
    "from ipaddress import ip_address, IPv6Address\n",
    "for n in sender_nodes:\n",
    "    if type(ip_address(n.get_management_ip())) is IPv6Address:\n",
    "        n.upload_file('nat64.sh', 'nat64.sh')\n",
    "        stdout, stderr = n.execute(f'chmod +x nat64.sh && ./nat64.sh')\n",
    "    n.upload_file(\"iperf-parallel-senders.sh\",\"iperf-parallel-senders.sh\")\n",
    "    n.execute(\"sudo apt-get update; sudo apt-get -y install build-essential \")\n",
    "    n.execute_thread(\"sudo modprobe tcp_bbr\")\n",
    "    #n.execute(\"sudo rm -r /iperf\")\n",
    "    n.execute_thread(\"sudo git clone https://github.com/vinitaparasrampuria/iperf.git /iperf; sudo chmod +x /iperf/configure; sudo bash /iperf/configure;\\\n",
    "                     sudo make; sudo make check; sudo make install; sudo ldconfig\")\n",
    "              \n",
    "for n in receiver_nodes:\n",
    "    n.execute_thread(\"sudo apt update; sudo apt -y install iperf3;  sudo modprobe tcp_bbr\")"
   ]
  },
  {
   "cell_type": "code",
   "execution_count": null,
   "id": "6c124e75",
   "metadata": {},
   "outputs": [],
   "source": [
    "for n in sender_nodes:\n",
    "    n.execute(\"sudo apt-get update; sudo apt-get install -y python3-pip ethtool netcat moreutils \",quiet=True)\n",
    "    n.execute(\"sudo python3 -m pip install scikit-learn numpy pandas matplotlib seaborn\", quiet=True)\n"
   ]
  },
  {
   "cell_type": "code",
   "execution_count": null,
   "id": "8f542bbb",
   "metadata": {},
   "outputs": [],
   "source": [
    "for n in sender_nodes:\n",
    "    n.execute(\"iperf3 -version\")"
   ]
  },
  {
   "cell_type": "code",
   "execution_count": null,
   "id": "18a9449c",
   "metadata": {},
   "outputs": [],
   "source": [
    "for n in receiver_nodes:\n",
    "    n.upload_file(\"iperf-parallel-servers.sh\",\"iperf-parallel-servers.sh\")"
   ]
  },
  {
   "cell_type": "markdown",
   "id": "a280f627-f32c-4347-954d-96eaea99e75a",
   "metadata": {},
   "source": [
    "## Draw the topology"
   ]
  },
  {
   "cell_type": "code",
   "execution_count": null,
   "id": "51077bc7-1e5d-4015-b34e-553970163f5f",
   "metadata": {},
   "outputs": [],
   "source": [
    "l2_nets = [(n.get_name(), {'color': 'lavender'}) for n in slice.get_l2networks() ]\n",
    "l3_nets = [(n.get_name(), {'color': 'pink'}) for n in slice.get_l3networks() ]\n",
    "hosts   =   [(n.get_name(), {'color': 'lightblue'}) for n in slice.get_nodes()]\n",
    "all_nodes = l2_nets + l3_nets + hosts\n",
    "ifaces = [iface.toDict() for iface in slice.get_interfaces()]\n",
    "print(ifaces[0])\n",
    "print(ifaces[1])\n",
    "edges = [(iface['network'], iface['node'], \n",
    "          {'label': iface['physical_dev'] + '\\n' + iface['ip_addr'] + '\\n' + iface['mac']}) for iface in ifaces]\n",
    "print(edges)"
   ]
  },
  {
   "cell_type": "code",
   "execution_count": null,
   "id": "336f6b5e-f2dc-4748-9426-0980084276af",
   "metadata": {},
   "outputs": [],
   "source": [
    "import networkx as nx\n",
    "import matplotlib.pyplot as plt\n",
    "plt.figure(figsize=(len(all_nodes),len(all_nodes)))\n",
    "G = nx.Graph()\n",
    "G.add_nodes_from(all_nodes)\n",
    "G.add_edges_from(edges)\n",
    "pos = nx.spring_layout(G)\n",
    "nx.draw(G, pos, node_shape='s',  \n",
    "        node_color=[n[1]['color'] for n in all_nodes], \n",
    "        node_size=[len(n[0])*400 for n in all_nodes],  \n",
    "        with_labels=True);\n",
    "nx.draw_networkx_edge_labels(G,pos,\n",
    "                             edge_labels=nx.get_edge_attributes(G,'label'),\n",
    "                             font_color='gray',  font_size=8, rotate=False);\n",
    "     "
   ]
  },
  {
   "cell_type": "markdown",
   "id": "61b12a10",
   "metadata": {},
   "source": [
    "## Delete your slice"
   ]
  },
  {
   "cell_type": "code",
   "execution_count": null,
   "id": "c442ffb9-1448-4d2e-9ff0-0eb4bd178422",
   "metadata": {},
   "outputs": [],
   "source": [
    "slice.delete()"
   ]
  },
  {
   "cell_type": "markdown",
   "id": "c9179d1a",
   "metadata": {},
   "source": [
    "# slice should end up in \"Dead\" state\n",
    "# re-run this cell until you see it in \"Dead\" state\n",
    "slice.update()\n",
    "_ = slice.show()"
   ]
  }
 ],
 "metadata": {
  "kernelspec": {
   "display_name": "Python 3 (ipykernel)",
   "language": "python",
   "name": "python3"
  },
  "language_info": {
   "codemirror_mode": {
    "name": "ipython",
    "version": 3
   },
   "file_extension": ".py",
   "mimetype": "text/x-python",
   "name": "python",
   "nbconvert_exporter": "python",
   "pygments_lexer": "ipython3",
   "version": "3.10.6"
  }
 },
 "nbformat": 4,
 "nbformat_minor": 5
}
