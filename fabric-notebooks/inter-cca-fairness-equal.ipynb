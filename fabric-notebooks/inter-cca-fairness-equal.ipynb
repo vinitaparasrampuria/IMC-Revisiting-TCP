{
 "cells": [
  {
   "cell_type": "markdown",
   "id": "02a5be90-977a-4948-a299-b5df71273eef",
   "metadata": {},
   "source": [
    "# Experiment to observe \"Intra-CCA fairness by Reno, Cubic and BBR at Edge and Core Scale\""
   ]
  },
  {
   "cell_type": "markdown",
   "id": "79d083f0-5028-4517-8d4e-eba13f28cac4",
   "metadata": {},
   "source": [
    "## Set up your FABRIC environment\n"
   ]
  },
  {
   "cell_type": "code",
   "execution_count": null,
   "id": "9cf58277-480d-4459-a9c6-08a085b1313e",
   "metadata": {},
   "outputs": [],
   "source": [
    "from fabrictestbed_extensions.fablib.fablib import FablibManager as fablib_manager\n",
    "fablib = fablib_manager() \n",
    "fablib.show_config()"
   ]
  },
  {
   "cell_type": "code",
   "execution_count": null,
   "id": "4ccb86ad-4f11-4dcd-acf8-748361d615c8",
   "metadata": {},
   "outputs": [],
   "source": [
    "!chmod 600 {fablib.get_bastion_key_filename()}\n",
    "!chmod 600 {fablib.get_default_slice_private_key_file()}"
   ]
  },
  {
   "cell_type": "markdown",
   "id": "1a288b3d-4162-4249-8c9a-111ddb4beecf",
   "metadata": {},
   "source": [
    "## Get slice details"
   ]
  },
  {
   "cell_type": "markdown",
   "id": "a7704d48-a158-4c40-ba58-9ea4f462706c",
   "metadata": {},
   "source": [
    "Put your slice name and the number of endpoints in the following cell:"
   ]
  },
  {
   "cell_type": "code",
   "execution_count": null,
   "id": "d3047eaf-4fb4-40c1-8dd0-c2f364685384",
   "metadata": {},
   "outputs": [],
   "source": [
    "n_endpoints = 10\n",
    "slice_name=\"bottleneck-\" + str(n_endpoints) + '-test'"
   ]
  },
  {
   "cell_type": "markdown",
   "id": "832e8f83-c35a-4669-98b5-647ef965efb1",
   "metadata": {},
   "source": [
    "Then, load your slice details into the environment.slice = fablib.new_slice(name=slice_name)"
   ]
  },
  {
   "cell_type": "code",
   "execution_count": null,
   "id": "26f9af4c-28f9-4314-8791-878b4c41d5c6",
   "metadata": {},
   "outputs": [],
   "source": [
    "slice = fablib.get_slice(name=slice_name)"
   ]
  },
  {
   "cell_type": "code",
   "execution_count": null,
   "id": "1ac3a090-f28c-4665-a470-06a9967decac",
   "metadata": {},
   "outputs": [],
   "source": [
    "sender_nodes = [slice.get_node(name='sender-' + str(i))  for i in range(n_endpoints)]\n",
    "receiver_nodes = [slice.get_node(name='receiver-' + str(i))  for i in range(n_endpoints)]"
   ]
  },
  {
   "cell_type": "code",
   "execution_count": null,
   "id": "0d7db1cb-7e04-4077-bcd2-c135b78d8cd2",
   "metadata": {},
   "outputs": [],
   "source": [
    "router_node = slice.get_node(name='router')\n",
    "router_ingress_iface = router_node.get_interface(network_name = \"link-sender\")\n",
    "router_egress_iface  = router_node.get_interface(network_name = \"link-receiver\")\n",
    "router_egress_name = router_egress_iface.get_device_name()"
   ]
  },
  {
   "cell_type": "markdown",
   "id": "43392b9f-43fc-4f4a-9734-f63bc99a882f",
   "metadata": {},
   "source": [
    "## Generate flows"
   ]
  },
  {
   "cell_type": "markdown",
   "id": "1a55ca7d-058b-4974-ba1e-47c074d9f50e",
   "metadata": {
    "tags": []
   },
   "source": [
    "### Set experiment parameters\n",
    "\n",
    ">delay, cca, test_duration, num_servers, flows"
   ]
  },
  {
   "cell_type": "markdown",
   "id": "b034aa90-b05f-4b1f-93d7-c7475100a6cb",
   "metadata": {},
   "source": [
    "delay is the delay to be set at the receiver (20 ms,100 ms,200 ms)\n",
    "\n",
    "num_servers is the number of ports to be opened on each receiver. For core scale we are opening 10 ports and for edge scale we are opening 1 port\n",
    "\n",
    "test_duration is the time for which to send the iperf3 flows\n",
    "\n",
    "cca1 is the first congestion control algorithm (bbr, reno or cubic); cca2 is the second congestion control algorithm (bbr, reno or cubic)\n",
    "\n",
    "flows is the number of parallel flows to be send from each port\n",
    "\n",
    "For sending 1000 flows set num_servers=10 and flows=10. This will send 100 flows from each of the 10 senders."
   ]
  },
  {
   "cell_type": "code",
   "execution_count": null,
   "id": "ba875fc8-39b8-4cd2-a677-6ec5eb2f5643",
   "metadata": {},
   "outputs": [],
   "source": [
    "cca1=\"bbr\"\n",
    "cca2=\"reno\"\n",
    "delay=20\n",
    "test_duration=60\n",
    "num_servers=10\n",
    "flows=10"
   ]
  },
  {
   "cell_type": "markdown",
   "id": "9d982f36-1870-4caa-a89d-bef2fcbb0db2",
   "metadata": {
    "tags": []
   },
   "source": [
    "## Remove existing result files from the hosts"
   ]
  },
  {
   "cell_type": "code",
   "execution_count": null,
   "id": "851f44aa-75ed-45cb-a868-7445248c4a91",
   "metadata": {},
   "outputs": [],
   "source": [
    "for n in receiver_nodes:\n",
    "    n.execute(\"rm -f ./*\")\n",
    "\n",
    "for n in sender_nodes:\n",
    "    n.execute(\"rm -f ./*\")"
   ]
  },
  {
   "cell_type": "code",
   "execution_count": null,
   "id": "f9f35c26-d50a-4a6f-8db9-9d78b102784c",
   "metadata": {},
   "outputs": [],
   "source": [
    "for n in sender_nodes:\n",
    "    n.execute(\"ls\")"
   ]
  },
  {
   "cell_type": "code",
   "execution_count": null,
   "id": "825a33d5-bbb8-4fe4-bc8a-74c69c6e75a7",
   "metadata": {},
   "outputs": [],
   "source": [
    "for n in receiver_nodes:\n",
    "    n.execute(\"ls\")"
   ]
  },
  {
   "cell_type": "markdown",
   "id": "e5f7d159-ebb5-46e9-850a-9a250e6a24a8",
   "metadata": {
    "tags": []
   },
   "source": [
    "### Set delay on the receiver\n",
    "\n",
    "> Values: 20ms, 100ms, 200ms"
   ]
  },
  {
   "cell_type": "markdown",
   "id": "88f91f98-5f34-4081-9493-539454fb1f37",
   "metadata": {},
   "source": [
    "Now set up delay on the receiver interface:\n",
    "\n",
    "First delete any existing queue (don't worry if there is an error, it means there was not!)"
   ]
  },
  {
   "cell_type": "code",
   "execution_count": null,
   "id": "7a0da211-a87d-4dc1-b931-205b19fa3dd9",
   "metadata": {},
   "outputs": [],
   "source": [
    "for n in receiver_nodes:\n",
    "    receiver_inf=n.get_interface(network_name= \"link-receiver\")\n",
    "    receiver_inf_name = receiver_inf.get_device_name()\n",
    "    n.execute(\"sudo tc qdisc del dev \" + receiver_inf_name + \" root netem\")\n",
    "    n.execute(\"sudo tc qdisc add dev \" + receiver_inf_name + \" root netem delay \" + str(delay) +\"ms limit 1000000\")\n",
    "    "
   ]
  },
  {
   "cell_type": "markdown",
   "id": "15f1e6bb-6a90-44ad-8507-752522462b1e",
   "metadata": {},
   "source": [
    "### Start parallel servers on the receivers\n",
    "\n",
    "In this, the base_port is the starting address of port number"
   ]
  },
  {
   "cell_type": "markdown",
   "id": "dca45d0f-e883-4be4-a803-bf2fba9f25cb",
   "metadata": {},
   "source": [
    "Now start the `iperf3` flows:"
   ]
  },
  {
   "cell_type": "code",
   "execution_count": null,
   "id": "7382ceb2-e264-43c3-8f09-183ff2785f02",
   "metadata": {},
   "outputs": [],
   "source": [
    "\n",
    "        \n",
    "base_port=50000\n",
    "for i in range(0,10):\n",
    "    receiver_nodes[i].execute(\"sudo killall iperf3\")\n",
    "for i in range(0,10):\n",
    "    for k in range (1,num_servers+1): \n",
    "        \n",
    "        server_port=base_port+k\n",
    "        report_file=str(server_port)+\"-server.dat\"\n",
    "        receiver_nodes[i].execute_thread(\"iperf3 -s -p \"+str(server_port)+\" -D --logfile \"+report_file)"
   ]
  },
  {
   "cell_type": "code",
   "execution_count": null,
   "id": "abb0ea39-f838-4955-9f5d-4ab76d7fb55b",
   "metadata": {},
   "outputs": [],
   "source": [
    "#check files in all receiver\n",
    "for n in receiver_nodes:\n",
    "    n.execute(\"ls\")"
   ]
  },
  {
   "cell_type": "markdown",
   "id": "f01ac966-681b-40de-aa48-d80577deda44",
   "metadata": {},
   "source": [
    "### Start parallel clients on the senders\n",
    "\n",
    "In this, the base_port is the starting address of port number on the receiver\n"
   ]
  },
  {
   "cell_type": "code",
   "execution_count": null,
   "id": "2e058f8f-200b-4b30-acd7-d238a98b7690",
   "metadata": {},
   "outputs": [],
   "source": [
    "import time\n",
    "base_port=60000\n",
    "\n",
    "\n",
    "for n in sender_nodes:\n",
    "    n.execute(\"sudo killall iperf3\")\n",
    "\n",
    "for i,n in enumerate(sender_nodes):\n",
    "    if i<5:\n",
    "        for k in range (0,num_servers):\n",
    "            server_port=base_port+k+1\n",
    "            report_file=\"sender-10.10.2.1\"+str(k)+\"-\"+str(server_port)+\"-\"+str(test_duration)+\"-\"+cca1+\".txt\"\n",
    "            n.execute_thread(\"iperf3 -c 10.10.2.1\"+str(i)+ \"-p \"+str(server_port)+ \" -t \"+str(test_duration)+ \" -C \"+cca1+\" -P \"+str(flows)+ \" --format k $>\"+report_file+ \" &\")\n",
    "    else:\n",
    "        for k in range (0,num_servers):\n",
    "            server_port=base_port+k+1\n",
    "            report_file=\"sender-10.10.2.1\"+str(k)+\"-\"+str(server_port)+\"-\"+str(test_duration)+\"-\"+cca2+\".txt\"\n",
    "            n.execute_thread(\"iperf3 -c 10.10.2.1\"+str(i)+ \"-p \"+str(server_port)+ \" -t \"+str(test_duration)+ \" -C \"+cca2+\" -P \"+str(flows)+ \" --format k $>\"+report_file+ \" &\")\n",
    "time.sleep(test_duration+300)              "
   ]
  },
  {
   "cell_type": "code",
   "execution_count": null,
   "id": "042cffdf-3023-4f71-8d7a-f8c28ef64bb2",
   "metadata": {},
   "outputs": [],
   "source": [
    "#check files on all the senders\n",
    "for n in sender_nodes:\n",
    "    n.execute(\"ls\")"
   ]
  },
  {
   "cell_type": "markdown",
   "id": "cfd3071b-334e-458b-80f9-0aa9bc49896a",
   "metadata": {},
   "source": [
    "## Analyze the results"
   ]
  },
  {
   "cell_type": "markdown",
   "id": "e9aa8653-ba42-444a-a73a-c901909bc995",
   "metadata": {},
   "source": [
    "Transfer files from hosts to router"
   ]
  },
  {
   "cell_type": "markdown",
   "id": "2a4c7365-ce87-430b-a9fd-d1567397464d",
   "metadata": {},
   "source": [
    "Calculate sum of bandwidth, square of sum of bandwidth, count of flows and jfi:"
   ]
  },
  {
   "cell_type": "code",
   "execution_count": null,
   "id": "48fc986e-9efc-45d0-a498-7505535cd4b1",
   "metadata": {},
   "outputs": [],
   "source": [
    "\n",
    "\n",
    "# for n in sender_nodes:\n",
    "#     (sum_sen, serr)=n.execute(\"grep -r -E \\\"[0-9].*0.00-\"+str(test_duration)+\".*sender\\\" . |awk '{sum+=$7}END {print sum}'\")\n",
    "#     sum_bw.append(float(sum_sen.strip()))\n",
    "#     (sum_sq, sqerr)=n.execute(\"grep -r -E \\\"[0-9].*0.00-\"+str(test_duration)+\".*sender\\\" . |awk '{sum+=$7*$7}END {print sum}'\")\n",
    "#     sum_sq_bw.append(float(sum_sq.strip()))\n",
    "#     (ncount, ncerr)=n.execute(\"grep -r -E \\\"[0-9].*0.00-\"+str(test_duration)+\".*sender\\\" . |awk '{count+=1}END {print count}'\")\n",
    "#     count_flow.append(int(ncount.strip()))\n",
    "\n",
    "\n",
    "\n",
    "sum_bw1 = []\n",
    "count_flow1 = []\n",
    "\n",
    "sum_bw2 = []\n",
    "count_flow2 = []\n",
    "\n",
    "for i,n in enumerate(sender_nodes):\n",
    "    if i<5:\n",
    "        (sum_sen1, serr1)=n.execute(\"grep -r -E \\\"[0-9].*0.00-[0-9].*sender --include *\"+cca1+\".txt . |awk '{sum+=$7}END {print sum}'\")\n",
    "        sum_bw1.append(float(sum_sen.strip()))\n",
    "        (ncount1,ncerr1)=n.execute(\"grep -r -E \\\"[0-9].*0.00-[0-9].*sender\\\" --include *\"+cca1+\".txt . |awk '{count+=1}END {print count}'\")\n",
    "        count_flow1.append(ncount1.strip())\n",
    "    else:\n",
    "        (sum_sen2, serr2)=n.execute(\"grep -r -E \\\"[0-9].*0.00-[0-9].*sender\\\" --include *\"+cca2+\".txt . |awk '{sum+=$7}END {print sum}'\")\n",
    "        sum_bw2.append(float(sum_sen2.strip()))\n",
    "        (ncount2,ncerr2)=n.execute(\"grep -r -E \\\"[0-9].*0.00-[0-9].*sender\\\"--include *\"+cca2+\".txt . |awk '{count+=1}END {print count}'\")\n",
    "        count_flow2.append(ncount2.strip())\n",
    "\n",
    "\n",
    "tput1=sum(sum_bw1)\n",
    "c1=sum(count_flow1)\n",
    "\n",
    "print(\"Sum of bandwidth of \"+cca1+ \" is %f Kbits/sec \" % tput1)\n",
    "print(\"Count of flows of \" +cca1+ \" is \" + c1)\n",
    "\n",
    "tput2=sum(sum_bw2)\n",
    "c2=sum(count_flow2)\n",
    "\n",
    "print(\"Sum of bandwidth of \"+cca2+ \" is %f Kbits/sec \" % tput2)\n",
    "print(\"Count of flows of \" +cca2+ \" is \" + c2)"
   ]
  },
  {
   "cell_type": "code",
   "execution_count": null,
   "id": "67289e8c-ee1d-48cd-b4cd-7b3f070e5291",
   "metadata": {},
   "outputs": [],
   "source": [
    "import csv\n",
    "import sys\n",
    "import os\n",
    "\n",
    "jfi_filename='jfi.csv'\n",
    "if not os.path.isfile(jfi_filename):\n",
    "    with open(jfi_filename, 'a', newline='') as csvfile:\n",
    "        writer = csv.writer(csvfile)\n",
    "        header ='CCA1', 'CCA2', 'Duration of Expt(sec)', 'Base RTT(ms)', 'Total Bandwidth(Kbps)', 'BW_CCA1', 'BW_CCA2', 'Count_CCA1', 'Count_CCA2', 'BW_CCA1/BW'\n",
    "        writer.writerow(header)\n",
    "    \n",
    "with open(jfi_filename, 'a', newline='') as csvfile:\n",
    "    writer = csv.writer(csvfile)\n",
    "    columns = cca1, cca2, test_duration, delay, tput1+tput2, tput1, tput2, c1, c2, tput2/(tput1+tput2)\n",
    "    writer.writerow(columns)\n"
   ]
  }
 ],
 "metadata": {
  "kernelspec": {
   "display_name": "Python 3 (ipykernel)",
   "language": "python",
   "name": "python3"
  },
  "language_info": {
   "codemirror_mode": {
    "name": "ipython",
    "version": 3
   },
   "file_extension": ".py",
   "mimetype": "text/x-python",
   "name": "python",
   "nbconvert_exporter": "python",
   "pygments_lexer": "ipython3",
   "version": "3.10.6"
  }
 },
 "nbformat": 4,
 "nbformat_minor": 5
}
