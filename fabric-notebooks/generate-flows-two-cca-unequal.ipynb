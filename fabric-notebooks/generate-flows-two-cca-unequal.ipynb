{
 "cells": [
  {
   "cell_type": "markdown",
   "id": "02a5be90-977a-4948-a299-b5df71273eef",
   "metadata": {},
   "source": [
    "# CoreScale results for \"Revisiting TCP Congestion Control Throughput Models & Fairness Properties at Scale\""
   ]
  },
  {
   "cell_type": "markdown",
   "id": "79d083f0-5028-4517-8d4e-eba13f28cac4",
   "metadata": {},
   "source": [
    "## Set up your FABRIC environment\n"
   ]
  },
  {
   "cell_type": "code",
   "execution_count": 30,
   "id": "9cf58277-480d-4459-a9c6-08a085b1313e",
   "metadata": {},
   "outputs": [
    {
     "data": {
      "text/html": [
       "<style type=\"text/css\">\n",
       "#T_00a06 tr:nth-child(even) {\n",
       "  background: #dbf3ff;\n",
       "  color: #231f20;\n",
       "}\n",
       "#T_00a06 tr:nth-child(odd) {\n",
       "  background: #ffffff;\n",
       "  color: #231f20;\n",
       "}\n",
       "#T_00a06 caption {\n",
       "  text-align: center;\n",
       "  font-size: 150%;\n",
       "}\n",
       "#T_00a06_row0_col0, #T_00a06_row0_col1, #T_00a06_row1_col0, #T_00a06_row1_col1, #T_00a06_row2_col0, #T_00a06_row2_col1, #T_00a06_row3_col0, #T_00a06_row3_col1, #T_00a06_row4_col0, #T_00a06_row4_col1, #T_00a06_row5_col0, #T_00a06_row5_col1, #T_00a06_row6_col0, #T_00a06_row6_col1, #T_00a06_row7_col0, #T_00a06_row7_col1, #T_00a06_row8_col0, #T_00a06_row8_col1, #T_00a06_row9_col0, #T_00a06_row9_col1, #T_00a06_row10_col0, #T_00a06_row10_col1, #T_00a06_row11_col0, #T_00a06_row11_col1, #T_00a06_row12_col0, #T_00a06_row12_col1 {\n",
       "  text-align: left;\n",
       "  border: 1px #231f20 solid !important;\n",
       "  overwrite: False;\n",
       "}\n",
       "</style>\n",
       "<table id=\"T_00a06\">\n",
       "  <caption>FABlib Config</caption>\n",
       "  <thead>\n",
       "  </thead>\n",
       "  <tbody>\n",
       "    <tr>\n",
       "      <td id=\"T_00a06_row0_col0\" class=\"data row0 col0\" >Credential Manager</td>\n",
       "      <td id=\"T_00a06_row0_col1\" class=\"data row0 col1\" >cm.fabric-testbed.net</td>\n",
       "    </tr>\n",
       "    <tr>\n",
       "      <td id=\"T_00a06_row1_col0\" class=\"data row1 col0\" >Orchestrator</td>\n",
       "      <td id=\"T_00a06_row1_col1\" class=\"data row1 col1\" >orchestrator.fabric-testbed.net</td>\n",
       "    </tr>\n",
       "    <tr>\n",
       "      <td id=\"T_00a06_row2_col0\" class=\"data row2 col0\" >Token File</td>\n",
       "      <td id=\"T_00a06_row2_col1\" class=\"data row2 col1\" >/home/fabric/.tokens.json</td>\n",
       "    </tr>\n",
       "    <tr>\n",
       "      <td id=\"T_00a06_row3_col0\" class=\"data row3 col0\" >Project ID</td>\n",
       "      <td id=\"T_00a06_row3_col1\" class=\"data row3 col1\" >073ee843-2310-45bd-a01f-a15d808827dc</td>\n",
       "    </tr>\n",
       "    <tr>\n",
       "      <td id=\"T_00a06_row4_col0\" class=\"data row4 col0\" >Bastion Username</td>\n",
       "      <td id=\"T_00a06_row4_col1\" class=\"data row4 col1\" >ffund_0041777137</td>\n",
       "    </tr>\n",
       "    <tr>\n",
       "      <td id=\"T_00a06_row5_col0\" class=\"data row5 col0\" >Bastion Private Key File</td>\n",
       "      <td id=\"T_00a06_row5_col1\" class=\"data row5 col1\" >/home/fabric/work/fabric_config/fabric_bastion_key</td>\n",
       "    </tr>\n",
       "    <tr>\n",
       "      <td id=\"T_00a06_row6_col0\" class=\"data row6 col0\" >Bastion Host</td>\n",
       "      <td id=\"T_00a06_row6_col1\" class=\"data row6 col1\" >bastion.fabric-testbed.net</td>\n",
       "    </tr>\n",
       "    <tr>\n",
       "      <td id=\"T_00a06_row7_col0\" class=\"data row7 col0\" >Bastion Private Key Passphrase</td>\n",
       "      <td id=\"T_00a06_row7_col1\" class=\"data row7 col1\" >None</td>\n",
       "    </tr>\n",
       "    <tr>\n",
       "      <td id=\"T_00a06_row8_col0\" class=\"data row8 col0\" >Slice Public Key File</td>\n",
       "      <td id=\"T_00a06_row8_col1\" class=\"data row8 col1\" >/home/fabric/work/fabric_config/slice_key.pub</td>\n",
       "    </tr>\n",
       "    <tr>\n",
       "      <td id=\"T_00a06_row9_col0\" class=\"data row9 col0\" >Slice Private Key File</td>\n",
       "      <td id=\"T_00a06_row9_col1\" class=\"data row9 col1\" >/home/fabric/work/fabric_config/slice_key</td>\n",
       "    </tr>\n",
       "    <tr>\n",
       "      <td id=\"T_00a06_row10_col0\" class=\"data row10 col0\" >Slice Private Key Passphrase</td>\n",
       "      <td id=\"T_00a06_row10_col1\" class=\"data row10 col1\" >None</td>\n",
       "    </tr>\n",
       "    <tr>\n",
       "      <td id=\"T_00a06_row11_col0\" class=\"data row11 col0\" >Log File</td>\n",
       "      <td id=\"T_00a06_row11_col1\" class=\"data row11 col1\" >/home/fabric/fablib.log</td>\n",
       "    </tr>\n",
       "    <tr>\n",
       "      <td id=\"T_00a06_row12_col0\" class=\"data row12 col0\" >Log Level</td>\n",
       "      <td id=\"T_00a06_row12_col1\" class=\"data row12 col1\" >INFO</td>\n",
       "    </tr>\n",
       "  </tbody>\n",
       "</table>\n"
      ],
      "text/plain": [
       "<pandas.io.formats.style.Styler at 0x7f793474cc10>"
      ]
     },
     "metadata": {},
     "output_type": "display_data"
    },
    {
     "data": {
      "text/html": [
       "<style type=\"text/css\">\n",
       "#T_00a06 tr:nth-child(even) {\n",
       "  background: #dbf3ff;\n",
       "  color: #231f20;\n",
       "}\n",
       "#T_00a06 tr:nth-child(odd) {\n",
       "  background: #ffffff;\n",
       "  color: #231f20;\n",
       "}\n",
       "#T_00a06 caption {\n",
       "  text-align: center;\n",
       "  font-size: 150%;\n",
       "}\n",
       "#T_00a06_row0_col0, #T_00a06_row0_col1, #T_00a06_row1_col0, #T_00a06_row1_col1, #T_00a06_row2_col0, #T_00a06_row2_col1, #T_00a06_row3_col0, #T_00a06_row3_col1, #T_00a06_row4_col0, #T_00a06_row4_col1, #T_00a06_row5_col0, #T_00a06_row5_col1, #T_00a06_row6_col0, #T_00a06_row6_col1, #T_00a06_row7_col0, #T_00a06_row7_col1, #T_00a06_row8_col0, #T_00a06_row8_col1, #T_00a06_row9_col0, #T_00a06_row9_col1, #T_00a06_row10_col0, #T_00a06_row10_col1, #T_00a06_row11_col0, #T_00a06_row11_col1, #T_00a06_row12_col0, #T_00a06_row12_col1 {\n",
       "  text-align: left;\n",
       "  border: 1px #231f20 solid !important;\n",
       "  overwrite: False;\n",
       "}\n",
       "</style>\n",
       "<table id=\"T_00a06\">\n",
       "  <caption>FABlib Config</caption>\n",
       "  <thead>\n",
       "  </thead>\n",
       "  <tbody>\n",
       "    <tr>\n",
       "      <td id=\"T_00a06_row0_col0\" class=\"data row0 col0\" >Credential Manager</td>\n",
       "      <td id=\"T_00a06_row0_col1\" class=\"data row0 col1\" >cm.fabric-testbed.net</td>\n",
       "    </tr>\n",
       "    <tr>\n",
       "      <td id=\"T_00a06_row1_col0\" class=\"data row1 col0\" >Orchestrator</td>\n",
       "      <td id=\"T_00a06_row1_col1\" class=\"data row1 col1\" >orchestrator.fabric-testbed.net</td>\n",
       "    </tr>\n",
       "    <tr>\n",
       "      <td id=\"T_00a06_row2_col0\" class=\"data row2 col0\" >Token File</td>\n",
       "      <td id=\"T_00a06_row2_col1\" class=\"data row2 col1\" >/home/fabric/.tokens.json</td>\n",
       "    </tr>\n",
       "    <tr>\n",
       "      <td id=\"T_00a06_row3_col0\" class=\"data row3 col0\" >Project ID</td>\n",
       "      <td id=\"T_00a06_row3_col1\" class=\"data row3 col1\" >073ee843-2310-45bd-a01f-a15d808827dc</td>\n",
       "    </tr>\n",
       "    <tr>\n",
       "      <td id=\"T_00a06_row4_col0\" class=\"data row4 col0\" >Bastion Username</td>\n",
       "      <td id=\"T_00a06_row4_col1\" class=\"data row4 col1\" >ffund_0041777137</td>\n",
       "    </tr>\n",
       "    <tr>\n",
       "      <td id=\"T_00a06_row5_col0\" class=\"data row5 col0\" >Bastion Private Key File</td>\n",
       "      <td id=\"T_00a06_row5_col1\" class=\"data row5 col1\" >/home/fabric/work/fabric_config/fabric_bastion_key</td>\n",
       "    </tr>\n",
       "    <tr>\n",
       "      <td id=\"T_00a06_row6_col0\" class=\"data row6 col0\" >Bastion Host</td>\n",
       "      <td id=\"T_00a06_row6_col1\" class=\"data row6 col1\" >bastion.fabric-testbed.net</td>\n",
       "    </tr>\n",
       "    <tr>\n",
       "      <td id=\"T_00a06_row7_col0\" class=\"data row7 col0\" >Bastion Private Key Passphrase</td>\n",
       "      <td id=\"T_00a06_row7_col1\" class=\"data row7 col1\" >None</td>\n",
       "    </tr>\n",
       "    <tr>\n",
       "      <td id=\"T_00a06_row8_col0\" class=\"data row8 col0\" >Slice Public Key File</td>\n",
       "      <td id=\"T_00a06_row8_col1\" class=\"data row8 col1\" >/home/fabric/work/fabric_config/slice_key.pub</td>\n",
       "    </tr>\n",
       "    <tr>\n",
       "      <td id=\"T_00a06_row9_col0\" class=\"data row9 col0\" >Slice Private Key File</td>\n",
       "      <td id=\"T_00a06_row9_col1\" class=\"data row9 col1\" >/home/fabric/work/fabric_config/slice_key</td>\n",
       "    </tr>\n",
       "    <tr>\n",
       "      <td id=\"T_00a06_row10_col0\" class=\"data row10 col0\" >Slice Private Key Passphrase</td>\n",
       "      <td id=\"T_00a06_row10_col1\" class=\"data row10 col1\" >None</td>\n",
       "    </tr>\n",
       "    <tr>\n",
       "      <td id=\"T_00a06_row11_col0\" class=\"data row11 col0\" >Log File</td>\n",
       "      <td id=\"T_00a06_row11_col1\" class=\"data row11 col1\" >/home/fabric/fablib.log</td>\n",
       "    </tr>\n",
       "    <tr>\n",
       "      <td id=\"T_00a06_row12_col0\" class=\"data row12 col0\" >Log Level</td>\n",
       "      <td id=\"T_00a06_row12_col1\" class=\"data row12 col1\" >INFO</td>\n",
       "    </tr>\n",
       "  </tbody>\n",
       "</table>\n"
      ],
      "text/plain": [
       "<pandas.io.formats.style.Styler at 0x7f793474cc10>"
      ]
     },
     "execution_count": 30,
     "metadata": {},
     "output_type": "execute_result"
    }
   ],
   "source": [
    "from fabrictestbed_extensions.fablib.fablib import FablibManager as fablib_manager\n",
    "fablib = fablib_manager() \n",
    "fablib.show_config()"
   ]
  },
  {
   "cell_type": "code",
   "execution_count": 31,
   "id": "4ccb86ad-4f11-4dcd-acf8-748361d615c8",
   "metadata": {},
   "outputs": [],
   "source": [
    "!chmod 600 {fablib.get_bastion_key_filename()}\n",
    "!chmod 600 {fablib.get_default_slice_private_key_file()}"
   ]
  },
  {
   "cell_type": "markdown",
   "id": "1a288b3d-4162-4249-8c9a-111ddb4beecf",
   "metadata": {},
   "source": [
    "## Get slice details"
   ]
  },
  {
   "cell_type": "markdown",
   "id": "a7704d48-a158-4c40-ba58-9ea4f462706c",
   "metadata": {},
   "source": [
    "Put your slice name and the number of endpoints in the following cell:"
   ]
  },
  {
   "cell_type": "code",
   "execution_count": 32,
   "id": "d3047eaf-4fb4-40c1-8dd0-c2f364685384",
   "metadata": {},
   "outputs": [],
   "source": [
    "slice_name = \"bottleneck-10-imc\"\n",
    "n_endpoints = 10"
   ]
  },
  {
   "cell_type": "markdown",
   "id": "832e8f83-c35a-4669-98b5-647ef965efb1",
   "metadata": {},
   "source": [
    "Then, load your slice details into the environment.slice = fablib.new_slice(name=slice_name)"
   ]
  },
  {
   "cell_type": "code",
   "execution_count": 33,
   "id": "26f9af4c-28f9-4314-8791-878b4c41d5c6",
   "metadata": {},
   "outputs": [],
   "source": [
    "slice = fablib.get_slice(name=slice_name)"
   ]
  },
  {
   "cell_type": "code",
   "execution_count": 34,
   "id": "1ac3a090-f28c-4665-a470-06a9967decac",
   "metadata": {},
   "outputs": [],
   "source": [
    "sender_nodes = [slice.get_node(name='sender-' + str(i))  for i in range(n_endpoints)]\n",
    "receiver_nodes = [slice.get_node(name='receiver-' + str(i))  for i in range(n_endpoints)]"
   ]
  },
  {
   "cell_type": "code",
   "execution_count": 35,
   "id": "0d7db1cb-7e04-4077-bcd2-c135b78d8cd2",
   "metadata": {},
   "outputs": [],
   "source": [
    "router_node = slice.get_node(name='router')\n",
    "router_ingress_iface = router_node.get_interface(network_name = \"link-sender\")\n",
    "router_egress_iface  = router_node.get_interface(network_name = \"link-receiver\")\n",
    "router_egress_name = router_egress_iface.get_device_name()"
   ]
  },
  {
   "cell_type": "markdown",
   "id": "43392b9f-43fc-4f4a-9734-f63bc99a882f",
   "metadata": {},
   "source": [
    "## Generate flows"
   ]
  },
  {
   "cell_type": "markdown",
   "id": "1a55ca7d-058b-4974-ba1e-47c074d9f50e",
   "metadata": {
    "tags": []
   },
   "source": [
    "### Set experiment parameters\n",
    "\n",
    ">delay, cca, test_duration, num_servers, flows"
   ]
  },
  {
   "cell_type": "markdown",
   "id": "b034aa90-b05f-4b1f-93d7-c7475100a6cb",
   "metadata": {},
   "source": [
    "delay is the delay to be set at the receiver (20 ms,100 ms,200 ms)\n",
    "\n",
    "num_servers is the number of ports to be opened on each receiver. For core scale we are opening 10 ports and for edge scale we are opening 1 port\n",
    "\n",
    "test_duration is the time for which to send the iperf3 flows\n",
    "\n",
    "cca1 is the first congestion control algorithm (bbr, reno or cubic)\n",
    "cca2 is the second congestion control algorithm (bbr, reno or cubic)\n",
    "\n",
    "flows is the number of parallel flows to be send from each port\n",
    "\n",
    "For sending 1000 flows set num_servers=10 and flows=10. This will send 100 flows from each of the 10 senders."
   ]
  },
  {
   "cell_type": "code",
   "execution_count": null,
   "id": "ba875fc8-39b8-4cd2-a677-6ec5eb2f5643",
   "metadata": {},
   "outputs": [],
   "source": [
    "cca1=\"bbr\"\n",
    "cca2=\"reno\"\n",
    "delay=20\n",
    "test_duration=60\n",
    "num_servers=10\n",
    "flows=10"
   ]
  },
  {
   "cell_type": "markdown",
   "id": "5c5e0b66-8b06-47c8-b3b0-3f12ff8e0528",
   "metadata": {
    "tags": []
   },
   "source": [
    "### Get queue statistics on the router before experiment"
   ]
  },
  {
   "cell_type": "code",
   "execution_count": null,
   "id": "d1e71561-24a9-4108-99d3-b811de60e166",
   "metadata": {},
   "outputs": [],
   "source": [
    "router_node.execute(\"tc -p -s -d -j qdisc show dev \"+router_egress_name \" >tc_before.txt\")"
   ]
  },
  {
   "cell_type": "markdown",
   "id": "e5f7d159-ebb5-46e9-850a-9a250e6a24a8",
   "metadata": {
    "tags": []
   },
   "source": [
    "### Set delay on the receiver\n",
    "\n",
    "> Values: 20ms, 100ms, 200ms"
   ]
  },
  {
   "cell_type": "markdown",
   "id": "88f91f98-5f34-4081-9493-539454fb1f37",
   "metadata": {},
   "source": [
    "Now set up delay on the receiver interface:\n",
    "\n",
    "First delete any existing queue (don't worry if there is an error, it means there was not!)"
   ]
  },
  {
   "cell_type": "code",
   "execution_count": null,
   "id": "7a0da211-a87d-4dc1-b931-205b19fa3dd9",
   "metadata": {},
   "outputs": [],
   "source": [
    "for n in receiver_nodes:\n",
    "    n.execute(\"iperf3 -s -1 -f g -D --logfile validate.dat\")\n",
    "    receiver_inf=n.get_interface(network_name= \"link-receiver\")\n",
    "    receiver_inf_name = receiver_inf.get_device_name()\n",
    "    n.execute(\"sudo tc qdisc del dev \" + receiver_inf_name + \" root netem\")\n",
    "    n.execute(\"sudo tc qdisc add dev \" + receiver_inf_name + \" root netem delay \" + str(delay) +\"ms\")\n",
    "    "
   ]
  },
  {
   "cell_type": "markdown",
   "id": "15f1e6bb-6a90-44ad-8507-752522462b1e",
   "metadata": {},
   "source": [
    "### Start parallel servers on the receivers\n",
    "\n",
    "In this, the base_port is the starting address of port number"
   ]
  },
  {
   "cell_type": "markdown",
   "id": "dca45d0f-e883-4be4-a803-bf2fba9f25cb",
   "metadata": {},
   "source": [
    "Now start the `iperf3` flows:"
   ]
  },
  {
   "cell_type": "code",
   "execution_count": 39,
   "id": "7382ceb2-e264-43c3-8f09-183ff2785f02",
   "metadata": {},
   "outputs": [],
   "source": [
    "base_port=60000\n",
    "\n",
    "for i,n in enumerate(receiver_nodes):\n",
    "    if i<9:\n",
    "        for k in range (1,num_servers+1):\n",
    "            n.execute(\"sudo killall iperf3\")\n",
    "            server_port=base_port+k\n",
    "            report_file=str(server_port)+\"-\"+server.dat\n",
    "            n.execute(\"iperf3 -s -p \"+str(server_port)+ \" -D --logfile \"+report_file)\n",
    "    else:\n",
    "        for k in range (1,num_servers+2):\n",
    "            n.execute(\"sudo killall iperf3\")\n",
    "            server_port=base_port+k\n",
    "            report_file=str(server_port)+\"-\"+server.dat\n",
    "            n.execute(\"iperf3 -s -p \"+str(server_port)+ \" -D --logfile \"+report_file)\n",
    "        "
   ]
  },
  {
   "cell_type": "markdown",
   "id": "f01ac966-681b-40de-aa48-d80577deda44",
   "metadata": {},
   "source": [
    "### Start parallel clients on the senders\n",
    "\n",
    "In this, the base_port is the starting address of port number on the receiver\n"
   ]
  },
  {
   "cell_type": "code",
   "execution_count": 39,
   "id": "2e058f8f-200b-4b30-acd7-d238a98b7690",
   "metadata": {},
   "outputs": [],
   "source": [
    "import time\n",
    "base_port=60000\n",
    "\n",
    "\n",
    "for n in sender_nodes:\n",
    "    n.execute(\"sudo killall iperf3\")\n",
    "\n",
    "for i,n in enumerate(sender_nodes):\n",
    "    if i<9:\n",
    "        for k in range (0,num_servers):\n",
    "            server_port=base_port+k+1\n",
    "            report_file=\"sender-10.10.2.1\"+str(k)+\"-\"+str(server_port)+\"-\"+str(test_duration)+\"-\"+cca1+\".txt\"\n",
    "            n.execute_thread(\"iperf3 -c 10.10.2.1\"+str(i)+ \"-p \"+str(server_port)+ \" -t \"+str(test_duration)+ \" -C \"+cca1+\" -P \"+str(flows)+ \" --format k $>\"+report_file+ \" &\")\n",
    "    else:\n",
    "        for k in range (0,num_servers+1):\n",
    "            server_port=base_port+k+1\n",
    "            if k<10\n",
    "                report_file=\"sender-10.10.2.1\"+str(k)+\"-\"+str(server_port)+\"-\"+str(test_duration)+\"-\"+cca1+\".txt\"\n",
    "                n.execute_thread(\"iperf3 -c 10.10.2.1\"+str(i)+ \"-p \"+str(server_port)+ \" -t \"+str(test_duration)+ \" -C \"+cca1+\" -P \"+str(flows-1)+ \" --format k $>\"+report_file+ \" &\")\n",
    "            else:\n",
    "                report_file=\"sender-10.10.2.1\"+str(k)+\"-\"+str(server_port)+\"-\"+str(test_duration)+\"-\"+cca2+\".txt\"\n",
    "                \n",
    "time.sleep(test_duration+300)              "
   ]
  },
  {
   "cell_type": "markdown",
   "id": "4d7cd25f-4a01-46eb-84be-081eb6ad6853",
   "metadata": {},
   "source": [
    "### Get queue statistics on the router after experiment"
   ]
  },
  {
   "cell_type": "code",
   "execution_count": null,
   "id": "35e8a94c-7fc4-4d48-91c4-25eba0a10f7e",
   "metadata": {},
   "outputs": [],
   "source": [
    "#get queue statistics after running the experiment\n",
    "router_node.execute(\"tc -p -s -d -j qdisc show dev \" + router_egress_name + \" >tc_after.txt\")"
   ]
  },
  {
   "cell_type": "markdown",
   "id": "cfd3071b-334e-458b-80f9-0aa9bc49896a",
   "metadata": {},
   "source": [
    "## Analyze the results"
   ]
  },
  {
   "cell_type": "markdown",
   "id": "2a4c7365-ce87-430b-a9fd-d1567397464d",
   "metadata": {},
   "source": [
    "Calculate sum of bandwidth and count of flows:"
   ]
  },
  {
   "cell_type": "code",
   "execution_count": null,
   "id": "48fc986e-9efc-45d0-a498-7505535cd4b1",
   "metadata": {},
   "outputs": [],
   "source": [
    "\n",
    "sum_bw1 = []\n",
    "count_flow1 = []\n",
    "\n",
    "sum_bw2 = []\n",
    "count_flow2 = []\n",
    "\n",
    "for i,n in enumerate(sender_nodes):\n",
    "    if i<5:\n",
    "        n.execute(\"grep -r -E \\\"[0-9].*0.00-\"+str(test_duration)+\".*sender\\\" --include *\"+cca1+\".txt /result-\"+cca1+\" |awk '{sum+=$7}{sq+=$7*$7}{count+=1} END {print (sum*sum)/(sq*count)}'\")\n",
    "        (sum_sen1, serr1)=n.execute(\"sum=$(grep -r -E \\\"[0-9].*0.00-\"+str(test_duration)+\".*sender\\\" --include *\"+cca1+\".txt /result-\"+cca1+\" |awk '{sum+=$7}END {print sum}')\")\n",
    "        sum_bw1.append(float(sum_sen.strip()))\n",
    "        (ncount1,ncerr1)=n.execute(\"grep -r -E \\\"[0-9].*0.00-\"+str(test_duration)+\".*sender\\\" --include *\"+cca1+\".txt /result-\"+cca1+\" |awk '{count+=1}END {print count}'\")\n",
    "        count_flow1.append(ncount1.strip())\n",
    "    else:\n",
    "        n.execute(\"grep -r -E \\\"[0-9].*0.00-\"+str(test_duration)+\".*sender\\\" --include *\"+cca1+\".txt /result-\"+cca1+\" |awk '{sum+=$7}{sq+=$7*$7}{count+=1} END {print (sum*sum)/(sq*count)}'\")\n",
    "        (sum_sen2, serr2)=n.execute(\"sum=$(grep -r -E \\\"[0-9].*0.00-\"+str(test_duration)+\".*sender\\\" --include *\"+cca1+\".txt /result-\"+cca1+\" |awk '{sum+=$7}END {print sum}')\")\n",
    "        sum_bw1.append(float(sum_sen2.strip()))\n",
    "        (ncount2,ncerr2)=n.execute(\"grep -r -E \\\"[0-9].*0.00-\"+str(test_duration)+\".*sender\\\" --include *\"+cca1+\".txt /result-\"+cca1+\" |awk '{count+=1}END {print count}'\")\n",
    "        count_flow2.append(ncount2.strip())\n",
    "\n",
    "\n",
    "tput1=sum(sum_bw1)\n",
    "c1=sum(count_flow1)\n",
    "\n",
    "print(\"Sum of bandwidth of \"+cca1+ \" is %f Kbits/sec \" % tput1)\n",
    "\n",
    "print(\"Count of flows of \" +cca1+ \" is \" + c1)\n",
    "\n",
    "tput2=sum(sum_bw2)\n",
    "c2=sum(count_flow2)\n",
    "\n",
    "print(\"Sum of bandwidth of \"+cca2+ \" is %f Kbits/sec \" % tput2)\n",
    "\n",
    "print(\"Count of flows of \" +cca2+ \" is \" + c2)\n",
    "\n"
   ]
  },
  {
   "cell_type": "markdown",
   "id": "d7ef57aa-de65-4760-8123-0f8d27bb20e8",
   "metadata": {},
   "source": [
    "Calculate packet drop rate"
   ]
  },
  {
   "cell_type": "code",
   "execution_count": null,
   "id": "ada4728b-5d35-4fce-bd4f-758deaf7ee71",
   "metadata": {},
   "outputs": [],
   "source": [
    "#To get packet dropped:\n",
    "router_node.execute{\"drop_before=$(cat tc_before.txt| grep -m 1 '\\\"drops\\\":' | awk '{print $2}' |cut -d ',' -f1)\")\n",
    "\n",
    "#To get packets sent\n",
    "router_node.execute(\"sent_before=$(cat tc_before.txt| grep -m 1 '\\\"packets\\\":' | awk '{print $2}' |cut -d ',' -f1)\")\n",
    "\n",
    "#To get packet dropped:\n",
    "router_node.execute(\"drop_after=$(cat tc_after.txt| grep -m 1 '\\\"drops\\\":' | awk '{print $2}' |cut -d ',' -f1)\")\n",
    "\n",
    "#To get packets sent\n",
    "router_node.execute(\"sent_after=$(cat tc_after.txt| grep -m 1 '\\\"packets\\\":' | awk '{print $2}' |cut -d ',' -f1)\")\n",
    "\n",
    "#Calculate packet drop rate:\n",
    "\n",
    "router_node.execute(\"dropped=$(($drop_after-$drop_before))\")\n",
    "router_node.execute(\"sent=$(($sent_after-$sent_before))\")\n",
    "router_node.execute(\"drop_rate=$(echo \\\"scale=8;$dropped/$sent\\\" | bc)\")\n",
    "\n",
    "router_node.execute(\"echo packet drop before running experiment\")\n",
    "router_node.execute(\"echo $drop_before\")\n",
    "router_node.execute(\"echo packet sent before running experiment\")\n",
    "router_node.execute(\"echo $sent_before\")\n",
    "router_node.execute(\"echo packet drop after running experiment\")\n",
    "router_node.execute(\"echo $drop_after\")\n",
    "router_node.execute(\"echo packet sent after  running experiment\")\n",
    "router_node.execute(\"echo $sent_after\")\n",
    "router_node.execute(\"echo packet drop rate\")\n",
    "router_node.execute(\"echo $drop_rate\")"
   ]
  },
  {
   "cell_type": "markdown",
   "id": "541b70e8-91f7-4a27-bec5-ef081af7b436",
   "metadata": {},
   "source": [
    "## Remove files from hosts"
   ]
  },
  {
   "cell_type": "code",
   "execution_count": null,
   "id": "4813a45e-691c-4b5c-be84-9fb4a08b529c",
   "metadata": {},
   "outputs": [],
   "source": [
    "\n",
    "for n in receiver_nodes:\n",
    "    n.execute(\"rm -f ./*\")\n",
    "\n",
    "\n",
    "for n in sender_nodes:\n",
    "    n.execute(\"rm -f ./*\")"
   ]
  },
  {
   "cell_type": "code",
   "execution_count": 13,
   "id": "4ced1a72-1cec-473f-a001-d3e51679ee66",
   "metadata": {},
   "outputs": [
    {
     "name": "stdout",
     "output_type": "stream",
     "text": [
      "iperf3 -c 10.10.2.10-p 60001 -t 60 -C bbr -P 10 --format k $>sender-10.10.2.10-60001-60-bbr.txt &\n",
      "iperf3 -c 10.10.2.10-p 60002 -t 60 -C bbr -P 10 --format k $>sender-10.10.2.11-60002-60-bbr.txt &\n",
      "iperf3 -c 10.10.2.10-p 60003 -t 60 -C bbr -P 10 --format k $>sender-10.10.2.12-60003-60-bbr.txt &\n",
      "iperf3 -c 10.10.2.10-p 60004 -t 60 -C bbr -P 10 --format k $>sender-10.10.2.13-60004-60-bbr.txt &\n",
      "iperf3 -c 10.10.2.10-p 60005 -t 60 -C bbr -P 10 --format k $>sender-10.10.2.14-60005-60-bbr.txt &\n",
      "iperf3 -c 10.10.2.10-p 60006 -t 60 -C bbr -P 10 --format k $>sender-10.10.2.15-60006-60-bbr.txt &\n",
      "iperf3 -c 10.10.2.10-p 60007 -t 60 -C bbr -P 10 --format k $>sender-10.10.2.16-60007-60-bbr.txt &\n",
      "iperf3 -c 10.10.2.10-p 60008 -t 60 -C bbr -P 10 --format k $>sender-10.10.2.17-60008-60-bbr.txt &\n",
      "iperf3 -c 10.10.2.10-p 60009 -t 60 -C bbr -P 10 --format k $>sender-10.10.2.18-60009-60-bbr.txt &\n",
      "iperf3 -c 10.10.2.10-p 60010 -t 60 -C bbr -P 10 --format k $>sender-10.10.2.19-60010-60-bbr.txt &\n",
      "iperf3 -c 10.10.2.11-p 60001 -t 60 -C bbr -P 10 --format k $>sender-10.10.2.10-60001-60-bbr.txt &\n",
      "iperf3 -c 10.10.2.11-p 60002 -t 60 -C bbr -P 10 --format k $>sender-10.10.2.11-60002-60-bbr.txt &\n",
      "iperf3 -c 10.10.2.11-p 60003 -t 60 -C bbr -P 10 --format k $>sender-10.10.2.12-60003-60-bbr.txt &\n",
      "iperf3 -c 10.10.2.11-p 60004 -t 60 -C bbr -P 10 --format k $>sender-10.10.2.13-60004-60-bbr.txt &\n",
      "iperf3 -c 10.10.2.11-p 60005 -t 60 -C bbr -P 10 --format k $>sender-10.10.2.14-60005-60-bbr.txt &\n",
      "iperf3 -c 10.10.2.11-p 60006 -t 60 -C bbr -P 10 --format k $>sender-10.10.2.15-60006-60-bbr.txt &\n",
      "iperf3 -c 10.10.2.11-p 60007 -t 60 -C bbr -P 10 --format k $>sender-10.10.2.16-60007-60-bbr.txt &\n",
      "iperf3 -c 10.10.2.11-p 60008 -t 60 -C bbr -P 10 --format k $>sender-10.10.2.17-60008-60-bbr.txt &\n",
      "iperf3 -c 10.10.2.11-p 60009 -t 60 -C bbr -P 10 --format k $>sender-10.10.2.18-60009-60-bbr.txt &\n",
      "iperf3 -c 10.10.2.11-p 60010 -t 60 -C bbr -P 10 --format k $>sender-10.10.2.19-60010-60-bbr.txt &\n",
      "iperf3 -c 10.10.2.12-p 60001 -t 60 -C bbr -P 9 --format k $>sender-10.10.2.10-60001-60-bbr.txt &\n",
      "iperf3 -c 10.10.2.12-p 60002 -t 60 -C bbr -P 9 --format k $>sender-10.10.2.11-60002-60-bbr.txt &\n",
      "iperf3 -c 10.10.2.12-p 60003 -t 60 -C bbr -P 9 --format k $>sender-10.10.2.12-60003-60-bbr.txt &\n",
      "iperf3 -c 10.10.2.12-p 60004 -t 60 -C bbr -P 9 --format k $>sender-10.10.2.13-60004-60-bbr.txt &\n",
      "iperf3 -c 10.10.2.12-p 60005 -t 60 -C bbr -P 9 --format k $>sender-10.10.2.14-60005-60-bbr.txt &\n",
      "iperf3 -c 10.10.2.12-p 60006 -t 60 -C bbr -P 9 --format k $>sender-10.10.2.15-60006-60-bbr.txt &\n",
      "iperf3 -c 10.10.2.12-p 60007 -t 60 -C bbr -P 9 --format k $>sender-10.10.2.16-60007-60-bbr.txt &\n",
      "iperf3 -c 10.10.2.12-p 60008 -t 60 -C bbr -P 9 --format k $>sender-10.10.2.17-60008-60-bbr.txt &\n",
      "iperf3 -c 10.10.2.12-p 60009 -t 60 -C bbr -P 9 --format k $>sender-10.10.2.18-60009-60-bbr.txt &\n",
      "iperf3 -c 10.10.2.12-p 60010 -t 60 -C bbr -P 9 --format k $>sender-10.10.2.19-60010-60-bbr.txt &\n",
      "iperf3 -c 10.10.2.12-p 60011 -t 60 -C reno -P 1 --format k $>sender-10.10.2.110-60011-60-reno.txt &\n"
     ]
    }
   ],
   "source": [
    "base_port=60000\n",
    "cca1=\"bbr\"\n",
    "cca2=\"reno\"\n",
    "test_duration=60\n",
    "flows=10\n",
    "\n",
    "send=(\"a\", \"b\", \"c\")\n",
    "\n",
    "for i,n in enumerate(send):\n",
    "    if i<2:\n",
    "        for k in range (0,10):\n",
    "            server_port=base_port+k+1\n",
    "            report_file=\"sender-10.10.2.1\"+str(k)+\"-\"+str(server_port)+\"-\"+str(test_duration)+\"-\"+cca1+\".txt\"\n",
    "            print(\"iperf3 -c 10.10.2.1\"+str(i)+ \"-p \"+str(server_port)+ \" -t \"+str(test_duration)+ \" -C \"+cca1+\" -P \"+str(flows)+ \" --format k $>\"+report_file+ \" &\")\n",
    "    else:\n",
    "        for k in range (0,11):\n",
    "            server_port=base_port+k+1\n",
    "            if k<10:\n",
    "                report_file=\"sender-10.10.2.1\"+str(k)+\"-\"+str(server_port)+\"-\"+str(test_duration)+\"-\"+cca1+\".txt\"\n",
    "                print(\"iperf3 -c 10.10.2.1\"+str(i)+ \"-p \"+str(server_port)+ \" -t \"+str(test_duration)+ \" -C \"+cca1+\" -P \"+str(flows-1)+ \" --format k $>\"+report_file+ \" &\")\n",
    "            else:\n",
    "                report_file=\"sender-10.10.2.1\"+str(k)+\"-\"+str(server_port)+\"-\"+str(test_duration)+\"-\"+cca2+\".txt\"\n",
    "                print(\"iperf3 -c 10.10.2.1\"+str(i)+ \"-p \"+str(server_port)+ \" -t \"+str(test_duration)+ \" -C \"+cca2+\" -P 1 --format k $>\"+report_file+ \" &\")\n",
    "                "
   ]
  },
  {
   "cell_type": "code",
   "execution_count": null,
   "id": "d11be5ab-3959-4325-a1cb-0d05c683e688",
   "metadata": {},
   "outputs": [],
   "source": []
  }
 ],
 "metadata": {
  "kernelspec": {
   "display_name": "Python 3 (ipykernel)",
   "language": "python",
   "name": "python3"
  },
  "language_info": {
   "codemirror_mode": {
    "name": "ipython",
    "version": 3
   },
   "file_extension": ".py",
   "mimetype": "text/x-python",
   "name": "python",
   "nbconvert_exporter": "python",
   "pygments_lexer": "ipython3",
   "version": "3.9.7"
  }
 },
 "nbformat": 4,
 "nbformat_minor": 5
}
