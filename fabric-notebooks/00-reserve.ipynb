{
 "cells": [
  {
   "cell_type": "markdown",
   "id": "258cbc1b-8bfb-402a-b492-db39aad22b3e",
   "metadata": {},
   "source": [
    "# Reserve and configure FABRIC resources for reproducing \"Revisiting TCP Congestion Control Throughput Models & Fairness Properties at Scale\""
   ]
  },
  {
   "cell_type": "markdown",
   "id": "844ee501-0bb2-41b8-a398-9d8f7f58e48e",
   "metadata": {},
   "source": [
    "## Set up your FABRIC environment\n",
    "\n",
    "This assumes that you have already configured your FABRIC account and your Jupyter environment as described in [Hello, FABRIC](https://teaching-on-testbeds.github.io/blog/hello-fabric)."
   ]
  },
  {
   "cell_type": "code",
   "execution_count": null,
   "id": "d0494be9-b9ee-4d12-873a-7bdae4e9be9e",
   "metadata": {},
   "outputs": [],
   "source": [
    "from fabrictestbed_extensions.fablib.fablib import FablibManager as fablib_manager\n",
    "fablib = fablib_manager() \n",
    "fablib.show_config()"
   ]
  },
  {
   "cell_type": "code",
   "execution_count": null,
   "id": "0eccbf37-093d-4701-b6ea-c8d504d15f29",
   "metadata": {},
   "outputs": [],
   "source": [
    "!chmod 600 {fablib.get_bastion_key_filename()}\n",
    "!chmod 600 {fablib.get_default_slice_private_key_file()}"
   ]
  },
  {
   "cell_type": "markdown",
   "id": "7f841b0e-2c59-43db-80c4-83f270e068ed",
   "metadata": {},
   "source": [
    "## Create and submit a slice"
   ]
  },
  {
   "cell_type": "code",
   "execution_count": null,
   "id": "13db87db-d3b3-4b25-8f4e-32271725fb83",
   "metadata": {},
   "outputs": [],
   "source": [
    "n_endpoints = 10\n",
    "slice_name=\"bottleneck-\" + str(n_endpoints) + '-test'\n",
    "slice = fablib.new_slice(name=slice_name)"
   ]
  },
  {
   "cell_type": "markdown",
   "id": "00cc5d54-e26d-4bbe-a2c2-807be6723fd7",
   "metadata": {},
   "source": [
    "This cell will try to identify a site that has sufficient resources for your experiment. But, you should still check in the [FABRIC Portal](https://portal.fabric-testbed.net/resources/all) to make sure it is not in maintenance or out of service - if so, you should run the cell again until you get a site that is ready to use."
   ]
  },
  {
   "cell_type": "code",
   "execution_count": null,
   "id": "82e66b47-2114-466a-85ed-e18d51da7ac2",
   "metadata": {},
   "outputs": [],
   "source": [
    "exp_requires = {'core': 2*n_endpoints*4+32, 'nic': 2*n_endpoints*1, 'connectx5': 1}\n",
    "while True:\n",
    "    site_name = fablib.get_random_site()\n",
    "    if ( (fablib.resources.get_core_available(site_name) > 1.2*exp_requires['core']) and\n",
    "        (fablib.resources.get_component_available(site_name, 'SharedNIC-ConnectX-6') > 1.2**exp_requires['nic']) and\n",
    "        (fablib.resources.get_component_available(site_name, 'SmartNIC-ConnectX-5') > 1.2*exp_requires['connectx5'])   ):\n",
    "        break\n",
    "\n",
    "fablib.show_site(site_name)"
   ]
  },
  {
   "cell_type": "code",
   "execution_count": null,
   "id": "e1c7d443-1795-4c90-839c-f5e07ec620fd",
   "metadata": {},
   "outputs": [],
   "source": [
    "# this cell sets up the hosts\n",
    "slice.add_node(name='router', site=site_name, cores=32, ram=256, disk=500, image='default_ubuntu_22')\n",
    "\n",
    "sender_names = [\"sender-\"+str(i) for i in range(n_endpoints)]\n",
    "for n in sender_names:\n",
    "    slice.add_node(name=n, site=site_name, cores=4, ram=32, disk=500, image='default_ubuntu_18')\n",
    "    \n",
    "receive_names = [\"receiver-\"+str(i) for i in range(n_endpoints)]\n",
    "for n in receive_names:\n",
    "    slice.add_node(name=n, site=site_name, cores=4, ram=32, disk=100, image='default_ubuntu_18')"
   ]
  },
  {
   "cell_type": "code",
   "execution_count": null,
   "id": "2b76d723-6d0c-4519-9066-34a84f170595",
   "metadata": {},
   "outputs": [],
   "source": [
    "# this cell sets up the network links\n",
    "nets = [\n",
    "    {\"name\": \"link-sender\",    \"nodes\": sender_names,  \"idx\": 0},\n",
    "    {\"name\": \"link-receiver\",  \"nodes\": receive_names, \"idx\": 1}\n",
    "]\n",
    "\n",
    "router_iface = slice.get_node('router').add_component(model=\"NIC_ConnectX_5\", name='link').get_interfaces()\n",
    "\n",
    "for n in nets:\n",
    "    ifaces = [slice.get_node(node).add_component(model=\"NIC_Basic\", name=n[\"name\"]).get_interfaces()[0] for node in n['nodes'] ] + [router_iface[n[\"idx\"]]]\n",
    "    slice.add_l2network(name=n[\"name\"], type='L2Bridge', interfaces=ifaces)"
   ]
  },
  {
   "cell_type": "markdown",
   "id": "72ad6833-f08b-4a86-919c-99a55e143c1a",
   "metadata": {},
   "source": [
    "When everything is ready, submit the slice and wait for it to get to \"StableOK\" state.  You can also see the state of your slice on the browser-based interface at https://portal.fabric-testbed.net/experiments#slices.\n",
    "\n",
    "In case of an error, you can modify the slice name in the first cell of the \"Create and submit a slice\" section, to try again with a new slice (different name). Then, return to this cell and click Run > Run All Above Selected Cell. Finally, re-run the `slice.submit()` cell."
   ]
  },
  {
   "cell_type": "code",
   "execution_count": null,
   "id": "623bc221-3f3a-407a-b431-6c55e8c0f8f0",
   "metadata": {},
   "outputs": [],
   "source": [
    "slice.submit()"
   ]
  },
  {
   "cell_type": "markdown",
   "id": "e609677a-9ee9-411b-b100-c4658c9f5bd9",
   "metadata": {},
   "source": [
    "## Configure resources"
   ]
  },
  {
   "cell_type": "code",
   "execution_count": null,
   "id": "22fd30fb-8dc9-49d7-a484-96add1511f58",
   "metadata": {},
   "outputs": [],
   "source": [
    "slice.get_state()"
   ]
  },
  {
   "cell_type": "code",
   "execution_count": null,
   "id": "f71776b9-5c05-4534-aa49-c6528ebce55c",
   "metadata": {},
   "outputs": [],
   "source": [
    "slice = fablib.get_slice(name=slice_name)"
   ]
  },
  {
   "cell_type": "code",
   "execution_count": null,
   "id": "4088fa17-084a-4f54-b275-19cefe8673f5",
   "metadata": {},
   "outputs": [],
   "source": [
    "slice.wait_ssh(progress=True)"
   ]
  },
  {
   "cell_type": "markdown",
   "id": "81133620-e4a1-49b7-9594-d2019b5693a4",
   "metadata": {},
   "source": [
    "Bring up all of the network interfaces:"
   ]
  },
  {
   "cell_type": "code",
   "execution_count": null,
   "id": "e59990df-6581-4dde-8e8c-16d8362e175f",
   "metadata": {},
   "outputs": [],
   "source": [
    "for iface in slice.get_interfaces():\n",
    "    iface.ip_link_up()"
   ]
  },
  {
   "cell_type": "markdown",
   "id": "a280f627-f32c-4347-954d-96eaea99e75a",
   "metadata": {},
   "source": [
    "Assign addresses to router interfaces and enable forwarding:"
   ]
  },
  {
   "cell_type": "code",
   "execution_count": null,
   "id": "51077bc7-1e5d-4015-b34e-553970163f5f",
   "metadata": {},
   "outputs": [],
   "source": [
    "from ipaddress import ip_address, IPv4Address, IPv4Network\n",
    "\n",
    "if_sender = slice.get_interface('router-link-p1')\n",
    "if_sender.ip_addr_add(addr=\"10.10.1.1\", subnet=IPv4Network(\"10.10.1.0/24\"))\n",
    "if_receive = slice.get_interface('router-link-p2')\n",
    "if_receive.ip_addr_add(addr=\"10.10.2.1\", subnet=IPv4Network(\"10.10.2.0/24\"))\n",
    "\n",
    "slice.get_node(name='router').execute(\"sudo sysctl -w net.ipv4.ip_forward=1\")"
   ]
  },
  {
   "cell_type": "markdown",
   "id": "e40f59eb-6cd7-4bad-86d5-36e9287a5d27",
   "metadata": {},
   "source": [
    "Assign addresses to host (sender and receiver) interfaces and set up routes:"
   ]
  },
  {
   "cell_type": "code",
   "execution_count": null,
   "id": "336f6b5e-f2dc-4748-9426-0980084276af",
   "metadata": {},
   "outputs": [],
   "source": [
    "for i in range(n_endpoints):\n",
    "    if_name = slice.get_interface('sender-' + str(i) + '-link-sender-p1')\n",
    "    if_name.ip_addr_add(addr=\"10.10.1.1\" + str(i) , subnet=IPv4Network(\"10.10.1.0/24\"))\n",
    "    slice.get_node(name='sender-' + str(i)).ip_route_add(subnet=IPv4Network(\"10.10.2.0/24\"), gateway=\"10.10.1.1\")\n",
    "    \n",
    "for i in range(n_endpoints):\n",
    "    if_name = slice.get_interface('receiver-' + str(i) + '-link-receiver-p1')\n",
    "    if_name.ip_addr_add(addr=\"10.10.2.1\" + str(i) , subnet=IPv4Network(\"10.10.2.0/24\"))\n",
    "    slice.get_node(name='receiver-' + str(i)).ip_route_add(subnet=IPv4Network(\"10.10.1.0/24\"), gateway=\"10.10.2.1\")"
   ]
  },
  {
   "cell_type": "code",
   "execution_count": null,
   "id": "c442ffb9-1448-4d2e-9ff0-0eb4bd178422",
   "metadata": {},
   "outputs": [],
   "source": [
    "# turn off segmentation offload on interfaces\n",
    "for iface in slice.get_interfaces():\n",
    "    iface_name = iface.get_device_name()\n",
    "    n = iface.get_node()\n",
    "    offloads = [\"gro\", \"lro\", \"gso\", \"tso\"]\n",
    "    for offload in offloads:\n",
    "        n.execute(\"sudo ethtool -K %s %s off\" % (iface_name, offload))"
   ]
  },
  {
   "cell_type": "markdown",
   "id": "d3c42d9f-6482-4a04-88ae-a45d7df8a494",
   "metadata": {},
   "source": [
    "Also install `iperf3` on sender and receiver hosts:"
   ]
  },
  {
   "cell_type": "code",
   "execution_count": null,
   "id": "0c2bd762-64e0-41e8-a123-16809c8a670c",
   "metadata": {},
   "outputs": [],
   "source": [
    "sender_nodes = [slice.get_node(name='sender-' + str(i))  for i in range(n_endpoints)]\n",
    "receiver_nodes = [slice.get_node(name='receiver-' + str(i))  for i in range(n_endpoints)]"
   ]
  },
  {
   "cell_type": "code",
   "execution_count": null,
   "id": "c8f8941b-fb55-4262-b5c5-788f1c8a374f",
   "metadata": {},
   "outputs": [],
   "source": [
    "from ipaddress import ip_address, IPv6Address\n",
    "for n in sender_nodes:\n",
    "    if type(ip_address(n.get_management_ip())) is IPv6Address:\n",
    "        n.upload_file('nat64.sh', 'nat64.sh')\n",
    "        stdout, stderr = n.execute(f'chmod +x nat64.sh && ./nat64.sh')\n",
    "    n.upload_file(\"iperf-parallel-senders.sh\",\"iperf-parallel-senders.sh\")\n",
    "    n.execute(\"sudo apt-get update; sudo apt-get -y install build-essential \")\n",
    "    n.execute_thread(\"sudo modprobe tcp_bbr\")\n",
    "    #n.execute(\"sudo rm -r /iperf\")\n",
    "    n.execute_thread(\"sudo git clone https://github.com/vinitaparasrampuria/iperf.git /iperf; sudo chmod +x /iperf/configure; sudo bash /iperf/configure;\\\n",
    "                     sudo make; sudo make check; sudo make install; sudo ldconfig\")\n",
    "              \n",
    "for n in receiver_nodes:\n",
    "    n.execute_thread(\"sudo apt update; sudo apt -y install iperf3;  sudo modprobe tcp_bbr\")"
   ]
  },
  {
   "cell_type": "code",
   "execution_count": null,
   "id": "cc0d1b92-bbdd-4f97-a768-aa91453ec454",
   "metadata": {},
   "outputs": [],
   "source": [
    "for n in sender_nodes:\n",
    "    n.execute(\"sudo apt-get update; sudo apt-get install -y python3-pip ethtool netcat moreutils \",quiet=True)\n",
    "    n.execute(\"sudo python3 -m pip install scikit-learn numpy pandas matplotlib seaborn\", quiet=True)\n"
   ]
  },
  {
   "cell_type": "code",
   "execution_count": null,
   "id": "b48b0e34-389a-43bd-ba29-48e44962c973",
   "metadata": {},
   "outputs": [],
   "source": [
    "for n in sender_nodes:\n",
    "    n.execute(\"iperf3 -version\")"
   ]
  },
  {
   "cell_type": "code",
   "execution_count": null,
   "id": "1be0765e-c1fe-4001-a5d4-9730b06cbfcd",
   "metadata": {},
   "outputs": [],
   "source": [
    "for n in receiver_nodes:\n",
    "    n.upload_file(\"iperf-parallel-servers.sh\",\"iperf-parallel-servers.sh\")"
   ]
  },
  {
   "cell_type": "code",
   "execution_count": null,
   "id": "8ac575cd-af2d-4042-aca5-10452448d8ce",
   "metadata": {},
   "outputs": [],
   "source": [
    "from datetime import datetime\n",
    "from datetime import timezone\n",
    "from datetime import timedelta\n",
    "\n",
    "# Set end date to 4 days from now\n",
    "end_date = (datetime.now(timezone.utc) + timedelta(days=4)).strftime(\"%Y-%m-%d %H:%M:%S %z\")\n",
    "slice.renew(end_date)"
   ]
  },
  {
   "cell_type": "code",
   "execution_count": null,
   "id": "160e7a33-f283-4e77-b644-f1e38f85a927",
   "metadata": {},
   "outputs": [],
   "source": [
    "slice.delete()"
   ]
  },
  {
   "cell_type": "code",
   "execution_count": null,
   "id": "1e9aecaa-d75b-4035-a494-e879470f5119",
   "metadata": {},
   "outputs": [],
   "source": []
  }
 ],
 "metadata": {
  "kernelspec": {
   "display_name": "Python 3 (ipykernel)",
   "language": "python",
   "name": "python3"
  },
  "language_info": {
   "codemirror_mode": {
    "name": "ipython",
    "version": 3
   },
   "file_extension": ".py",
   "mimetype": "text/x-python",
   "name": "python",
   "nbconvert_exporter": "python",
   "pygments_lexer": "ipython3",
   "version": "3.10.6"
  }
 },
 "nbformat": 4,
 "nbformat_minor": 5
}
