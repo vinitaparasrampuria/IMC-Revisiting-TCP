{
 "cells": [
  {
   "cell_type": "markdown",
   "id": "02a5be90-977a-4948-a299-b5df71273eef",
   "metadata": {},
   "source": [
    "# Validate configuration for reproducing \"Revisiting TCP Congestion Control Throughput Models & Fairness Properties at Scale\""
   ]
  },
  {
   "cell_type": "markdown",
   "id": "79d083f0-5028-4517-8d4e-eba13f28cac4",
   "metadata": {},
   "source": [
    "## Set up your FABRIC environment\n"
   ]
  },
  {
   "cell_type": "code",
   "execution_count": 55,
   "id": "9cf58277-480d-4459-a9c6-08a085b1313e",
   "metadata": {},
   "outputs": [
    {
     "data": {
      "text/html": [
       "<style type=\"text/css\">\n",
       "#T_6c668 tr:nth-child(even) {\n",
       "  background: #dbf3ff;\n",
       "  color: #231f20;\n",
       "}\n",
       "#T_6c668 tr:nth-child(odd) {\n",
       "  background: #ffffff;\n",
       "  color: #231f20;\n",
       "}\n",
       "#T_6c668 caption {\n",
       "  text-align: center;\n",
       "  font-size: 150%;\n",
       "}\n",
       "#T_6c668_row0_col0, #T_6c668_row0_col1, #T_6c668_row1_col0, #T_6c668_row1_col1, #T_6c668_row2_col0, #T_6c668_row2_col1, #T_6c668_row3_col0, #T_6c668_row3_col1, #T_6c668_row4_col0, #T_6c668_row4_col1, #T_6c668_row5_col0, #T_6c668_row5_col1, #T_6c668_row6_col0, #T_6c668_row6_col1, #T_6c668_row7_col0, #T_6c668_row7_col1, #T_6c668_row8_col0, #T_6c668_row8_col1, #T_6c668_row9_col0, #T_6c668_row9_col1, #T_6c668_row10_col0, #T_6c668_row10_col1, #T_6c668_row11_col0, #T_6c668_row11_col1, #T_6c668_row12_col0, #T_6c668_row12_col1 {\n",
       "  text-align: left;\n",
       "  border: 1px #231f20 solid !important;\n",
       "  overwrite: False;\n",
       "}\n",
       "</style>\n",
       "<table id=\"T_6c668\">\n",
       "  <caption>FABlib Config</caption>\n",
       "  <thead>\n",
       "  </thead>\n",
       "  <tbody>\n",
       "    <tr>\n",
       "      <td id=\"T_6c668_row0_col0\" class=\"data row0 col0\" >Credential Manager</td>\n",
       "      <td id=\"T_6c668_row0_col1\" class=\"data row0 col1\" >cm.fabric-testbed.net</td>\n",
       "    </tr>\n",
       "    <tr>\n",
       "      <td id=\"T_6c668_row1_col0\" class=\"data row1 col0\" >Orchestrator</td>\n",
       "      <td id=\"T_6c668_row1_col1\" class=\"data row1 col1\" >orchestrator.fabric-testbed.net</td>\n",
       "    </tr>\n",
       "    <tr>\n",
       "      <td id=\"T_6c668_row2_col0\" class=\"data row2 col0\" >Token File</td>\n",
       "      <td id=\"T_6c668_row2_col1\" class=\"data row2 col1\" >/home/fabric/.tokens.json</td>\n",
       "    </tr>\n",
       "    <tr>\n",
       "      <td id=\"T_6c668_row3_col0\" class=\"data row3 col0\" >Project ID</td>\n",
       "      <td id=\"T_6c668_row3_col1\" class=\"data row3 col1\" >073ee843-2310-45bd-a01f-a15d808827dc</td>\n",
       "    </tr>\n",
       "    <tr>\n",
       "      <td id=\"T_6c668_row4_col0\" class=\"data row4 col0\" >Bastion Username</td>\n",
       "      <td id=\"T_6c668_row4_col1\" class=\"data row4 col1\" >ffund_0041777137</td>\n",
       "    </tr>\n",
       "    <tr>\n",
       "      <td id=\"T_6c668_row5_col0\" class=\"data row5 col0\" >Bastion Private Key File</td>\n",
       "      <td id=\"T_6c668_row5_col1\" class=\"data row5 col1\" >/home/fabric/work/fabric_config/fabric_bastion_key</td>\n",
       "    </tr>\n",
       "    <tr>\n",
       "      <td id=\"T_6c668_row6_col0\" class=\"data row6 col0\" >Bastion Host</td>\n",
       "      <td id=\"T_6c668_row6_col1\" class=\"data row6 col1\" >bastion.fabric-testbed.net</td>\n",
       "    </tr>\n",
       "    <tr>\n",
       "      <td id=\"T_6c668_row7_col0\" class=\"data row7 col0\" >Bastion Private Key Passphrase</td>\n",
       "      <td id=\"T_6c668_row7_col1\" class=\"data row7 col1\" >None</td>\n",
       "    </tr>\n",
       "    <tr>\n",
       "      <td id=\"T_6c668_row8_col0\" class=\"data row8 col0\" >Slice Public Key File</td>\n",
       "      <td id=\"T_6c668_row8_col1\" class=\"data row8 col1\" >/home/fabric/work/fabric_config/slice_key.pub</td>\n",
       "    </tr>\n",
       "    <tr>\n",
       "      <td id=\"T_6c668_row9_col0\" class=\"data row9 col0\" >Slice Private Key File</td>\n",
       "      <td id=\"T_6c668_row9_col1\" class=\"data row9 col1\" >/home/fabric/work/fabric_config/slice_key</td>\n",
       "    </tr>\n",
       "    <tr>\n",
       "      <td id=\"T_6c668_row10_col0\" class=\"data row10 col0\" >Slice Private Key Passphrase</td>\n",
       "      <td id=\"T_6c668_row10_col1\" class=\"data row10 col1\" >None</td>\n",
       "    </tr>\n",
       "    <tr>\n",
       "      <td id=\"T_6c668_row11_col0\" class=\"data row11 col0\" >Log File</td>\n",
       "      <td id=\"T_6c668_row11_col1\" class=\"data row11 col1\" >/home/fabric/fablib.log</td>\n",
       "    </tr>\n",
       "    <tr>\n",
       "      <td id=\"T_6c668_row12_col0\" class=\"data row12 col0\" >Log Level</td>\n",
       "      <td id=\"T_6c668_row12_col1\" class=\"data row12 col1\" >INFO</td>\n",
       "    </tr>\n",
       "  </tbody>\n",
       "</table>\n"
      ],
      "text/plain": [
       "<pandas.io.formats.style.Styler at 0x7fbe6019ff40>"
      ]
     },
     "metadata": {},
     "output_type": "display_data"
    },
    {
     "data": {
      "text/html": [
       "<style type=\"text/css\">\n",
       "#T_6c668 tr:nth-child(even) {\n",
       "  background: #dbf3ff;\n",
       "  color: #231f20;\n",
       "}\n",
       "#T_6c668 tr:nth-child(odd) {\n",
       "  background: #ffffff;\n",
       "  color: #231f20;\n",
       "}\n",
       "#T_6c668 caption {\n",
       "  text-align: center;\n",
       "  font-size: 150%;\n",
       "}\n",
       "#T_6c668_row0_col0, #T_6c668_row0_col1, #T_6c668_row1_col0, #T_6c668_row1_col1, #T_6c668_row2_col0, #T_6c668_row2_col1, #T_6c668_row3_col0, #T_6c668_row3_col1, #T_6c668_row4_col0, #T_6c668_row4_col1, #T_6c668_row5_col0, #T_6c668_row5_col1, #T_6c668_row6_col0, #T_6c668_row6_col1, #T_6c668_row7_col0, #T_6c668_row7_col1, #T_6c668_row8_col0, #T_6c668_row8_col1, #T_6c668_row9_col0, #T_6c668_row9_col1, #T_6c668_row10_col0, #T_6c668_row10_col1, #T_6c668_row11_col0, #T_6c668_row11_col1, #T_6c668_row12_col0, #T_6c668_row12_col1 {\n",
       "  text-align: left;\n",
       "  border: 1px #231f20 solid !important;\n",
       "  overwrite: False;\n",
       "}\n",
       "</style>\n",
       "<table id=\"T_6c668\">\n",
       "  <caption>FABlib Config</caption>\n",
       "  <thead>\n",
       "  </thead>\n",
       "  <tbody>\n",
       "    <tr>\n",
       "      <td id=\"T_6c668_row0_col0\" class=\"data row0 col0\" >Credential Manager</td>\n",
       "      <td id=\"T_6c668_row0_col1\" class=\"data row0 col1\" >cm.fabric-testbed.net</td>\n",
       "    </tr>\n",
       "    <tr>\n",
       "      <td id=\"T_6c668_row1_col0\" class=\"data row1 col0\" >Orchestrator</td>\n",
       "      <td id=\"T_6c668_row1_col1\" class=\"data row1 col1\" >orchestrator.fabric-testbed.net</td>\n",
       "    </tr>\n",
       "    <tr>\n",
       "      <td id=\"T_6c668_row2_col0\" class=\"data row2 col0\" >Token File</td>\n",
       "      <td id=\"T_6c668_row2_col1\" class=\"data row2 col1\" >/home/fabric/.tokens.json</td>\n",
       "    </tr>\n",
       "    <tr>\n",
       "      <td id=\"T_6c668_row3_col0\" class=\"data row3 col0\" >Project ID</td>\n",
       "      <td id=\"T_6c668_row3_col1\" class=\"data row3 col1\" >073ee843-2310-45bd-a01f-a15d808827dc</td>\n",
       "    </tr>\n",
       "    <tr>\n",
       "      <td id=\"T_6c668_row4_col0\" class=\"data row4 col0\" >Bastion Username</td>\n",
       "      <td id=\"T_6c668_row4_col1\" class=\"data row4 col1\" >ffund_0041777137</td>\n",
       "    </tr>\n",
       "    <tr>\n",
       "      <td id=\"T_6c668_row5_col0\" class=\"data row5 col0\" >Bastion Private Key File</td>\n",
       "      <td id=\"T_6c668_row5_col1\" class=\"data row5 col1\" >/home/fabric/work/fabric_config/fabric_bastion_key</td>\n",
       "    </tr>\n",
       "    <tr>\n",
       "      <td id=\"T_6c668_row6_col0\" class=\"data row6 col0\" >Bastion Host</td>\n",
       "      <td id=\"T_6c668_row6_col1\" class=\"data row6 col1\" >bastion.fabric-testbed.net</td>\n",
       "    </tr>\n",
       "    <tr>\n",
       "      <td id=\"T_6c668_row7_col0\" class=\"data row7 col0\" >Bastion Private Key Passphrase</td>\n",
       "      <td id=\"T_6c668_row7_col1\" class=\"data row7 col1\" >None</td>\n",
       "    </tr>\n",
       "    <tr>\n",
       "      <td id=\"T_6c668_row8_col0\" class=\"data row8 col0\" >Slice Public Key File</td>\n",
       "      <td id=\"T_6c668_row8_col1\" class=\"data row8 col1\" >/home/fabric/work/fabric_config/slice_key.pub</td>\n",
       "    </tr>\n",
       "    <tr>\n",
       "      <td id=\"T_6c668_row9_col0\" class=\"data row9 col0\" >Slice Private Key File</td>\n",
       "      <td id=\"T_6c668_row9_col1\" class=\"data row9 col1\" >/home/fabric/work/fabric_config/slice_key</td>\n",
       "    </tr>\n",
       "    <tr>\n",
       "      <td id=\"T_6c668_row10_col0\" class=\"data row10 col0\" >Slice Private Key Passphrase</td>\n",
       "      <td id=\"T_6c668_row10_col1\" class=\"data row10 col1\" >None</td>\n",
       "    </tr>\n",
       "    <tr>\n",
       "      <td id=\"T_6c668_row11_col0\" class=\"data row11 col0\" >Log File</td>\n",
       "      <td id=\"T_6c668_row11_col1\" class=\"data row11 col1\" >/home/fabric/fablib.log</td>\n",
       "    </tr>\n",
       "    <tr>\n",
       "      <td id=\"T_6c668_row12_col0\" class=\"data row12 col0\" >Log Level</td>\n",
       "      <td id=\"T_6c668_row12_col1\" class=\"data row12 col1\" >INFO</td>\n",
       "    </tr>\n",
       "  </tbody>\n",
       "</table>\n"
      ],
      "text/plain": [
       "<pandas.io.formats.style.Styler at 0x7fbe6019ff40>"
      ]
     },
     "execution_count": 55,
     "metadata": {},
     "output_type": "execute_result"
    }
   ],
   "source": [
    "from fabrictestbed_extensions.fablib.fablib import FablibManager as fablib_manager\n",
    "fablib = fablib_manager() \n",
    "fablib.show_config()"
   ]
  },
  {
   "cell_type": "code",
   "execution_count": 56,
   "id": "4ccb86ad-4f11-4dcd-acf8-748361d615c8",
   "metadata": {},
   "outputs": [],
   "source": [
    "!chmod 600 {fablib.get_bastion_key_filename()}\n",
    "!chmod 600 {fablib.get_default_slice_private_key_file()}"
   ]
  },
  {
   "cell_type": "markdown",
   "id": "1a288b3d-4162-4249-8c9a-111ddb4beecf",
   "metadata": {},
   "source": [
    "## Get slice details"
   ]
  },
  {
   "cell_type": "markdown",
   "id": "a7704d48-a158-4c40-ba58-9ea4f462706c",
   "metadata": {},
   "source": [
    "Put your slice name and the number of endpoints in the following cell:"
   ]
  },
  {
   "cell_type": "code",
   "execution_count": 57,
   "id": "d3047eaf-4fb4-40c1-8dd0-c2f364685384",
   "metadata": {},
   "outputs": [],
   "source": [
    "slice_name = \"bottleneck-10-test\"\n",
    "n_endpoints = 10"
   ]
  },
  {
   "cell_type": "markdown",
   "id": "832e8f83-c35a-4669-98b5-647ef965efb1",
   "metadata": {},
   "source": [
    "Then, load your slice details into the environment.slice = fablib.new_slice(name=slice_name)"
   ]
  },
  {
   "cell_type": "code",
   "execution_count": 58,
   "id": "26f9af4c-28f9-4314-8791-878b4c41d5c6",
   "metadata": {},
   "outputs": [],
   "source": [
    "slice = fablib.get_slice(name=slice_name)"
   ]
  },
  {
   "cell_type": "code",
   "execution_count": 59,
   "id": "1ac3a090-f28c-4665-a470-06a9967decac",
   "metadata": {},
   "outputs": [],
   "source": [
    "sender_nodes = [slice.get_node(name='sender-' + str(i))  for i in range(n_endpoints)]\n",
    "receiver_nodes = [slice.get_node(name='receiver-' + str(i))  for i in range(n_endpoints)]"
   ]
  },
  {
   "cell_type": "code",
   "execution_count": 60,
   "id": "0d7db1cb-7e04-4077-bcd2-c135b78d8cd2",
   "metadata": {},
   "outputs": [],
   "source": [
    "router_node = slice.get_node(name='router')\n",
    "router_ingress_iface = router_node.get_interface(network_name = \"link-sender\")\n",
    "router_egress_iface  = router_node.get_interface(network_name = \"link-receiver\")\n",
    "router_egress_name = router_egress_iface.get_device_name()"
   ]
  },
  {
   "cell_type": "markdown",
   "id": "15f1e6bb-6a90-44ad-8507-752522462b1e",
   "metadata": {},
   "source": [
    "## Check network capacity\n",
    "\n",
    "We should get close to 25 Gbps (probably more like 23 Gbps because of protocol overhead) through the router."
   ]
  },
  {
   "cell_type": "markdown",
   "id": "62807868-233d-43f1-9eb5-07c2e6cea3c3",
   "metadata": {},
   "source": [
    "First, make sure there is no rate limiting at the router - don't worry if you get an error message, this just means there was already no rate limiting."
   ]
  },
  {
   "cell_type": "code",
   "execution_count": 61,
   "id": "c5a8e037-d889-44f1-85c1-42dd732aac7d",
   "metadata": {},
   "outputs": [
    {
     "name": "stdout",
     "output_type": "stream",
     "text": [
      "\u001b[31m Error: Cannot delete qdisc with handle of zero.\n",
      " \u001b[0m"
     ]
    },
    {
     "data": {
      "text/plain": [
       "('', 'Error: Cannot delete qdisc with handle of zero.\\n')"
      ]
     },
     "execution_count": 61,
     "metadata": {},
     "output_type": "execute_result"
    }
   ],
   "source": [
    "router_node.execute(\"sudo tc qdisc del dev \" + router_egress_name + \" root\")"
   ]
  },
  {
   "cell_type": "markdown",
   "id": "dca45d0f-e883-4be4-a803-bf2fba9f25cb",
   "metadata": {},
   "source": [
    "Now start the `iperf3` flows:"
   ]
  },
  {
   "cell_type": "code",
   "execution_count": 62,
   "id": "7382ceb2-e264-43c3-8f09-183ff2785f02",
   "metadata": {},
   "outputs": [],
   "source": [
    "for n in receiver_nodes:\n",
    "    n.execute(\"iperf3 -s -1 -f g -D --logfile validate.dat\")"
   ]
  },
  {
   "cell_type": "code",
   "execution_count": 63,
   "id": "8debcbc7-e2a7-4f6b-948f-23c4db52a740",
   "metadata": {},
   "outputs": [],
   "source": [
    "import time\n",
    "for n in sender_nodes:\n",
    "    n.execute_thread(\"iperf3 -t 60 -P 10 -c 10.10.2.1$(hostname | cut -d'-' -f7)\")\n",
    "time.sleep(65)"
   ]
  },
  {
   "cell_type": "code",
   "execution_count": 64,
   "id": "99299a0c-ab19-43e5-bee2-81990ca9ecf0",
   "metadata": {},
   "outputs": [
    {
     "name": "stdout",
     "output_type": "stream",
     "text": [
      "2.18\n",
      "1.64\n",
      "1.66\n",
      "3.85\n",
      "1.63\n",
      "2.47\n",
      "1.38\n",
      "1.41\n",
      "4.02\n",
      "3.10\n",
      "Sum throughput is: 23.340000 Gbps\n"
     ]
    }
   ],
   "source": [
    "tputs = []\n",
    "for n in receiver_nodes:\n",
    "    (nout, nerr) = n.execute(\"tail --lines=2 validate.dat | grep receiver | awk '{print $6}'\")\n",
    "    tputs.append(float(nout.strip()))\n",
    "print(\"Sum throughput is: %f Gbps\" % sum(tputs))"
   ]
  },
  {
   "cell_type": "markdown",
   "id": "36cd7bb0-4db1-4b71-bf07-1aa067fb150c",
   "metadata": {},
   "source": [
    "A single pair of endpoints should be able to get about 10 Gbps, possibly higher."
   ]
  },
  {
   "cell_type": "code",
   "execution_count": 65,
   "id": "64fcd5e6-c957-42dc-9eba-ae98c22d3964",
   "metadata": {},
   "outputs": [
    {
     "name": "stdout",
     "output_type": "stream",
     "text": [
      "Connecting to host 10.10.2.10, port 5201\n",
      "[  4] local 10.10.1.10 port 50670 connected to 10.10.2.10 port 5201\n",
      "[  6] local 10.10.1.10 port 50672 connected to 10.10.2.10 port 5201\n",
      "[  8] local 10.10.1.10 port 50674 connected to 10.10.2.10 port 5201\n",
      "[ 10] local 10.10.1.10 port 50676 connected to 10.10.2.10 port 5201\n",
      "[ 12] local 10.10.1.10 port 50678 connected to 10.10.2.10 port 5201\n",
      "[ 14] local 10.10.1.10 port 50680 connected to 10.10.2.10 port 5201\n",
      "[ 16] local 10.10.1.10 port 50682 connected to 10.10.2.10 port 5201\n",
      "[ 18] local 10.10.1.10 port 50684 connected to 10.10.2.10 port 5201\n",
      "[ 20] local 10.10.1.10 port 50686 connected to 10.10.2.10 port 5201\n",
      "[ 22] local 10.10.1.10 port 50688 connected to 10.10.2.10 port 5201\n",
      "[ ID] Interval           Transfer     Bandwidth       Retr  Cwnd\n",
      "[  4]   0.00-60.00  sec  9.62 GBytes  1.38 Gbits/sec  2680    288 KBytes       \n",
      "[  6]   0.00-60.00  sec  9.60 GBytes  1.37 Gbits/sec  2534    328 KBytes       \n",
      "[  8]   0.00-60.00  sec  9.60 GBytes  1.37 Gbits/sec  3020    255 KBytes       \n",
      "[ 10]   0.00-60.00  sec  9.59 GBytes  1.37 Gbits/sec  2262    257 KBytes       \n",
      "[ 12]   0.00-60.00  sec  9.60 GBytes  1.37 Gbits/sec  3606    328 KBytes       \n",
      "[ 14]   0.00-60.00  sec  9.57 GBytes  1.37 Gbits/sec  4043    222 KBytes       \n",
      "[ 16]   0.00-60.00  sec  9.59 GBytes  1.37 Gbits/sec  2841    202 KBytes       \n",
      "[ 18]   0.00-60.00  sec  9.60 GBytes  1.37 Gbits/sec  3099    245 KBytes       \n",
      "[ 20]   0.00-60.00  sec  9.59 GBytes  1.37 Gbits/sec  2415    209 KBytes       \n",
      "[ 22]   0.00-60.00  sec  9.69 GBytes  1.39 Gbits/sec   82    445 KBytes       \n",
      "[SUM]   0.00-60.00  sec  96.0 GBytes  13.8 Gbits/sec  26582             \n",
      "- - - - - - - - - - - - - - - - - - - - - - - - -\n",
      "[ ID] Interval           Transfer     Bandwidth       Retr\n",
      "[  4]   0.00-60.00  sec  9.62 GBytes  1.38 Gbits/sec  2680             sender\n",
      "[  4]   0.00-60.00  sec  9.62 GBytes  1.38 Gbits/sec                  receiver\n",
      "[  6]   0.00-60.00  sec  9.60 GBytes  1.37 Gbits/sec  2534             sender\n",
      "[  6]   0.00-60.00  sec  9.59 GBytes  1.37 Gbits/sec                  receiver\n",
      "[  8]   0.00-60.00  sec  9.60 GBytes  1.37 Gbits/sec  3020             sender\n",
      "[  8]   0.00-60.00  sec  9.59 GBytes  1.37 Gbits/sec                  receiver\n",
      "[ 10]   0.00-60.00  sec  9.59 GBytes  1.37 Gbits/sec  2262             sender\n",
      "[ 10]   0.00-60.00  sec  9.58 GBytes  1.37 Gbits/sec                  receiver\n",
      "[ 12]   0.00-60.00  sec  9.60 GBytes  1.37 Gbits/sec  3606             sender\n",
      "[ 12]   0.00-60.00  sec  9.60 GBytes  1.37 Gbits/sec                  receiver\n",
      "[ 14]   0.00-60.00  sec  9.57 GBytes  1.37 Gbits/sec  4043             sender\n",
      "[ 14]   0.00-60.00  sec  9.57 GBytes  1.37 Gbits/sec                  receiver\n",
      "[ 16]   0.00-60.00  sec  9.59 GBytes  1.37 Gbits/sec  2841             sender\n",
      "[ 16]   0.00-60.00  sec  9.58 GBytes  1.37 Gbits/sec                  receiver\n",
      "[ 18]   0.00-60.00  sec  9.60 GBytes  1.37 Gbits/sec  3099             sender\n",
      "[ 18]   0.00-60.00  sec  9.60 GBytes  1.37 Gbits/sec                  receiver\n",
      "[ 20]   0.00-60.00  sec  9.59 GBytes  1.37 Gbits/sec  2415             sender\n",
      "[ 20]   0.00-60.00  sec  9.59 GBytes  1.37 Gbits/sec                  receiver\n",
      "[ 22]   0.00-60.00  sec  9.69 GBytes  1.39 Gbits/sec   82             sender\n",
      "[ 22]   0.00-60.00  sec  9.68 GBytes  1.39 Gbits/sec                  receiver\n",
      "[SUM]   0.00-60.00  sec  96.0 GBytes  13.8 Gbits/sec  26582             sender\n",
      "[SUM]   0.00-60.00  sec  96.0 GBytes  13.7 Gbits/sec                  receiver\n",
      "\n",
      "iperf Done.\n"
     ]
    },
    {
     "data": {
      "text/plain": [
       "('Connecting to host 10.10.2.10, port 5201\\n[  4] local 10.10.1.10 port 50670 connected to 10.10.2.10 port 5201\\n[  6] local 10.10.1.10 port 50672 connected to 10.10.2.10 port 5201\\n[  8] local 10.10.1.10 port 50674 connected to 10.10.2.10 port 5201\\n[ 10] local 10.10.1.10 port 50676 connected to 10.10.2.10 port 5201\\n[ 12] local 10.10.1.10 port 50678 connected to 10.10.2.10 port 5201\\n[ 14] local 10.10.1.10 port 50680 connected to 10.10.2.10 port 5201\\n[ 16] local 10.10.1.10 port 50682 connected to 10.10.2.10 port 5201\\n[ 18] local 10.10.1.10 port 50684 connected to 10.10.2.10 port 5201\\n[ 20] local 10.10.1.10 port 50686 connected to 10.10.2.10 port 5201\\n[ 22] local 10.10.1.10 port 50688 connected to 10.10.2.10 port 5201\\n[ ID] Interval           Transfer     Bandwidth       Retr  Cwnd\\n[  4]   0.00-60.00  sec  9.62 GBytes  1.38 Gbits/sec  2680    288 KBytes       \\n[  6]   0.00-60.00  sec  9.60 GBytes  1.37 Gbits/sec  2534    328 KBytes       \\n[  8]   0.00-60.00  sec  9.60 GBytes  1.37 Gbits/sec  3020    255 KBytes       \\n[ 10]   0.00-60.00  sec  9.59 GBytes  1.37 Gbits/sec  2262    257 KBytes       \\n[ 12]   0.00-60.00  sec  9.60 GBytes  1.37 Gbits/sec  3606    328 KBytes       \\n[ 14]   0.00-60.00  sec  9.57 GBytes  1.37 Gbits/sec  4043    222 KBytes       \\n[ 16]   0.00-60.00  sec  9.59 GBytes  1.37 Gbits/sec  2841    202 KBytes       \\n[ 18]   0.00-60.00  sec  9.60 GBytes  1.37 Gbits/sec  3099    245 KBytes       \\n[ 20]   0.00-60.00  sec  9.59 GBytes  1.37 Gbits/sec  2415    209 KBytes       \\n[ 22]   0.00-60.00  sec  9.69 GBytes  1.39 Gbits/sec   82    445 KBytes       \\n[SUM]   0.00-60.00  sec  96.0 GBytes  13.8 Gbits/sec  26582             \\n- - - - - - - - - - - - - - - - - - - - - - - - -\\n[ ID] Interval           Transfer     Bandwidth       Retr\\n[  4]   0.00-60.00  sec  9.62 GBytes  1.38 Gbits/sec  2680             sender\\n[  4]   0.00-60.00  sec  9.62 GBytes  1.38 Gbits/sec                  receiver\\n[  6]   0.00-60.00  sec  9.60 GBytes  1.37 Gbits/sec  2534             sender\\n[  6]   0.00-60.00  sec  9.59 GBytes  1.37 Gbits/sec                  receiver\\n[  8]   0.00-60.00  sec  9.60 GBytes  1.37 Gbits/sec  3020             sender\\n[  8]   0.00-60.00  sec  9.59 GBytes  1.37 Gbits/sec                  receiver\\n[ 10]   0.00-60.00  sec  9.59 GBytes  1.37 Gbits/sec  2262             sender\\n[ 10]   0.00-60.00  sec  9.58 GBytes  1.37 Gbits/sec                  receiver\\n[ 12]   0.00-60.00  sec  9.60 GBytes  1.37 Gbits/sec  3606             sender\\n[ 12]   0.00-60.00  sec  9.60 GBytes  1.37 Gbits/sec                  receiver\\n[ 14]   0.00-60.00  sec  9.57 GBytes  1.37 Gbits/sec  4043             sender\\n[ 14]   0.00-60.00  sec  9.57 GBytes  1.37 Gbits/sec                  receiver\\n[ 16]   0.00-60.00  sec  9.59 GBytes  1.37 Gbits/sec  2841             sender\\n[ 16]   0.00-60.00  sec  9.58 GBytes  1.37 Gbits/sec                  receiver\\n[ 18]   0.00-60.00  sec  9.60 GBytes  1.37 Gbits/sec  3099             sender\\n[ 18]   0.00-60.00  sec  9.60 GBytes  1.37 Gbits/sec                  receiver\\n[ 20]   0.00-60.00  sec  9.59 GBytes  1.37 Gbits/sec  2415             sender\\n[ 20]   0.00-60.00  sec  9.59 GBytes  1.37 Gbits/sec                  receiver\\n[ 22]   0.00-60.00  sec  9.69 GBytes  1.39 Gbits/sec   82             sender\\n[ 22]   0.00-60.00  sec  9.68 GBytes  1.39 Gbits/sec                  receiver\\n[SUM]   0.00-60.00  sec  96.0 GBytes  13.8 Gbits/sec  26582             sender\\n[SUM]   0.00-60.00  sec  96.0 GBytes  13.7 Gbits/sec                  receiver\\n\\niperf Done.\\n',\n",
       " '')"
      ]
     },
     "execution_count": 65,
     "metadata": {},
     "output_type": "execute_result"
    }
   ],
   "source": [
    "receiver_nodes[0].execute(\"iperf3 -s -1 -f g -D\")\n",
    "sender_nodes[0].execute(\"iperf3 -t 60 -i 60 -P 10 -c 10.10.2.1$(hostname | cut -d'-' -f7)\")"
   ]
  },
  {
   "cell_type": "markdown",
   "id": "559dc2c4-e69d-4749-8abd-f352d55f75bd",
   "metadata": {},
   "source": [
    "## Check network delay\n",
    "\n",
    "We should get sub-ms latency across the router."
   ]
  },
  {
   "cell_type": "code",
   "execution_count": 66,
   "id": "b1c337af-31bb-487b-89ae-918621332976",
   "metadata": {},
   "outputs": [
    {
     "name": "stdout",
     "output_type": "stream",
     "text": [
      "rtt min/avg/max/mdev = 0.129/0.157/0.214/0.033 ms\n",
      "rtt min/avg/max/mdev = 0.155/0.193/0.310/0.058 ms\n",
      "rtt min/avg/max/mdev = 0.114/0.161/0.303/0.073 ms\n",
      "rtt min/avg/max/mdev = 0.134/0.172/0.273/0.053 ms\n",
      "rtt min/avg/max/mdev = 0.154/0.201/0.358/0.080 ms\n",
      "rtt min/avg/max/mdev = 0.119/0.172/0.309/0.069 ms\n",
      "rtt min/avg/max/mdev = 0.131/0.179/0.331/0.077 ms\n",
      "rtt min/avg/max/mdev = 0.123/0.161/0.304/0.072 ms\n",
      "rtt min/avg/max/mdev = 0.124/0.171/0.267/0.051 ms\n",
      "rtt min/avg/max/mdev = 0.128/0.197/0.397/0.101 ms\n"
     ]
    }
   ],
   "source": [
    "for n in sender_nodes:\n",
    "    n.execute(\"ping -c 5 10.10.2.1$(hostname | cut -d'-' -f7) | grep rtt\")"
   ]
  }
 ],
 "metadata": {
  "kernelspec": {
   "display_name": "Python 3 (ipykernel)",
   "language": "python",
   "name": "python3"
  },
  "language_info": {
   "codemirror_mode": {
    "name": "ipython",
    "version": 3
   },
   "file_extension": ".py",
   "mimetype": "text/x-python",
   "name": "python",
   "nbconvert_exporter": "python",
   "pygments_lexer": "ipython3",
   "version": "3.9.7"
  }
 },
 "nbformat": 4,
 "nbformat_minor": 5
}
