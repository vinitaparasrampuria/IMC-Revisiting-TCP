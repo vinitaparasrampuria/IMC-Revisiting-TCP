{
 "cells": [
  {
   "cell_type": "markdown",
   "id": "02a5be90-977a-4948-a299-b5df71273eef",
   "metadata": {},
   "source": [
    "# Run experiments to \"Validate Mathis model at Edge and Core Scale\""
   ]
  },
  {
   "cell_type": "markdown",
   "id": "79d083f0-5028-4517-8d4e-eba13f28cac4",
   "metadata": {},
   "source": [
    "## Set up your FABRIC environment\n"
   ]
  },
  {
   "cell_type": "code",
   "execution_count": 1,
   "id": "9cf58277-480d-4459-a9c6-08a085b1313e",
   "metadata": {},
   "outputs": [
    {
     "data": {
      "text/html": [
       "<style type=\"text/css\">\n",
       "#T_d2077 tr:nth-child(even) {\n",
       "  background: #dbf3ff;\n",
       "  color: #231f20;\n",
       "}\n",
       "#T_d2077 tr:nth-child(odd) {\n",
       "  background: #ffffff;\n",
       "  color: #231f20;\n",
       "}\n",
       "#T_d2077 caption {\n",
       "  text-align: center;\n",
       "  font-size: 150%;\n",
       "}\n",
       "#T_d2077_row0_col0, #T_d2077_row0_col1, #T_d2077_row1_col0, #T_d2077_row1_col1, #T_d2077_row2_col0, #T_d2077_row2_col1, #T_d2077_row3_col0, #T_d2077_row3_col1, #T_d2077_row4_col0, #T_d2077_row4_col1, #T_d2077_row5_col0, #T_d2077_row5_col1, #T_d2077_row6_col0, #T_d2077_row6_col1, #T_d2077_row7_col0, #T_d2077_row7_col1, #T_d2077_row8_col0, #T_d2077_row8_col1, #T_d2077_row9_col0, #T_d2077_row9_col1, #T_d2077_row10_col0, #T_d2077_row10_col1, #T_d2077_row11_col0, #T_d2077_row11_col1, #T_d2077_row12_col0, #T_d2077_row12_col1, #T_d2077_row13_col0, #T_d2077_row13_col1 {\n",
       "  text-align: left;\n",
       "  border: 1px #231f20 solid !important;\n",
       "  overwrite: False;\n",
       "}\n",
       "</style>\n",
       "<table id=\"T_d2077\">\n",
       "  <caption>FABlib Config</caption>\n",
       "  <thead>\n",
       "  </thead>\n",
       "  <tbody>\n",
       "    <tr>\n",
       "      <td id=\"T_d2077_row0_col0\" class=\"data row0 col0\" >Credential Manager</td>\n",
       "      <td id=\"T_d2077_row0_col1\" class=\"data row0 col1\" >cm.fabric-testbed.net</td>\n",
       "    </tr>\n",
       "    <tr>\n",
       "      <td id=\"T_d2077_row1_col0\" class=\"data row1 col0\" >Orchestrator</td>\n",
       "      <td id=\"T_d2077_row1_col1\" class=\"data row1 col1\" >orchestrator.fabric-testbed.net</td>\n",
       "    </tr>\n",
       "    <tr>\n",
       "      <td id=\"T_d2077_row2_col0\" class=\"data row2 col0\" >Token File</td>\n",
       "      <td id=\"T_d2077_row2_col1\" class=\"data row2 col1\" >/home/fabric/.tokens.json</td>\n",
       "    </tr>\n",
       "    <tr>\n",
       "      <td id=\"T_d2077_row3_col0\" class=\"data row3 col0\" >Project ID</td>\n",
       "      <td id=\"T_d2077_row3_col1\" class=\"data row3 col1\" >073ee843-2310-45bd-a01f-a15d808827dc</td>\n",
       "    </tr>\n",
       "    <tr>\n",
       "      <td id=\"T_d2077_row4_col0\" class=\"data row4 col0\" >Bastion Username</td>\n",
       "      <td id=\"T_d2077_row4_col1\" class=\"data row4 col1\" >vinita_p_0000073925</td>\n",
       "    </tr>\n",
       "    <tr>\n",
       "      <td id=\"T_d2077_row5_col0\" class=\"data row5 col0\" >Bastion Private Key File</td>\n",
       "      <td id=\"T_d2077_row5_col1\" class=\"data row5 col1\" >/home/fabric/work/fabric_config/fabric_bastion_key</td>\n",
       "    </tr>\n",
       "    <tr>\n",
       "      <td id=\"T_d2077_row6_col0\" class=\"data row6 col0\" >Bastion Host</td>\n",
       "      <td id=\"T_d2077_row6_col1\" class=\"data row6 col1\" >bastion.fabric-testbed.net</td>\n",
       "    </tr>\n",
       "    <tr>\n",
       "      <td id=\"T_d2077_row7_col0\" class=\"data row7 col0\" >Bastion Private Key Passphrase</td>\n",
       "      <td id=\"T_d2077_row7_col1\" class=\"data row7 col1\" >None</td>\n",
       "    </tr>\n",
       "    <tr>\n",
       "      <td id=\"T_d2077_row8_col0\" class=\"data row8 col0\" >Slice Public Key File</td>\n",
       "      <td id=\"T_d2077_row8_col1\" class=\"data row8 col1\" >/home/fabric/work/fabric_config/slice_key.pub</td>\n",
       "    </tr>\n",
       "    <tr>\n",
       "      <td id=\"T_d2077_row9_col0\" class=\"data row9 col0\" >Slice Private Key File</td>\n",
       "      <td id=\"T_d2077_row9_col1\" class=\"data row9 col1\" >/home/fabric/work/fabric_config/slice_key</td>\n",
       "    </tr>\n",
       "    <tr>\n",
       "      <td id=\"T_d2077_row10_col0\" class=\"data row10 col0\" >Slice Private Key Passphrase</td>\n",
       "      <td id=\"T_d2077_row10_col1\" class=\"data row10 col1\" >None</td>\n",
       "    </tr>\n",
       "    <tr>\n",
       "      <td id=\"T_d2077_row11_col0\" class=\"data row11 col0\" >Log File</td>\n",
       "      <td id=\"T_d2077_row11_col1\" class=\"data row11 col1\" >/home/fabric/fablib.log</td>\n",
       "    </tr>\n",
       "    <tr>\n",
       "      <td id=\"T_d2077_row12_col0\" class=\"data row12 col0\" >Log Level</td>\n",
       "      <td id=\"T_d2077_row12_col1\" class=\"data row12 col1\" >INFO</td>\n",
       "    </tr>\n",
       "    <tr>\n",
       "      <td id=\"T_d2077_row13_col0\" class=\"data row13 col0\" >Version</td>\n",
       "      <td id=\"T_d2077_row13_col1\" class=\"data row13 col1\" >1.5.3</td>\n",
       "    </tr>\n",
       "  </tbody>\n",
       "</table>\n"
      ],
      "text/plain": [
       "<pandas.io.formats.style.Styler at 0x7f4291033e50>"
      ]
     },
     "metadata": {},
     "output_type": "display_data"
    },
    {
     "data": {
      "text/html": [
       "<style type=\"text/css\">\n",
       "#T_d2077 tr:nth-child(even) {\n",
       "  background: #dbf3ff;\n",
       "  color: #231f20;\n",
       "}\n",
       "#T_d2077 tr:nth-child(odd) {\n",
       "  background: #ffffff;\n",
       "  color: #231f20;\n",
       "}\n",
       "#T_d2077 caption {\n",
       "  text-align: center;\n",
       "  font-size: 150%;\n",
       "}\n",
       "#T_d2077_row0_col0, #T_d2077_row0_col1, #T_d2077_row1_col0, #T_d2077_row1_col1, #T_d2077_row2_col0, #T_d2077_row2_col1, #T_d2077_row3_col0, #T_d2077_row3_col1, #T_d2077_row4_col0, #T_d2077_row4_col1, #T_d2077_row5_col0, #T_d2077_row5_col1, #T_d2077_row6_col0, #T_d2077_row6_col1, #T_d2077_row7_col0, #T_d2077_row7_col1, #T_d2077_row8_col0, #T_d2077_row8_col1, #T_d2077_row9_col0, #T_d2077_row9_col1, #T_d2077_row10_col0, #T_d2077_row10_col1, #T_d2077_row11_col0, #T_d2077_row11_col1, #T_d2077_row12_col0, #T_d2077_row12_col1, #T_d2077_row13_col0, #T_d2077_row13_col1 {\n",
       "  text-align: left;\n",
       "  border: 1px #231f20 solid !important;\n",
       "  overwrite: False;\n",
       "}\n",
       "</style>\n",
       "<table id=\"T_d2077\">\n",
       "  <caption>FABlib Config</caption>\n",
       "  <thead>\n",
       "  </thead>\n",
       "  <tbody>\n",
       "    <tr>\n",
       "      <td id=\"T_d2077_row0_col0\" class=\"data row0 col0\" >Credential Manager</td>\n",
       "      <td id=\"T_d2077_row0_col1\" class=\"data row0 col1\" >cm.fabric-testbed.net</td>\n",
       "    </tr>\n",
       "    <tr>\n",
       "      <td id=\"T_d2077_row1_col0\" class=\"data row1 col0\" >Orchestrator</td>\n",
       "      <td id=\"T_d2077_row1_col1\" class=\"data row1 col1\" >orchestrator.fabric-testbed.net</td>\n",
       "    </tr>\n",
       "    <tr>\n",
       "      <td id=\"T_d2077_row2_col0\" class=\"data row2 col0\" >Token File</td>\n",
       "      <td id=\"T_d2077_row2_col1\" class=\"data row2 col1\" >/home/fabric/.tokens.json</td>\n",
       "    </tr>\n",
       "    <tr>\n",
       "      <td id=\"T_d2077_row3_col0\" class=\"data row3 col0\" >Project ID</td>\n",
       "      <td id=\"T_d2077_row3_col1\" class=\"data row3 col1\" >073ee843-2310-45bd-a01f-a15d808827dc</td>\n",
       "    </tr>\n",
       "    <tr>\n",
       "      <td id=\"T_d2077_row4_col0\" class=\"data row4 col0\" >Bastion Username</td>\n",
       "      <td id=\"T_d2077_row4_col1\" class=\"data row4 col1\" >vinita_p_0000073925</td>\n",
       "    </tr>\n",
       "    <tr>\n",
       "      <td id=\"T_d2077_row5_col0\" class=\"data row5 col0\" >Bastion Private Key File</td>\n",
       "      <td id=\"T_d2077_row5_col1\" class=\"data row5 col1\" >/home/fabric/work/fabric_config/fabric_bastion_key</td>\n",
       "    </tr>\n",
       "    <tr>\n",
       "      <td id=\"T_d2077_row6_col0\" class=\"data row6 col0\" >Bastion Host</td>\n",
       "      <td id=\"T_d2077_row6_col1\" class=\"data row6 col1\" >bastion.fabric-testbed.net</td>\n",
       "    </tr>\n",
       "    <tr>\n",
       "      <td id=\"T_d2077_row7_col0\" class=\"data row7 col0\" >Bastion Private Key Passphrase</td>\n",
       "      <td id=\"T_d2077_row7_col1\" class=\"data row7 col1\" >None</td>\n",
       "    </tr>\n",
       "    <tr>\n",
       "      <td id=\"T_d2077_row8_col0\" class=\"data row8 col0\" >Slice Public Key File</td>\n",
       "      <td id=\"T_d2077_row8_col1\" class=\"data row8 col1\" >/home/fabric/work/fabric_config/slice_key.pub</td>\n",
       "    </tr>\n",
       "    <tr>\n",
       "      <td id=\"T_d2077_row9_col0\" class=\"data row9 col0\" >Slice Private Key File</td>\n",
       "      <td id=\"T_d2077_row9_col1\" class=\"data row9 col1\" >/home/fabric/work/fabric_config/slice_key</td>\n",
       "    </tr>\n",
       "    <tr>\n",
       "      <td id=\"T_d2077_row10_col0\" class=\"data row10 col0\" >Slice Private Key Passphrase</td>\n",
       "      <td id=\"T_d2077_row10_col1\" class=\"data row10 col1\" >None</td>\n",
       "    </tr>\n",
       "    <tr>\n",
       "      <td id=\"T_d2077_row11_col0\" class=\"data row11 col0\" >Log File</td>\n",
       "      <td id=\"T_d2077_row11_col1\" class=\"data row11 col1\" >/home/fabric/fablib.log</td>\n",
       "    </tr>\n",
       "    <tr>\n",
       "      <td id=\"T_d2077_row12_col0\" class=\"data row12 col0\" >Log Level</td>\n",
       "      <td id=\"T_d2077_row12_col1\" class=\"data row12 col1\" >INFO</td>\n",
       "    </tr>\n",
       "    <tr>\n",
       "      <td id=\"T_d2077_row13_col0\" class=\"data row13 col0\" >Version</td>\n",
       "      <td id=\"T_d2077_row13_col1\" class=\"data row13 col1\" >1.5.3</td>\n",
       "    </tr>\n",
       "  </tbody>\n",
       "</table>\n"
      ],
      "text/plain": [
       "<pandas.io.formats.style.Styler at 0x7f4291033e50>"
      ]
     },
     "execution_count": 1,
     "metadata": {},
     "output_type": "execute_result"
    }
   ],
   "source": [
    "from fabrictestbed_extensions.fablib.fablib import FablibManager as fablib_manager\n",
    "fablib = fablib_manager() \n",
    "fablib.show_config()"
   ]
  },
  {
   "cell_type": "code",
   "execution_count": 2,
   "id": "4ccb86ad-4f11-4dcd-acf8-748361d615c8",
   "metadata": {},
   "outputs": [],
   "source": [
    "!chmod 600 {fablib.get_bastion_key_filename()}\n",
    "!chmod 600 {fablib.get_default_slice_private_key_file()}"
   ]
  },
  {
   "cell_type": "markdown",
   "id": "1a288b3d-4162-4249-8c9a-111ddb4beecf",
   "metadata": {},
   "source": [
    "## Get slice details"
   ]
  },
  {
   "cell_type": "markdown",
   "id": "a7704d48-a158-4c40-ba58-9ea4f462706c",
   "metadata": {},
   "source": [
    "Put your slice name and the number of endpoints in the following cell:"
   ]
  },
  {
   "cell_type": "code",
   "execution_count": 3,
   "id": "d3047eaf-4fb4-40c1-8dd0-c2f364685384",
   "metadata": {},
   "outputs": [],
   "source": [
    "n_endpoints = 10\n",
    "slice_name=\"bottleneck-\" + str(n_endpoints) + '-test'"
   ]
  },
  {
   "cell_type": "markdown",
   "id": "832e8f83-c35a-4669-98b5-647ef965efb1",
   "metadata": {},
   "source": [
    "Then, load your slice details into the environment.slice = fablib.new_slice(name=slice_name)"
   ]
  },
  {
   "cell_type": "code",
   "execution_count": 4,
   "id": "26f9af4c-28f9-4314-8791-878b4c41d5c6",
   "metadata": {},
   "outputs": [],
   "source": [
    "slice = fablib.get_slice(name=slice_name)"
   ]
  },
  {
   "cell_type": "code",
   "execution_count": 5,
   "id": "1ac3a090-f28c-4665-a470-06a9967decac",
   "metadata": {},
   "outputs": [],
   "source": [
    "sender_nodes = [slice.get_node(name='sender-' + str(i))  for i in range(n_endpoints)]\n",
    "receiver_nodes = [slice.get_node(name='receiver-' + str(i))  for i in range(n_endpoints)]"
   ]
  },
  {
   "cell_type": "code",
   "execution_count": 6,
   "id": "0d7db1cb-7e04-4077-bcd2-c135b78d8cd2",
   "metadata": {},
   "outputs": [],
   "source": [
    "router_node = slice.get_node(name='router')\n",
    "router_ingress_iface = router_node.get_interface(network_name = \"link-sender\")\n",
    "router_egress_iface  = router_node.get_interface(network_name = \"link-receiver\")\n",
    "router_egress_name = router_egress_iface.get_device_name()"
   ]
  },
  {
   "cell_type": "markdown",
   "id": "43392b9f-43fc-4f4a-9734-f63bc99a882f",
   "metadata": {},
   "source": [
    "## Setup the scripts and modules"
   ]
  },
  {
   "cell_type": "markdown",
   "id": "bb577e03-6a84-4edd-b340-6e6bc742a992",
   "metadata": {},
   "source": [
    "First, we will upload all the scripts we need to analyze the results for this experiment. This needs to be done only once before start of experiment."
   ]
  },
  {
   "cell_type": "code",
   "execution_count": 25,
   "id": "676fcb13-840f-4ccd-b8b3-12d48bee1feb",
   "metadata": {},
   "outputs": [],
   "source": [
    "for n in sender_nodes:\n",
    "    n.upload_file('process_cwn_file.py','process_cwn_file.py')\n",
    "    n.upload_file('process_iperf_normal.py','process_iperf_normal.py')\n",
    "    n.upload_file('mathis_new_sender.py','mathis_new_sender.py')\n",
    "    n.upload_file(\"cwn.sh\", \"cwn.sh\")"
   ]
  },
  {
   "cell_type": "markdown",
   "id": "87f66e6a-1ccb-4efb-b794-7f3f65ab925d",
   "metadata": {},
   "source": [
    "Also we need sklearn to process the downloaded files, so install the library in the environment.This needs to be done only once before start of experiment."
   ]
  },
  {
   "cell_type": "code",
   "execution_count": 16,
   "id": "f5f3dcbb-afdc-464e-8e40-fac44e628586",
   "metadata": {},
   "outputs": [
    {
     "name": "stdout",
     "output_type": "stream",
     "text": [
      "Collecting scikit-learn\n",
      "  Downloading scikit_learn-1.3.0-cp310-cp310-manylinux_2_17_x86_64.manylinux2014_x86_64.whl (10.8 MB)\n",
      "\u001b[2K     \u001b[90m━━━━━━━━━━━━━━━━━━━━━━━━━━━━━━━━━━━━━━━━\u001b[0m \u001b[32m10.8/10.8 MB\u001b[0m \u001b[31m66.1 MB/s\u001b[0m eta \u001b[36m0:00:00\u001b[0m00:01\u001b[0m0:01\u001b[0m\n",
      "\u001b[?25hCollecting threadpoolctl>=2.0.0\n",
      "  Downloading threadpoolctl-3.2.0-py3-none-any.whl (15 kB)\n",
      "Collecting scipy>=1.5.0\n",
      "  Downloading scipy-1.11.2-cp310-cp310-manylinux_2_17_x86_64.manylinux2014_x86_64.whl (36.3 MB)\n",
      "\u001b[2K     \u001b[90m━━━━━━━━━━━━━━━━━━━━━━━━━━━━━━━━━━━━━━━━\u001b[0m \u001b[32m36.3/36.3 MB\u001b[0m \u001b[31m34.8 MB/s\u001b[0m eta \u001b[36m0:00:00\u001b[0m00:01\u001b[0m00:01\u001b[0m\n",
      "\u001b[?25hRequirement already satisfied: numpy>=1.17.3 in /opt/conda/lib/python3.10/site-packages (from scikit-learn) (1.25.2)\n",
      "Collecting joblib>=1.1.1\n",
      "  Downloading joblib-1.3.2-py3-none-any.whl (302 kB)\n",
      "\u001b[2K     \u001b[90m━━━━━━━━━━━━━━━━━━━━━━━━━━━━━━━━━━━━━━\u001b[0m \u001b[32m302.2/302.2 kB\u001b[0m \u001b[31m35.6 MB/s\u001b[0m eta \u001b[36m0:00:00\u001b[0m\n",
      "\u001b[?25hInstalling collected packages: threadpoolctl, scipy, joblib, scikit-learn\n",
      "Successfully installed joblib-1.3.2 scikit-learn-1.3.0 scipy-1.11.2 threadpoolctl-3.2.0\n",
      "Note: you may need to restart the kernel to use updated packages.\n"
     ]
    }
   ],
   "source": [
    "pip install scikit-learn"
   ]
  },
  {
   "cell_type": "markdown",
   "id": "e08443dd-e807-4b6d-9346-78d59c6352c8",
   "metadata": {},
   "source": [
    "## Generate flows"
   ]
  },
  {
   "cell_type": "markdown",
   "id": "1a55ca7d-058b-4974-ba1e-47c074d9f50e",
   "metadata": {
    "tags": []
   },
   "source": [
    "### Set experiment parameters\n",
    "\n",
    ">delay, cca, test_duration, num_servers, flows"
   ]
  },
  {
   "cell_type": "markdown",
   "id": "b034aa90-b05f-4b1f-93d7-c7475100a6cb",
   "metadata": {},
   "source": [
    "delay is the delay to be set at the receiver (=20 ms for this experiment)\n",
    "\n",
    "cca is the congestion control algorithm (reno for this experiment)\n",
    "\n",
    "Vary below parameters only:\n",
    "\n",
    "num_servers is the number of ports to be opened on each receiver. For core scale we are opening 10 ports and for edge scale we are opening 1 port.\n",
    "\n",
    "test_duration is the time for which to send the iperf3 flows.\n",
    "\n",
    "flows is the number of parallel flows to be send from each port.\n",
    "\n",
    "For example, to send 1000 flows set num_servers=10 and flows=10. This will send 100 flows from each of the 10 senders.\n",
    "\n",
    "interval is to set the interval time in seconds between periodic bandwidth, jitter, and loss reports from iperf3 (=0.01 sec)"
   ]
  },
  {
   "cell_type": "code",
   "execution_count": 7,
   "id": "ba875fc8-39b8-4cd2-a677-6ec5eb2f5643",
   "metadata": {},
   "outputs": [],
   "source": [
    "cca=\"reno\"\n",
    "delay=20\n",
    "test_duration=900\n",
    "num_servers=10\n",
    "flows=1\n",
    "interval=1"
   ]
  },
  {
   "cell_type": "markdown",
   "id": "5c5e0b66-8b06-47c8-b3b0-3f12ff8e0528",
   "metadata": {
    "tags": []
   },
   "source": [
    "### Get queue statistics on the router before experiment"
   ]
  },
  {
   "cell_type": "code",
   "execution_count": 17,
   "id": "d1e71561-24a9-4108-99d3-b811de60e166",
   "metadata": {},
   "outputs": [
    {
     "data": {
      "text/plain": [
       "('', '')"
      ]
     },
     "execution_count": 17,
     "metadata": {},
     "output_type": "execute_result"
    }
   ],
   "source": [
    "router_node.execute(\"tc -p -s -d -j qdisc show dev \"+router_egress_name +\" >tc_before.txt\")"
   ]
  },
  {
   "cell_type": "code",
   "execution_count": 18,
   "id": "39e63a13-ea19-413d-a86e-0455df26eb0a",
   "metadata": {},
   "outputs": [
    {
     "name": "stdout",
     "output_type": "stream",
     "text": [
      "            \"limit\": 26214400\n",
      "        },\n",
      "        \"bytes\": 827600397591,\n",
      "        \"packets\": 546650204,\n",
      "        \"drops\": 579320,\n",
      "        \"overlimits\": 0,\n",
      "        \"requeues\": 34215125,\n",
      "        \"backlog\": 0,\n",
      "        \"qlen\": 0\n",
      "    } ]\n"
     ]
    },
    {
     "data": {
      "text/plain": [
       "('            \"limit\": 26214400\\n        },\\n        \"bytes\": 827600397591,\\n        \"packets\": 546650204,\\n        \"drops\": 579320,\\n        \"overlimits\": 0,\\n        \"requeues\": 34215125,\\n        \"backlog\": 0,\\n        \"qlen\": 0\\n    } ]\\n',\n",
       " '')"
      ]
     },
     "execution_count": 18,
     "metadata": {},
     "output_type": "execute_result"
    }
   ],
   "source": [
    "router_node.execute(\"tail --lines=10 tc_before.txt\")"
   ]
  },
  {
   "cell_type": "markdown",
   "id": "9d982f36-1870-4caa-a89d-bef2fcbb0db2",
   "metadata": {
    "tags": []
   },
   "source": [
    "## Remove existing result files from the hosts"
   ]
  },
  {
   "cell_type": "code",
   "execution_count": 19,
   "id": "851f44aa-75ed-45cb-a868-7445248c4a91",
   "metadata": {},
   "outputs": [],
   "source": [
    "for n in receiver_nodes:\n",
    "    n.execute(\"rm -f ./*\")\n",
    "\n",
    "for n in sender_nodes:\n",
    "    n.execute(\"rm -f sender*\")\n",
    "    n.execute(\"rm -f data*\")\n",
    "    n.execute(\"rm -f packet*\")\n",
    "    n.execute(\"rm -f output*\")"
   ]
  },
  {
   "cell_type": "markdown",
   "id": "6ce9a001-7b42-4682-be93-0dc660bf544f",
   "metadata": {},
   "source": [
    "Check if the files are removed from the senders and receivers"
   ]
  },
  {
   "cell_type": "code",
   "execution_count": 20,
   "id": "f9f35c26-d50a-4a6f-8db9-9d78b102784c",
   "metadata": {},
   "outputs": [
    {
     "name": "stdout",
     "output_type": "stream",
     "text": [
      "cwn.sh\n",
      "examples\n",
      "mathis_new_sender.py\n",
      "process_cwn_file.py\n",
      "process_iperf_normal.py\n",
      "src\n",
      "cwn.sh\n",
      "examples\n",
      "mathis_new_sender.py\n",
      "process_cwn_file.py\n",
      "process_iperf_normal.py\n",
      "src\n",
      "cwn.sh\n",
      "examples\n",
      "mathis_new_sender.py\n",
      "process_cwn_file.py\n",
      "process_iperf_normal.py\n",
      "src\n",
      "cwn.sh\n",
      "examples\n",
      "mathis_new_sender.py\n",
      "process_cwn_file.py\n",
      "process_iperf_normal.py\n",
      "src\n",
      "cwn.sh\n",
      "examples\n",
      "mathis_new_sender.py\n",
      "process_cwn_file.py\n",
      "process_iperf_normal.py\n",
      "src\n",
      "cwn.sh\n",
      "examples\n",
      "mathis_new_sender.py\n",
      "process_cwn_file.py\n",
      "process_iperf_normal.py\n",
      "src\n",
      "cwn.sh\n",
      "examples\n",
      "mathis_new_sender.py\n",
      "process_cwn_file.py\n",
      "process_iperf_normal.py\n",
      "src\n",
      "cwn.sh\n",
      "examples\n",
      "mathis_new_sender.py\n",
      "process_cwn_file.py\n",
      "process_iperf_normal.py\n",
      "src\n",
      "cwn.sh\n",
      "examples\n",
      "mathis_new_sender.py\n",
      "process_cwn_file.py\n",
      "process_iperf_normal.py\n",
      "src\n",
      "cwn.sh\n",
      "examples\n",
      "mathis_new_sender.py\n",
      "process_cwn_file.py\n",
      "process_iperf_normal.py\n",
      "src\n"
     ]
    }
   ],
   "source": [
    "for n in sender_nodes:\n",
    "    n.execute(\"ls\")"
   ]
  },
  {
   "cell_type": "code",
   "execution_count": 37,
   "id": "825a33d5-bbb8-4fe4-bc8a-74c69c6e75a7",
   "metadata": {},
   "outputs": [],
   "source": [
    "for n in receiver_nodes:\n",
    "    n.execute(\"ls\")"
   ]
  },
  {
   "cell_type": "markdown",
   "id": "e5f7d159-ebb5-46e9-850a-9a250e6a24a8",
   "metadata": {
    "tags": []
   },
   "source": [
    "### Set delay on the receiver\n",
    "\n",
    "> Values: 20ms, 100ms, 200ms"
   ]
  },
  {
   "cell_type": "markdown",
   "id": "88f91f98-5f34-4081-9493-539454fb1f37",
   "metadata": {},
   "source": [
    "Now set up delay on the receiver interface:\n",
    "\n",
    "First delete any existing queue (don't worry if there is an error, it means there was not!)"
   ]
  },
  {
   "cell_type": "code",
   "execution_count": 38,
   "id": "7a0da211-a87d-4dc1-b931-205b19fa3dd9",
   "metadata": {},
   "outputs": [],
   "source": [
    "for n in receiver_nodes:\n",
    "    receiver_inf=n.get_interface(network_name= \"link-receiver\")\n",
    "    receiver_inf_name = receiver_inf.get_device_name()\n",
    "    n.execute(\"sudo tc qdisc del dev \" + receiver_inf_name + \" root netem\")\n",
    "    n.execute(\"sudo tc qdisc add dev \" + receiver_inf_name + \" root netem delay \" + str(delay) +\"ms limit 1000000\")\n",
    "    "
   ]
  },
  {
   "cell_type": "markdown",
   "id": "15f1e6bb-6a90-44ad-8507-752522462b1e",
   "metadata": {},
   "source": [
    "### Start parallel servers on the receivers\n",
    "\n",
    "In this, the base_port is the starting address of port number"
   ]
  },
  {
   "cell_type": "markdown",
   "id": "dca45d0f-e883-4be4-a803-bf2fba9f25cb",
   "metadata": {},
   "source": [
    "Now start the `iperf3` flows:"
   ]
  },
  {
   "cell_type": "code",
   "execution_count": 21,
   "id": "7382ceb2-e264-43c3-8f09-183ff2785f02",
   "metadata": {},
   "outputs": [],
   "source": [
    "base_port=50000\n",
    "for i, n in enumerate(receiver_nodes):\n",
    "    n.execute(\"sudo killall iperf3\")\n",
    "    for k in range (1,num_servers+1): \n",
    "        server_port=base_port+k\n",
    "        report_file=str(server_port)+\"-server.dat\"\n",
    "        n.execute_thread(\"iperf3 -s -p \"+str(server_port)+\" -D --logfile \"+report_file)"
   ]
  },
  {
   "cell_type": "code",
   "execution_count": null,
   "id": "abb0ea39-f838-4955-9f5d-4ab76d7fb55b",
   "metadata": {},
   "outputs": [],
   "source": [
    "#check files in all receiver\n",
    "for n in receiver_nodes:\n",
    "    n.execute(\"ls\")"
   ]
  },
  {
   "cell_type": "markdown",
   "id": "f01ac966-681b-40de-aa48-d80577deda44",
   "metadata": {},
   "source": [
    "### Start parallel clients on the senders\n",
    "\n",
    "In this, the base_port is the starting address of port number on the receiver\n"
   ]
  },
  {
   "cell_type": "code",
   "execution_count": 22,
   "id": "2e058f8f-200b-4b30-acd7-d238a98b7690",
   "metadata": {},
   "outputs": [
    {
     "name": "stdout",
     "output_type": "stream",
     "text": [
      "\u001b[31m iperf3: no process found\n",
      " \u001b[0m\u001b[31m iperf3: no process found\n",
      " \u001b[0m\u001b[31m iperf3: no process found\n",
      " \u001b[0m\u001b[31m iperf3: no process found\n",
      " \u001b[0m\u001b[31m iperf3: no process found\n",
      " \u001b[0m\u001b[31m iperf3: no process found\n",
      " \u001b[0m\u001b[31m iperf3: no process found\n",
      " \u001b[0m\u001b[31m iperf3: no process found\n",
      " \u001b[0m\u001b[31m iperf3: no process found\n",
      " \u001b[0m\u001b[31m iperf3: no process found\n",
      " \u001b[0m"
     ]
    }
   ],
   "source": [
    "import time\n",
    "base_port=50000\n",
    "                                  \n",
    "for i, n in enumerate(sender_nodes):\n",
    "    n.execute(\"sudo killall iperf3\")\n",
    "    \n",
    "    for k in range (0,num_servers):\n",
    "        server_port=base_port+k+1\n",
    "        report_file=\"sender-10.10.2.1\"+str(i)+\"-\"+str(server_port)+\"-\"+str(test_duration)+\"-\"+cca+\".txt\"\n",
    "        n.execute_thread(\"iperf3 -c 10.10.2.1\"+str(i)+ \" -p \"+str(server_port)+ \" -t \"+str(test_duration)+ \" -C \"+cca+\" -P \"+str(flows)+ \" -i \"+str(interval)+\" --format k &>\"+report_file+ \" &\")\n",
    "    time.sleep(5)\n",
    "    n.execute_thread(f'chmod +x cwn.sh && bash cwn.sh 10.10.2.1'+str(i))\n",
    "                                       \n",
    "time.sleep(test_duration+60)              "
   ]
  },
  {
   "cell_type": "code",
   "execution_count": null,
   "id": "042cffdf-3023-4f71-8d7a-f8c28ef64bb2",
   "metadata": {},
   "outputs": [],
   "source": [
    "#check files on all the senders\n",
    "for n in sender_nodes:\n",
    "    n.execute(\"ls\")\n",
    "    "
   ]
  },
  {
   "cell_type": "code",
   "execution_count": null,
   "id": "43d5011c-1cbf-44e4-a344-07724c66a75a",
   "metadata": {},
   "outputs": [],
   "source": [
    "sender_nodes[9].execute(\"tail --lines=10 sender-10.10.2.19-50001-1800-reno.txt\")"
   ]
  },
  {
   "cell_type": "markdown",
   "id": "4d7cd25f-4a01-46eb-84be-081eb6ad6853",
   "metadata": {
    "tags": []
   },
   "source": [
    "### Get queue statistics on the router after experiment"
   ]
  },
  {
   "cell_type": "code",
   "execution_count": 8,
   "id": "6360cbb0-8a70-4d61-9df8-b2d3e6de8051",
   "metadata": {},
   "outputs": [
    {
     "data": {
      "text/plain": [
       "('', '')"
      ]
     },
     "execution_count": 8,
     "metadata": {},
     "output_type": "execute_result"
    }
   ],
   "source": [
    "router_node.execute(\"tc -p -s -d -j qdisc show dev \"+router_egress_name +\" >tc_after.txt\")"
   ]
  },
  {
   "cell_type": "markdown",
   "id": "cfd3071b-334e-458b-80f9-0aa9bc49896a",
   "metadata": {},
   "source": [
    "## Analyze the results"
   ]
  },
  {
   "cell_type": "markdown",
   "id": "2a4c7365-ce87-430b-a9fd-d1567397464d",
   "metadata": {},
   "source": [
    "Calculate sum of bandwidth, square of sum of bandwidth, count of flows and jfi:"
   ]
  },
  {
   "cell_type": "markdown",
   "id": "d7ef57aa-de65-4760-8123-0f8d27bb20e8",
   "metadata": {},
   "source": [
    "Calculate packet drop rate"
   ]
  },
  {
   "cell_type": "code",
   "execution_count": 9,
   "id": "ada4728b-5d35-4fce-bd4f-758deaf7ee71",
   "metadata": {},
   "outputs": [
    {
     "name": "stdout",
     "output_type": "stream",
     "text": [
      "579320\n",
      "546650204\n",
      "593842\n",
      "626059715\n",
      "packet drop before running experiment: 579320\n",
      "\n",
      "packet sent before running experiment: 546650204\n",
      "\n",
      "packet drop after running experiment: 593842\n",
      "\n",
      "packet sent after  running experiment: 626059715\n",
      "\n",
      "packet drop rate: 0.00018287481961701035\n"
     ]
    }
   ],
   "source": [
    "#To get packet dropped:\n",
    "(drop_before,err_drop_before)=router_node.execute(\"tail --lines=10 tc_before.txt| grep '\\\"drops\\\":' | awk '{print $2}' |cut -d ',' -f1\")\n",
    "\n",
    "#To get packets sent\n",
    "(sent_before,err_sent_before)=router_node.execute(\"tail --lines=10 tc_before.txt| grep '\\\"packets\\\":' | awk '{print $2}' |cut -d ',' -f1\")\n",
    "\n",
    "#To get packet dropped:\n",
    "(drop_after,err_drop_after)=router_node.execute(\"tail --lines=10 tc_after.txt| grep '\\\"drops\\\":' | awk '{print $2}' |cut -d ',' -f1\")\n",
    "\n",
    "#To get packets sent\n",
    "(sent_after, err_sent_after)=router_node.execute(\"tail --lines=10 tc_after.txt| grep '\\\"packets\\\":' | awk '{print $2}' |cut -d ',' -f1\")\n",
    "\n",
    "#Calculate packet drop rate:\n",
    "\n",
    "dropped=int(drop_after)-int(drop_before)\n",
    "\n",
    "sent=int(sent_after)-int(sent_before)\n",
    "drop_rate=float(dropped)/float(sent)\n",
    "\n",
    "print(\"packet drop before running experiment: \"+ str(drop_before))\n",
    "print(\"packet sent before running experiment: \" + str(sent_before))\n",
    "print(\"packet drop after running experiment: \"+ str(drop_after))\n",
    "print(\"packet sent after  running experiment: \" + str(sent_after))\n",
    "print(\"packet drop rate: \" + str(drop_rate))\n"
   ]
  },
  {
   "cell_type": "markdown",
   "id": "aa35bfd5-44d4-4e74-8b69-331f72376bc0",
   "metadata": {},
   "source": [
    "Run the data processing scripts on each sender to get packet loss, congestion window halving events and rtt from iperf3 and ss output."
   ]
  },
  {
   "cell_type": "code",
   "execution_count": 10,
   "id": "0af2a8d4-ffc3-4354-9f5f-8a2658a7a16f",
   "metadata": {},
   "outputs": [],
   "source": [
    "for i,n in enumerate(sender_nodes):\n",
    "    n.execute_thread(f'chmod +x process_cwn_file.py && python3 process_cwn_file.py '+str(i) )\n",
    "    n.execute_thread(f'chmod +x process_iperf_normal.py && python3 process_iperf_normal.py '+str(i)+\\\n",
    "                                     \" \"+str(num_servers)+\" \"+str(test_duration)+\" \"+cca+\" \"+str(flows))\n",
    "\n"
   ]
  },
  {
   "cell_type": "markdown",
   "id": "2f84e03c-9341-4872-ac3b-9aeed4e0860a",
   "metadata": {},
   "source": [
    "Run mathis_sender.py script on each sender to get packet loss rate and cwnd halving rate of each flow and save the output to packet_loss_iperf(i).csv file"
   ]
  },
  {
   "cell_type": "code",
   "execution_count": 11,
   "id": "431001bd-480b-4d9f-b9ec-d3d112814113",
   "metadata": {},
   "outputs": [
    {
     "name": "stdout",
     "output_type": "stream",
     "text": [
      "argument: 1 value: 0\n",
      "argument: 2 value: 10\n",
      "argument: 3 value: reno\n",
      "argument: 4 value: 14522\n",
      "argument: 5 value: 79409511\n",
      "argument: 6 value: 1\n",
      "argument: 7 value: 900\n",
      "argument: 1 value: 1\n",
      "argument: 2 value: 10\n",
      "argument: 3 value: reno\n",
      "argument: 4 value: 14522\n",
      "argument: 5 value: 79409511\n",
      "argument: 6 value: 1\n",
      "argument: 7 value: 900\n",
      "argument: 1 value: 2\n",
      "argument: 2 value: 10\n",
      "argument: 3 value: reno\n",
      "argument: 4 value: 14522\n",
      "argument: 5 value: 79409511\n",
      "argument: 6 value: 1\n",
      "argument: 7 value: 900\n",
      "argument: 1 value: 3\n",
      "argument: 2 value: 10\n",
      "argument: 3 value: reno\n",
      "argument: 4 value: 14522\n",
      "argument: 5 value: 79409511\n",
      "argument: 6 value: 1\n",
      "argument: 7 value: 900\n",
      "argument: 1 value: 4\n",
      "argument: 2 value: 10\n",
      "argument: 3 value: reno\n",
      "argument: 4 value: 14522\n",
      "argument: 5 value: 79409511\n",
      "argument: 6 value: 1\n",
      "argument: 7 value: 900\n",
      "argument: 1 value: 5\n",
      "argument: 2 value: 10\n",
      "argument: 3 value: reno\n",
      "argument: 4 value: 14522\n",
      "argument: 5 value: 79409511\n",
      "argument: 6 value: 1\n",
      "argument: 7 value: 900\n",
      "argument: 1 value: 6\n",
      "argument: 2 value: 10\n",
      "argument: 3 value: reno\n",
      "argument: 4 value: 14522\n",
      "argument: 5 value: 79409511\n",
      "argument: 6 value: 1\n",
      "argument: 7 value: 900\n",
      "argument: 1 value: 7\n",
      "argument: 2 value: 10\n",
      "argument: 3 value: reno\n",
      "argument: 4 value: 14522\n",
      "argument: 5 value: 79409511\n",
      "argument: 6 value: 1\n",
      "argument: 7 value: 900\n",
      "argument: 1 value: 8\n",
      "argument: 2 value: 10\n",
      "argument: 3 value: reno\n",
      "argument: 4 value: 14522\n",
      "argument: 5 value: 79409511\n",
      "argument: 6 value: 1\n",
      "argument: 7 value: 900\n",
      "argument: 1 value: 9\n",
      "argument: 2 value: 10\n",
      "argument: 3 value: reno\n",
      "argument: 4 value: 14522\n",
      "argument: 5 value: 79409511\n",
      "argument: 6 value: 1\n",
      "argument: 7 value: 900\n"
     ]
    }
   ],
   "source": [
    "import time\n",
    "time.sleep(300)\n",
    "for i,n in enumerate(sender_nodes):\n",
    "    n.execute('chmod +x mathis_new_sender.py && python3 mathis_new_sender.py '+str(i)+\\\n",
    "                                      \" \"+str(num_servers)+\" \"+cca+\" \"+str(dropped)+\" \"+str(sent)+\" \"+str(interval)+\" \"+str(test_duration))"
   ]
  },
  {
   "cell_type": "markdown",
   "id": "00a3969e-7d5c-47f8-96a0-2f6443e55a00",
   "metadata": {},
   "source": [
    "Get JFI by calculating total bandwidth, sum of sq of bandwidth and count of flow."
   ]
  },
  {
   "cell_type": "code",
   "execution_count": 12,
   "id": "60d19187-b28f-4598-b003-31377e85880c",
   "metadata": {},
   "outputs": [
    {
     "name": "stdout",
     "output_type": "stream",
     "text": [
      "100071\n",
      "1013475315\n",
      "10\n",
      "94989\n",
      "905771777\n",
      "10\n",
      "94227\n",
      "901456975\n",
      "10\n",
      "99876\n",
      "1012054372\n",
      "10\n",
      "92342\n",
      "859129762\n",
      "10\n",
      "97228\n",
      "947330946\n",
      "10\n",
      "108189\n",
      "1182568857\n",
      "10\n",
      "104479\n",
      "1096515887\n",
      "10\n",
      "123884\n",
      "1608831014\n",
      "10\n",
      "108725\n",
      "1184015537\n",
      "10\n",
      "Sum of bandwidth is 1024010.000000 Kbits/sec \n",
      "Sum of square of bandwidth is 10711150442.000000\n",
      "Count of flows is 100\n",
      "JFI is 0.978977\n"
     ]
    }
   ],
   "source": [
    "\n",
    "sum_bw = []\n",
    "sum_sq_bw = []\n",
    "count_flow = []\n",
    "\n",
    "for n in sender_nodes:\n",
    "    (sum_sen, serr)=n.execute(\"grep -r -E \\\"[0-9].*0.00-[0-9].*sender\\\" . |awk '{sum+=$7}END {print sum}'\")\n",
    "    sum_bw.append(float(sum_sen.strip()))\n",
    "    (sum_sq, sqerr)=n.execute(\"grep -r -E \\\"[0-9].*0.00-[0-9].*sender\\\" . |awk '{sum+=$7*$7}END {print sum}'\")\n",
    "    sum_sq_bw.append(float(sum_sq.strip()))\n",
    "    (ncount, ncerr)=n.execute(\"grep -r -E \\\"[0-9].*0.00-[0-9].*sender\\\" . |awk '{count+=1}END {print count}'\")\n",
    "    count_flow.append(int(ncount.strip()))\n",
    "\n",
    "\n",
    "total_tput=sum(sum_bw)\n",
    "sum_sq_tput=sum(sum_sq_bw)\n",
    "count_flow=sum(count_flow)\n",
    "\n",
    "print(\"Sum of bandwidth is %f Kbits/sec \" % total_tput)\n",
    "\n",
    "print(\"Sum of square of bandwidth is %f\" % sum_sq_tput)\n",
    "\n",
    "print(\"Count of flows is %d\" % count_flow)\n",
    "\n",
    "jfi= (total_tput*total_tput)/(count_flow*sum_sq_tput)\n",
    "\n",
    "print(\"JFI is %f\" % jfi)"
   ]
  },
  {
   "cell_type": "code",
   "execution_count": 13,
   "id": "e6efa0a0-529f-464a-be21-0b0d4794e634",
   "metadata": {},
   "outputs": [],
   "source": [
    "import csv\n",
    "import sys\n",
    "import os\n",
    "\n",
    "jfi_filename='jfi.csv'\n",
    "if not os.path.isfile(jfi_filename):\n",
    "    with open(jfi_filename, 'a', newline='') as csvfile:\n",
    "        writer = csv.writer(csvfile)\n",
    "        header ='CCA', 'Duration of Expt(sec)', 'Base RTT(ms)', 'Total Bandwidth(Kbps)', 'Sum of sq of BW', 'Flow Count', 'JFI'\n",
    "        writer.writerow(header)\n",
    "    \n",
    "with open(jfi_filename, 'a', newline='') as csvfile:\n",
    "    writer = csv.writer(csvfile)\n",
    "    columns = cca, test_duration, delay, total_tput, sum_sq_tput, count_flow, jfi\n",
    "    writer.writerow(columns)"
   ]
  },
  {
   "cell_type": "markdown",
   "id": "296f5fa2-fdd1-4800-a584-567c080828cf",
   "metadata": {},
   "source": [
    "Download all the packet_loss_iperf(i).csv file to the environment"
   ]
  },
  {
   "cell_type": "code",
   "execution_count": 14,
   "id": "5c4a58c5-0ec3-45b9-9c79-5114e1bf8ae0",
   "metadata": {},
   "outputs": [],
   "source": [
    "for i,n in enumerate(sender_nodes):\n",
    "    n.download_file(\"/home/fabric/work/IMC6/fabric-notebooks/packet_loss_iperf\"+str(i)+\".csv\", \"/home/ubuntu/packet_loss_iperf\"+str(i)+\".csv\")"
   ]
  },
  {
   "cell_type": "markdown",
   "id": "76c00d26-4252-493f-a072-095ada3c6c68",
   "metadata": {},
   "source": [
    "Process the downloaded file to get the Mathis constant. Final output is saved to Mathis_C.csv file."
   ]
  },
  {
   "cell_type": "code",
   "execution_count": 17,
   "id": "bf2411b3-47a4-4963-9580-bb2ff234aee1",
   "metadata": {},
   "outputs": [
    {
     "name": "stdout",
     "output_type": "stream",
     "text": [
      "method-1: calculation of packet_loss rate using transfer and retrans from iperf3 data\n",
      "Intercept:  0.0\n",
      "Coefficient list:  [5.81714831]\n",
      "method-2: calculation of cwnd_halving rate using cwnd and transfer from iperf3 data\n",
      "Intercept:  0.0\n",
      "Coefficient list:  [1.38785191]\n"
     ]
    }
   ],
   "source": [
    "import pandas as pd\n",
    "import numpy as np\n",
    "import csv\n",
    "import sklearn\n",
    "from sklearn import metrics\n",
    "from sklearn.linear_model import LinearRegression\n",
    "import matplotlib.pyplot as plt\n",
    "\n",
    "import matplotlib.backends.backend_pdf\n",
    "from matplotlib.backends.backend_pdf import PdfPages\n",
    "from sklearn.metrics import accuracy_score\n",
    "import sys\n",
    "import os\n",
    "\n",
    "output_filename='Mathis_C.csv'\n",
    "if not os.path.isfile(output_filename):\n",
    "    with open(output_filename, 'a', newline='') as csvfile:\n",
    "      writer = csv.writer(csvfile)\n",
    "      header = 'time_interval', 'time_duration' ,'ports', 'sum(y_values)', 'total_cwnd_half', 'total_retransmission',\\\n",
    "        'total_retransmission/total_cwnd_half', 'np.nanmean(list_ratio)', 'reg_simple1.intercept_', 'reg_simple1.coef_[0]',\\\n",
    "        'reg_simple2.intercept_', 'reg_simple2.coef_[0]', 'router_dropped', 'router_sent', 'router_dropped/total_cwnd_half', 'mse_1', 'mse_2'\n",
    "      writer.writerow(header)\n",
    "\n",
    "df_csv_concat = pd.concat([pd.read_csv(\"packet_loss_iperf\"+str(i)+\".csv\") for i in range(n_endpoints) ], ignore_index=True)\n",
    "    \n",
    "    \n",
    "y_values = np.array(df_csv_concat['bandwidth_port'])\n",
    "x1_values = np.array(df_csv_concat['x1']).reshape(-1, 1)\n",
    "x2_values = np.array(df_csv_concat['x2']).reshape(-1, 1)\n",
    "\n",
    "\n",
    "print(\"method-1: calculation of packet_loss rate using transfer and retrans from iperf3 data\")\n",
    "reg_simple1 = LinearRegression(fit_intercept = False).fit(x1_values, y_values)\n",
    "print(\"Intercept: \" , reg_simple1.intercept_)\n",
    "print(\"Coefficient list: \", reg_simple1.coef_)\n",
    "\n",
    "print(\"method-2: calculation of cwnd_halving rate using cwnd and transfer from iperf3 data\")\n",
    "reg_simple2 = LinearRegression(fit_intercept = False).fit(x2_values, y_values)\n",
    "print(\"Intercept: \" , reg_simple2.intercept_)\n",
    "print(\"Coefficient list: \", reg_simple2.coef_)\n",
    "\n",
    "\n",
    "y_hat1 = reg_simple1.predict(x1_values)\n",
    "y_hat2 = reg_simple2.predict(x2_values)\n",
    "\n",
    "mse1 = metrics.mean_squared_error(y_values, y_hat1)\n",
    "mse2 = metrics.mean_squared_error(y_values, y_hat2)\n",
    "\n",
    "with open(output_filename, 'a', newline='') as csvfile:\n",
    "  writer = csv.writer(csvfile)\n",
    "  columns = interval, test_duration, len(df_csv_concat), sum(y_values), sum(df_csv_concat['cwn_half_port']), sum(df_csv_concat['port_retrans']),\\\n",
    "    sum(df_csv_concat['port_retrans'])/sum(df_csv_concat['cwn_half_port']), np.nanmean(df_csv_concat['ratio']), reg_simple1.intercept_,\\\n",
    "    reg_simple1.coef_[0], reg_simple2.intercept_, reg_simple2.coef_[0], dropped, sent, dropped/sum(df_csv_concat['cwn_half_port']), mse1, mse2\n",
    "  writer.writerow(columns)\n"
   ]
  },
  {
   "cell_type": "markdown",
   "id": "56551dcc-f9b7-4a74-b4e5-40052841705e",
   "metadata": {},
   "source": [
    "Save the linear regression plots to a pdf."
   ]
  },
  {
   "cell_type": "code",
   "execution_count": 18,
   "id": "9f842af0-b97b-4365-84b3-d74235381bf9",
   "metadata": {},
   "outputs": [
    {
     "data": {
      "image/png": "[encoded data removed]",
      "text/plain": [
       "<Figure size 800x600 with 1 Axes>"
      ]
     },
     "metadata": {},
     "output_type": "display_data"
    },
    {
     "data": {
      "image/png": "[encoded data removed]",
      "text/plain": [
       "<Figure size 800x600 with 1 Axes>"
      ]
     },
     "metadata": {},
     "output_type": "display_data"
    }
   ],
   "source": [
    "with PdfPages(\"linear_reg_plot.pdf\") as pdf:\n",
    "  plt.rcParams['figure.figsize'] = (8,6)\n",
    "\n",
    "\n",
    "  plt.scatter(x=x1_values.squeeze(), y=y_values, color='C4', s=10, label='actual values')\n",
    "  plt.scatter(x=x1_values.squeeze(), y=y_hat1, color='C3', s=10, label='predicted_values')\n",
    "  plt.plot(x1_values.squeeze(), y_hat1, color='C2', linewidth=0.5, label='fit')\n",
    "  plt.xlabel(\"x=mss/rtt*sqrt(packet_loss_rate)\") \n",
    "  plt.ylabel(\"y=bandwidth(bits/sec)\")\n",
    "  plt.title(\"Method-1: calculation of packet_loss rate using transfer and retrans from iperf3 data\")\n",
    "  plt.legend()\n",
    "  pdf.savefig()  # saves the current figure into a pdf page\n",
    "  plt.show()\n",
    "  plt.close()\n",
    "\n",
    "  plt.scatter(x=x2_values.squeeze(), y=y_values, color='C4', alpha=1, s=10, label='actual values')\n",
    "  plt.scatter(x=x2_values.squeeze(), y=y_hat2, color='C3',  alpha=1, s=10, label='predicted_values')\n",
    "  plt.plot(x2_values.squeeze(), y_hat2, color='C2', linewidth=0.5, label='fit')\n",
    "  plt.xlabel(\"x=mss/rtt*sqrt(cwnd_half_rate)\")\n",
    "  plt.ylabel(\"y=bandwidth(bits/sec)\")\n",
    "\n",
    "  plt.title(\"Method-2: calculation of cwnd_halving rate using cwnd and transfer from iperf3 data\")\n",
    "  plt.legend()\n",
    "  pdf.savefig()  # saves the current figure into a pdf page\n",
    "  plt.show()\n",
    "  plt.close()"
   ]
  },
  {
   "cell_type": "markdown",
   "id": "2f7cd1c4-1af9-4c4d-9b35-df9184ac4f66",
   "metadata": {},
   "source": [
    "Remove the transfered files after data analysis and/or downloading to your local system."
   ]
  },
  {
   "cell_type": "code",
   "execution_count": 19,
   "id": "6a5f8f62-177a-4060-9a41-a8fd079936d4",
   "metadata": {},
   "outputs": [],
   "source": [
    "%rm li*"
   ]
  },
  {
   "cell_type": "code",
   "execution_count": 20,
   "id": "defe4aa4-83a3-4b76-94fa-af596e14996a",
   "metadata": {},
   "outputs": [],
   "source": [
    "%rm pac*"
   ]
  },
  {
   "cell_type": "code",
   "execution_count": null,
   "id": "99421e16-d39a-4cd0-bdf4-16fe1b8adb5d",
   "metadata": {},
   "outputs": [],
   "source": []
  }
 ],
 "metadata": {
  "kernelspec": {
   "display_name": "Python 3 (ipykernel)",
   "language": "python",
   "name": "python3"
  },
  "language_info": {
   "codemirror_mode": {
    "name": "ipython",
    "version": 3
   },
   "file_extension": ".py",
   "mimetype": "text/x-python",
   "name": "python",
   "nbconvert_exporter": "python",
   "pygments_lexer": "ipython3",
   "version": "3.10.6"
  }
 },
 "nbformat": 4,
 "nbformat_minor": 5
}
