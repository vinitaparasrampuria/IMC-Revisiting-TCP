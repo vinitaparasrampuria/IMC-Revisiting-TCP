{
 "cells": [
  {
   "cell_type": "markdown",
   "id": "02a5be90-977a-4948-a299-b5df71273eef",
   "metadata": {},
   "source": [
    "# Experiment to observe \"Intra-CCA fairness by Reno, Cubic and BBR at Edge and Core Scale\""
   ]
  },
  {
   "cell_type": "markdown",
   "id": "79d083f0-5028-4517-8d4e-eba13f28cac4",
   "metadata": {},
   "source": [
    "## Set up your FABRIC environment\n"
   ]
  },
  {
   "cell_type": "code",
   "execution_count": 1,
   "id": "9cf58277-480d-4459-a9c6-08a085b1313e",
   "metadata": {},
   "outputs": [
    {
     "data": {
      "text/html": [
       "<style type=\"text/css\">\n",
       "#T_46056 tr:nth-child(even) {\n",
       "  background: #dbf3ff;\n",
       "  color: #231f20;\n",
       "}\n",
       "#T_46056 tr:nth-child(odd) {\n",
       "  background: #ffffff;\n",
       "  color: #231f20;\n",
       "}\n",
       "#T_46056 caption {\n",
       "  text-align: center;\n",
       "  font-size: 150%;\n",
       "}\n",
       "#T_46056_row0_col0, #T_46056_row0_col1, #T_46056_row1_col0, #T_46056_row1_col1, #T_46056_row2_col0, #T_46056_row2_col1, #T_46056_row3_col0, #T_46056_row3_col1, #T_46056_row4_col0, #T_46056_row4_col1, #T_46056_row5_col0, #T_46056_row5_col1, #T_46056_row6_col0, #T_46056_row6_col1, #T_46056_row7_col0, #T_46056_row7_col1, #T_46056_row8_col0, #T_46056_row8_col1, #T_46056_row9_col0, #T_46056_row9_col1, #T_46056_row10_col0, #T_46056_row10_col1, #T_46056_row11_col0, #T_46056_row11_col1, #T_46056_row12_col0, #T_46056_row12_col1, #T_46056_row13_col0, #T_46056_row13_col1 {\n",
       "  text-align: left;\n",
       "  border: 1px #231f20 solid !important;\n",
       "  overwrite: False;\n",
       "}\n",
       "</style>\n",
       "<table id=\"T_46056\">\n",
       "  <caption>FABlib Config</caption>\n",
       "  <thead>\n",
       "  </thead>\n",
       "  <tbody>\n",
       "    <tr>\n",
       "      <td id=\"T_46056_row0_col0\" class=\"data row0 col0\" >Credential Manager</td>\n",
       "      <td id=\"T_46056_row0_col1\" class=\"data row0 col1\" >cm.fabric-testbed.net</td>\n",
       "    </tr>\n",
       "    <tr>\n",
       "      <td id=\"T_46056_row1_col0\" class=\"data row1 col0\" >Orchestrator</td>\n",
       "      <td id=\"T_46056_row1_col1\" class=\"data row1 col1\" >orchestrator.fabric-testbed.net</td>\n",
       "    </tr>\n",
       "    <tr>\n",
       "      <td id=\"T_46056_row2_col0\" class=\"data row2 col0\" >Token File</td>\n",
       "      <td id=\"T_46056_row2_col1\" class=\"data row2 col1\" >/home/fabric/.tokens.json</td>\n",
       "    </tr>\n",
       "    <tr>\n",
       "      <td id=\"T_46056_row3_col0\" class=\"data row3 col0\" >Project ID</td>\n",
       "      <td id=\"T_46056_row3_col1\" class=\"data row3 col1\" >073ee843-2310-45bd-a01f-a15d808827dc</td>\n",
       "    </tr>\n",
       "    <tr>\n",
       "      <td id=\"T_46056_row4_col0\" class=\"data row4 col0\" >Bastion Username</td>\n",
       "      <td id=\"T_46056_row4_col1\" class=\"data row4 col1\" >vinita_p_0000073925</td>\n",
       "    </tr>\n",
       "    <tr>\n",
       "      <td id=\"T_46056_row5_col0\" class=\"data row5 col0\" >Bastion Private Key File</td>\n",
       "      <td id=\"T_46056_row5_col1\" class=\"data row5 col1\" >/home/fabric/work/fabric_config/fabric_bastion_key</td>\n",
       "    </tr>\n",
       "    <tr>\n",
       "      <td id=\"T_46056_row6_col0\" class=\"data row6 col0\" >Bastion Host</td>\n",
       "      <td id=\"T_46056_row6_col1\" class=\"data row6 col1\" >bastion.fabric-testbed.net</td>\n",
       "    </tr>\n",
       "    <tr>\n",
       "      <td id=\"T_46056_row7_col0\" class=\"data row7 col0\" >Bastion Private Key Passphrase</td>\n",
       "      <td id=\"T_46056_row7_col1\" class=\"data row7 col1\" >None</td>\n",
       "    </tr>\n",
       "    <tr>\n",
       "      <td id=\"T_46056_row8_col0\" class=\"data row8 col0\" >Slice Public Key File</td>\n",
       "      <td id=\"T_46056_row8_col1\" class=\"data row8 col1\" >/home/fabric/work/fabric_config/slice_key.pub</td>\n",
       "    </tr>\n",
       "    <tr>\n",
       "      <td id=\"T_46056_row9_col0\" class=\"data row9 col0\" >Slice Private Key File</td>\n",
       "      <td id=\"T_46056_row9_col1\" class=\"data row9 col1\" >/home/fabric/work/fabric_config/slice_key</td>\n",
       "    </tr>\n",
       "    <tr>\n",
       "      <td id=\"T_46056_row10_col0\" class=\"data row10 col0\" >Slice Private Key Passphrase</td>\n",
       "      <td id=\"T_46056_row10_col1\" class=\"data row10 col1\" >None</td>\n",
       "    </tr>\n",
       "    <tr>\n",
       "      <td id=\"T_46056_row11_col0\" class=\"data row11 col0\" >Log File</td>\n",
       "      <td id=\"T_46056_row11_col1\" class=\"data row11 col1\" >/home/fabric/fablib.log</td>\n",
       "    </tr>\n",
       "    <tr>\n",
       "      <td id=\"T_46056_row12_col0\" class=\"data row12 col0\" >Log Level</td>\n",
       "      <td id=\"T_46056_row12_col1\" class=\"data row12 col1\" >INFO</td>\n",
       "    </tr>\n",
       "    <tr>\n",
       "      <td id=\"T_46056_row13_col0\" class=\"data row13 col0\" >Version</td>\n",
       "      <td id=\"T_46056_row13_col1\" class=\"data row13 col1\" >1.5.3</td>\n",
       "    </tr>\n",
       "  </tbody>\n",
       "</table>\n"
      ],
      "text/plain": [
       "<pandas.io.formats.style.Styler at 0x7f60dd03be20>"
      ]
     },
     "metadata": {},
     "output_type": "display_data"
    },
    {
     "data": {
      "text/html": [
       "<style type=\"text/css\">\n",
       "#T_46056 tr:nth-child(even) {\n",
       "  background: #dbf3ff;\n",
       "  color: #231f20;\n",
       "}\n",
       "#T_46056 tr:nth-child(odd) {\n",
       "  background: #ffffff;\n",
       "  color: #231f20;\n",
       "}\n",
       "#T_46056 caption {\n",
       "  text-align: center;\n",
       "  font-size: 150%;\n",
       "}\n",
       "#T_46056_row0_col0, #T_46056_row0_col1, #T_46056_row1_col0, #T_46056_row1_col1, #T_46056_row2_col0, #T_46056_row2_col1, #T_46056_row3_col0, #T_46056_row3_col1, #T_46056_row4_col0, #T_46056_row4_col1, #T_46056_row5_col0, #T_46056_row5_col1, #T_46056_row6_col0, #T_46056_row6_col1, #T_46056_row7_col0, #T_46056_row7_col1, #T_46056_row8_col0, #T_46056_row8_col1, #T_46056_row9_col0, #T_46056_row9_col1, #T_46056_row10_col0, #T_46056_row10_col1, #T_46056_row11_col0, #T_46056_row11_col1, #T_46056_row12_col0, #T_46056_row12_col1, #T_46056_row13_col0, #T_46056_row13_col1 {\n",
       "  text-align: left;\n",
       "  border: 1px #231f20 solid !important;\n",
       "  overwrite: False;\n",
       "}\n",
       "</style>\n",
       "<table id=\"T_46056\">\n",
       "  <caption>FABlib Config</caption>\n",
       "  <thead>\n",
       "  </thead>\n",
       "  <tbody>\n",
       "    <tr>\n",
       "      <td id=\"T_46056_row0_col0\" class=\"data row0 col0\" >Credential Manager</td>\n",
       "      <td id=\"T_46056_row0_col1\" class=\"data row0 col1\" >cm.fabric-testbed.net</td>\n",
       "    </tr>\n",
       "    <tr>\n",
       "      <td id=\"T_46056_row1_col0\" class=\"data row1 col0\" >Orchestrator</td>\n",
       "      <td id=\"T_46056_row1_col1\" class=\"data row1 col1\" >orchestrator.fabric-testbed.net</td>\n",
       "    </tr>\n",
       "    <tr>\n",
       "      <td id=\"T_46056_row2_col0\" class=\"data row2 col0\" >Token File</td>\n",
       "      <td id=\"T_46056_row2_col1\" class=\"data row2 col1\" >/home/fabric/.tokens.json</td>\n",
       "    </tr>\n",
       "    <tr>\n",
       "      <td id=\"T_46056_row3_col0\" class=\"data row3 col0\" >Project ID</td>\n",
       "      <td id=\"T_46056_row3_col1\" class=\"data row3 col1\" >073ee843-2310-45bd-a01f-a15d808827dc</td>\n",
       "    </tr>\n",
       "    <tr>\n",
       "      <td id=\"T_46056_row4_col0\" class=\"data row4 col0\" >Bastion Username</td>\n",
       "      <td id=\"T_46056_row4_col1\" class=\"data row4 col1\" >vinita_p_0000073925</td>\n",
       "    </tr>\n",
       "    <tr>\n",
       "      <td id=\"T_46056_row5_col0\" class=\"data row5 col0\" >Bastion Private Key File</td>\n",
       "      <td id=\"T_46056_row5_col1\" class=\"data row5 col1\" >/home/fabric/work/fabric_config/fabric_bastion_key</td>\n",
       "    </tr>\n",
       "    <tr>\n",
       "      <td id=\"T_46056_row6_col0\" class=\"data row6 col0\" >Bastion Host</td>\n",
       "      <td id=\"T_46056_row6_col1\" class=\"data row6 col1\" >bastion.fabric-testbed.net</td>\n",
       "    </tr>\n",
       "    <tr>\n",
       "      <td id=\"T_46056_row7_col0\" class=\"data row7 col0\" >Bastion Private Key Passphrase</td>\n",
       "      <td id=\"T_46056_row7_col1\" class=\"data row7 col1\" >None</td>\n",
       "    </tr>\n",
       "    <tr>\n",
       "      <td id=\"T_46056_row8_col0\" class=\"data row8 col0\" >Slice Public Key File</td>\n",
       "      <td id=\"T_46056_row8_col1\" class=\"data row8 col1\" >/home/fabric/work/fabric_config/slice_key.pub</td>\n",
       "    </tr>\n",
       "    <tr>\n",
       "      <td id=\"T_46056_row9_col0\" class=\"data row9 col0\" >Slice Private Key File</td>\n",
       "      <td id=\"T_46056_row9_col1\" class=\"data row9 col1\" >/home/fabric/work/fabric_config/slice_key</td>\n",
       "    </tr>\n",
       "    <tr>\n",
       "      <td id=\"T_46056_row10_col0\" class=\"data row10 col0\" >Slice Private Key Passphrase</td>\n",
       "      <td id=\"T_46056_row10_col1\" class=\"data row10 col1\" >None</td>\n",
       "    </tr>\n",
       "    <tr>\n",
       "      <td id=\"T_46056_row11_col0\" class=\"data row11 col0\" >Log File</td>\n",
       "      <td id=\"T_46056_row11_col1\" class=\"data row11 col1\" >/home/fabric/fablib.log</td>\n",
       "    </tr>\n",
       "    <tr>\n",
       "      <td id=\"T_46056_row12_col0\" class=\"data row12 col0\" >Log Level</td>\n",
       "      <td id=\"T_46056_row12_col1\" class=\"data row12 col1\" >INFO</td>\n",
       "    </tr>\n",
       "    <tr>\n",
       "      <td id=\"T_46056_row13_col0\" class=\"data row13 col0\" >Version</td>\n",
       "      <td id=\"T_46056_row13_col1\" class=\"data row13 col1\" >1.5.3</td>\n",
       "    </tr>\n",
       "  </tbody>\n",
       "</table>\n"
      ],
      "text/plain": [
       "<pandas.io.formats.style.Styler at 0x7f60dd03be20>"
      ]
     },
     "execution_count": 1,
     "metadata": {},
     "output_type": "execute_result"
    }
   ],
   "source": [
    "from fabrictestbed_extensions.fablib.fablib import FablibManager as fablib_manager\n",
    "fablib = fablib_manager() \n",
    "fablib.show_config()"
   ]
  },
  {
   "cell_type": "code",
   "execution_count": 2,
   "id": "4ccb86ad-4f11-4dcd-acf8-748361d615c8",
   "metadata": {},
   "outputs": [],
   "source": [
    "!chmod 600 {fablib.get_bastion_key_filename()}\n",
    "!chmod 600 {fablib.get_default_slice_private_key_file()}"
   ]
  },
  {
   "cell_type": "markdown",
   "id": "1a288b3d-4162-4249-8c9a-111ddb4beecf",
   "metadata": {},
   "source": [
    "## Get slice details"
   ]
  },
  {
   "cell_type": "markdown",
   "id": "a7704d48-a158-4c40-ba58-9ea4f462706c",
   "metadata": {},
   "source": [
    "Put your slice name and the number of endpoints in the following cell:"
   ]
  },
  {
   "cell_type": "code",
   "execution_count": 3,
   "id": "d3047eaf-4fb4-40c1-8dd0-c2f364685384",
   "metadata": {},
   "outputs": [],
   "source": [
    "n_endpoints = 10\n",
    "slice_name=\"bottleneck-\" + str(n_endpoints) + '-test'"
   ]
  },
  {
   "cell_type": "markdown",
   "id": "832e8f83-c35a-4669-98b5-647ef965efb1",
   "metadata": {},
   "source": [
    "Then, load your slice details into the environment.slice = fablib.new_slice(name=slice_name)"
   ]
  },
  {
   "cell_type": "code",
   "execution_count": 4,
   "id": "26f9af4c-28f9-4314-8791-878b4c41d5c6",
   "metadata": {},
   "outputs": [],
   "source": [
    "slice = fablib.get_slice(name=slice_name)"
   ]
  },
  {
   "cell_type": "code",
   "execution_count": 5,
   "id": "1ac3a090-f28c-4665-a470-06a9967decac",
   "metadata": {},
   "outputs": [],
   "source": [
    "sender_nodes = [slice.get_node(name='sender-' + str(i))  for i in range(n_endpoints)]\n",
    "receiver_nodes = [slice.get_node(name='receiver-' + str(i))  for i in range(n_endpoints)]"
   ]
  },
  {
   "cell_type": "code",
   "execution_count": 6,
   "id": "0d7db1cb-7e04-4077-bcd2-c135b78d8cd2",
   "metadata": {},
   "outputs": [],
   "source": [
    "router_node = slice.get_node(name='router')\n",
    "router_ingress_iface = router_node.get_interface(network_name = \"link-sender\")\n",
    "router_egress_iface  = router_node.get_interface(network_name = \"link-receiver\")\n",
    "router_egress_name = router_egress_iface.get_device_name()"
   ]
  },
  {
   "cell_type": "markdown",
   "id": "43392b9f-43fc-4f4a-9734-f63bc99a882f",
   "metadata": {},
   "source": [
    "## Generate flows"
   ]
  },
  {
   "cell_type": "markdown",
   "id": "1a55ca7d-058b-4974-ba1e-47c074d9f50e",
   "metadata": {
    "tags": []
   },
   "source": [
    "### Set experiment parameters\n",
    "\n",
    ">delay, cca, test_duration, num_servers, flows"
   ]
  },
  {
   "cell_type": "markdown",
   "id": "b034aa90-b05f-4b1f-93d7-c7475100a6cb",
   "metadata": {},
   "source": [
    "delay is the delay to be set at the receiver (20 ms,100 ms,200 ms)\n",
    "\n",
    "num_servers is the number of ports to be opened on each receiver. For core scale we are opening 10 ports and for edge scale we are opening 1 port\n",
    "\n",
    "test_duration is the time for which to send the iperf3 flows\n",
    "\n",
    "cca is the congestion control algorithm (bbr, reno or cubic)\n",
    "\n",
    "flows is the number of parallel flows to be send from each port\n",
    "\n",
    "For sending 1000 flows set num_servers=10 and flows=10. This will send 100 flows from each of the 10 senders."
   ]
  },
  {
   "cell_type": "code",
   "execution_count": 34,
   "id": "ba875fc8-39b8-4cd2-a677-6ec5eb2f5643",
   "metadata": {},
   "outputs": [],
   "source": [
    "cca=\"reno\"\n",
    "delay=100\n",
    "test_duration=1800\n",
    "num_servers=10\n",
    "flows=3"
   ]
  },
  {
   "cell_type": "markdown",
   "id": "9d982f36-1870-4caa-a89d-bef2fcbb0db2",
   "metadata": {
    "tags": []
   },
   "source": [
    "## Remove existing result files from the hosts"
   ]
  },
  {
   "cell_type": "code",
   "execution_count": 35,
   "id": "851f44aa-75ed-45cb-a868-7445248c4a91",
   "metadata": {},
   "outputs": [
    {
     "name": "stdout",
     "output_type": "stream",
     "text": [
      "\u001b[31m rm: cannot remove './examples': Is a directory\n",
      "rm: cannot remove './src': Is a directory\n",
      " \u001b[0m\u001b[31m rm: cannot remove './examples': Is a directory\n",
      "rm: cannot remove './src': Is a directory\n",
      " \u001b[0m\u001b[31m rm: cannot remove './examples': Is a directory\n",
      "rm: cannot remove './src': Is a directory\n",
      " \u001b[0m\u001b[31m rm: cannot remove './examples': Is a directory\n",
      "rm: cannot remove './src': Is a directory\n",
      " \u001b[0m\u001b[31m rm: cannot remove './examples': Is a directory\n",
      "rm: cannot remove './src': Is a directory\n",
      " \u001b[0m\u001b[31m rm: cannot remove './examples': Is a directory\n",
      "rm: cannot remove './src': Is a directory\n",
      " \u001b[0m\u001b[31m rm: cannot remove './examples': Is a directory\n",
      "rm: cannot remove './src': Is a directory\n",
      " \u001b[0m\u001b[31m rm: cannot remove './examples': Is a directory\n",
      "rm: cannot remove './src': Is a directory\n",
      " \u001b[0m\u001b[31m rm: cannot remove './examples': Is a directory\n",
      "rm: cannot remove './src': Is a directory\n",
      " \u001b[0m\u001b[31m rm: cannot remove './examples': Is a directory\n",
      "rm: cannot remove './src': Is a directory\n",
      " \u001b[0m"
     ]
    }
   ],
   "source": [
    "for n in receiver_nodes:\n",
    "    n.execute(\"rm -f ./*\")\n",
    "\n",
    "for n in sender_nodes:\n",
    "    n.execute(\"rm -f ./*\")"
   ]
  },
  {
   "cell_type": "code",
   "execution_count": 36,
   "id": "f9f35c26-d50a-4a6f-8db9-9d78b102784c",
   "metadata": {},
   "outputs": [
    {
     "name": "stdout",
     "output_type": "stream",
     "text": [
      "examples\n",
      "src\n",
      "examples\n",
      "src\n",
      "examples\n",
      "src\n",
      "examples\n",
      "src\n",
      "examples\n",
      "src\n",
      "examples\n",
      "src\n",
      "examples\n",
      "src\n",
      "examples\n",
      "src\n",
      "examples\n",
      "src\n",
      "examples\n",
      "src\n"
     ]
    }
   ],
   "source": [
    "for n in sender_nodes:\n",
    "    n.execute(\"ls\")"
   ]
  },
  {
   "cell_type": "code",
   "execution_count": 37,
   "id": "825a33d5-bbb8-4fe4-bc8a-74c69c6e75a7",
   "metadata": {},
   "outputs": [],
   "source": [
    "for n in receiver_nodes:\n",
    "    n.execute(\"ls\")"
   ]
  },
  {
   "cell_type": "markdown",
   "id": "e5f7d159-ebb5-46e9-850a-9a250e6a24a8",
   "metadata": {
    "tags": []
   },
   "source": [
    "### Set delay on the receiver\n",
    "\n",
    "> Values: 20ms, 100ms, 200ms"
   ]
  },
  {
   "cell_type": "markdown",
   "id": "88f91f98-5f34-4081-9493-539454fb1f37",
   "metadata": {},
   "source": [
    "Now set up delay on the receiver interface:\n",
    "\n",
    "First delete any existing queue (don't worry if there is an error, it means there was not!)"
   ]
  },
  {
   "cell_type": "code",
   "execution_count": 38,
   "id": "7a0da211-a87d-4dc1-b931-205b19fa3dd9",
   "metadata": {},
   "outputs": [],
   "source": [
    "for n in receiver_nodes:\n",
    "    receiver_inf=n.get_interface(network_name= \"link-receiver\")\n",
    "    receiver_inf_name = receiver_inf.get_device_name()\n",
    "    n.execute(\"sudo tc qdisc del dev \" + receiver_inf_name + \" root netem\")\n",
    "    n.execute(\"sudo tc qdisc add dev \" + receiver_inf_name + \" root netem delay \" + str(delay) +\"ms limit 1000000\")\n",
    "    "
   ]
  },
  {
   "cell_type": "markdown",
   "id": "15f1e6bb-6a90-44ad-8507-752522462b1e",
   "metadata": {},
   "source": [
    "### Start parallel servers on the receivers\n",
    "\n",
    "In this, the base_port is the starting address of port number"
   ]
  },
  {
   "cell_type": "markdown",
   "id": "dca45d0f-e883-4be4-a803-bf2fba9f25cb",
   "metadata": {},
   "source": [
    "Now start the `iperf3` flows:"
   ]
  },
  {
   "cell_type": "code",
   "execution_count": 39,
   "id": "7382ceb2-e264-43c3-8f09-183ff2785f02",
   "metadata": {},
   "outputs": [],
   "source": [
    "\n",
    "        \n",
    "base_port=50000\n",
    "for i in range(0,10):\n",
    "    receiver_nodes[i].execute(\"sudo killall iperf3\")\n",
    "for i in range(0,10):\n",
    "    for k in range (1,num_servers+1): \n",
    "        \n",
    "        server_port=base_port+k\n",
    "        report_file=str(server_port)+\"-server.dat\"\n",
    "        receiver_nodes[i].execute_thread(\"iperf3 -s -p \"+str(server_port)+\" -D --logfile \"+report_file)"
   ]
  },
  {
   "cell_type": "code",
   "execution_count": 23,
   "id": "abb0ea39-f838-4955-9f5d-4ab76d7fb55b",
   "metadata": {},
   "outputs": [
    {
     "name": "stdout",
     "output_type": "stream",
     "text": [
      "50001-server.dat\n",
      "50002-server.dat\n",
      "50003-server.dat\n",
      "50004-server.dat\n",
      "50005-server.dat\n",
      "50006-server.dat\n",
      "50007-server.dat\n",
      "50008-server.dat\n",
      "50009-server.dat\n",
      "50010-server.dat\n",
      "50001-server.dat\n",
      "50002-server.dat\n",
      "50003-server.dat\n",
      "50004-server.dat\n",
      "50005-server.dat\n",
      "50006-server.dat\n",
      "50007-server.dat\n",
      "50008-server.dat\n",
      "50010-server.dat\n",
      "50001-server.dat\n",
      "50002-server.dat\n",
      "50003-server.dat\n",
      "50004-server.dat\n",
      "50005-server.dat\n",
      "50006-server.dat\n",
      "50007-server.dat\n",
      "50008-server.dat\n",
      "50009-server.dat\n",
      "50010-server.dat\n",
      "50003-server.dat\n",
      "50004-server.dat\n",
      "50005-server.dat\n",
      "50007-server.dat\n",
      "50009-server.dat\n",
      "50001-server.dat\n",
      "50002-server.dat\n",
      "50004-server.dat\n",
      "50005-server.dat\n",
      "50006-server.dat\n",
      "50001-server.dat\n",
      "50002-server.dat\n",
      "50003-server.dat\n",
      "50004-server.dat\n",
      "50005-server.dat\n",
      "50006-server.dat\n",
      "50007-server.dat\n",
      "50008-server.dat\n",
      "50009-server.dat\n",
      "50010-server.dat\n",
      "50001-server.dat\n",
      "50002-server.dat\n",
      "50003-server.dat\n",
      "50004-server.dat\n",
      "50005-server.dat\n",
      "50006-server.dat\n",
      "50007-server.dat\n",
      "50008-server.dat\n",
      "50009-server.dat\n",
      "50010-server.dat\n",
      "50001-server.dat\n",
      "50002-server.dat\n",
      "50003-server.dat\n",
      "50004-server.dat\n",
      "50005-server.dat\n",
      "50006-server.dat\n",
      "50007-server.dat\n",
      "50008-server.dat\n",
      "50009-server.dat\n",
      "50010-server.dat\n",
      "50001-server.dat\n",
      "50002-server.dat\n",
      "50003-server.dat\n",
      "50004-server.dat\n",
      "50005-server.dat\n",
      "50006-server.dat\n",
      "50007-server.dat\n",
      "50008-server.dat\n",
      "50009-server.dat\n",
      "50010-server.dat\n",
      "50001-server.dat\n",
      "50002-server.dat\n",
      "50003-server.dat\n",
      "50004-server.dat\n",
      "50005-server.dat\n",
      "50006-server.dat\n",
      "50007-server.dat\n",
      "50008-server.dat\n",
      "50009-server.dat\n",
      "50010-server.dat\n"
     ]
    }
   ],
   "source": [
    "#check files in all receiver\n",
    "for n in receiver_nodes:\n",
    "    n.execute(\"ls\")"
   ]
  },
  {
   "cell_type": "markdown",
   "id": "f01ac966-681b-40de-aa48-d80577deda44",
   "metadata": {},
   "source": [
    "### Start parallel clients on the senders\n",
    "\n",
    "In this, the base_port is the starting address of port number on the receiver\n"
   ]
  },
  {
   "cell_type": "code",
   "execution_count": 40,
   "id": "2e058f8f-200b-4b30-acd7-d238a98b7690",
   "metadata": {},
   "outputs": [
    {
     "name": "stdout",
     "output_type": "stream",
     "text": [
      "\u001b[31m iperf3: no process found\n",
      " \u001b[0m\u001b[31m iperf3: no process found\n",
      " \u001b[0m\u001b[31m iperf3: no process found\n",
      " \u001b[0m\u001b[31m iperf3: no process found\n",
      " \u001b[0m\u001b[31m iperf3: no process found\n",
      " \u001b[0m\u001b[31m iperf3: no process found\n",
      " \u001b[0m\u001b[31m iperf3: no process found\n",
      " \u001b[0m\u001b[31m iperf3: no process found\n",
      " \u001b[0m\u001b[31m iperf3: no process found\n",
      " \u001b[0m\u001b[31m iperf3: no process found\n",
      " \u001b[0m"
     ]
    }
   ],
   "source": [
    "import time\n",
    "base_port=50000\n",
    "\n",
    "\n",
    "for i in range (0,10):\n",
    "    sender_nodes[i].execute(\"sudo killall iperf3\")\n",
    "\n",
    "for i in range (0,10):\n",
    "    for k in range (0,num_servers):\n",
    "        server_port=base_port+k+1\n",
    "        report_file=\"sender-10.10.2.1\"+str(i)+\"-\"+str(server_port)+\"-\"+str(test_duration)+\"-\"+cca+\".txt\"\n",
    "        sender_nodes[i].execute_thread(\"iperf3 -c 10.10.2.1\"+str(i)+ \" -p \"+str(server_port)+ \" -t \"+str(test_duration)+ \" -C \"+cca+\" -P \"+str(flows)+ \" --format k &>\"+report_file+ \" &\")\n",
    "time.sleep(test_duration+10)              "
   ]
  },
  {
   "cell_type": "code",
   "execution_count": 41,
   "id": "042cffdf-3023-4f71-8d7a-f8c28ef64bb2",
   "metadata": {},
   "outputs": [
    {
     "name": "stdout",
     "output_type": "stream",
     "text": [
      "examples\n",
      "sender-10.10.2.10-50001-1800-reno.txt\n",
      "sender-10.10.2.10-50002-1800-reno.txt\n",
      "sender-10.10.2.10-50003-1800-reno.txt\n",
      "sender-10.10.2.10-50004-1800-reno.txt\n",
      "sender-10.10.2.10-50005-1800-reno.txt\n",
      "sender-10.10.2.10-50006-1800-reno.txt\n",
      "sender-10.10.2.10-50007-1800-reno.txt\n",
      "sender-10.10.2.10-50008-1800-reno.txt\n",
      "sender-10.10.2.10-50009-1800-reno.txt\n",
      "sender-10.10.2.10-50010-1800-reno.txt\n",
      "src\n",
      "examples\n",
      "sender-10.10.2.11-50001-1800-reno.txt\n",
      "sender-10.10.2.11-50002-1800-reno.txt\n",
      "sender-10.10.2.11-50003-1800-reno.txt\n",
      "sender-10.10.2.11-50004-1800-reno.txt\n",
      "sender-10.10.2.11-50005-1800-reno.txt\n",
      "sender-10.10.2.11-50006-1800-reno.txt\n",
      "sender-10.10.2.11-50007-1800-reno.txt\n",
      "sender-10.10.2.11-50008-1800-reno.txt\n",
      "sender-10.10.2.11-50009-1800-reno.txt\n",
      "sender-10.10.2.11-50010-1800-reno.txt\n",
      "src\n",
      "examples\n",
      "sender-10.10.2.12-50001-1800-reno.txt\n",
      "sender-10.10.2.12-50002-1800-reno.txt\n",
      "sender-10.10.2.12-50003-1800-reno.txt\n",
      "sender-10.10.2.12-50004-1800-reno.txt\n",
      "sender-10.10.2.12-50005-1800-reno.txt\n",
      "sender-10.10.2.12-50006-1800-reno.txt\n",
      "sender-10.10.2.12-50007-1800-reno.txt\n",
      "sender-10.10.2.12-50008-1800-reno.txt\n",
      "sender-10.10.2.12-50009-1800-reno.txt\n",
      "sender-10.10.2.12-50010-1800-reno.txt\n",
      "src\n",
      "examples\n",
      "sender-10.10.2.13-50001-1800-reno.txt\n",
      "sender-10.10.2.13-50002-1800-reno.txt\n",
      "sender-10.10.2.13-50003-1800-reno.txt\n",
      "sender-10.10.2.13-50004-1800-reno.txt\n",
      "sender-10.10.2.13-50005-1800-reno.txt\n",
      "sender-10.10.2.13-50006-1800-reno.txt\n",
      "sender-10.10.2.13-50007-1800-reno.txt\n",
      "sender-10.10.2.13-50008-1800-reno.txt\n",
      "sender-10.10.2.13-50009-1800-reno.txt\n",
      "sender-10.10.2.13-50010-1800-reno.txt\n",
      "src\n",
      "examples\n",
      "sender-10.10.2.14-50001-1800-reno.txt\n",
      "sender-10.10.2.14-50002-1800-reno.txt\n",
      "sender-10.10.2.14-50003-1800-reno.txt\n",
      "sender-10.10.2.14-50004-1800-reno.txt\n",
      "sender-10.10.2.14-50005-1800-reno.txt\n",
      "sender-10.10.2.14-50006-1800-reno.txt\n",
      "sender-10.10.2.14-50007-1800-reno.txt\n",
      "sender-10.10.2.14-50008-1800-reno.txt\n",
      "sender-10.10.2.14-50009-1800-reno.txt\n",
      "sender-10.10.2.14-50010-1800-reno.txt\n",
      "src\n",
      "examples\n",
      "sender-10.10.2.15-50001-1800-reno.txt\n",
      "sender-10.10.2.15-50002-1800-reno.txt\n",
      "sender-10.10.2.15-50003-1800-reno.txt\n",
      "sender-10.10.2.15-50004-1800-reno.txt\n",
      "sender-10.10.2.15-50005-1800-reno.txt\n",
      "sender-10.10.2.15-50006-1800-reno.txt\n",
      "sender-10.10.2.15-50007-1800-reno.txt\n",
      "sender-10.10.2.15-50008-1800-reno.txt\n",
      "sender-10.10.2.15-50009-1800-reno.txt\n",
      "sender-10.10.2.15-50010-1800-reno.txt\n",
      "src\n",
      "examples\n",
      "sender-10.10.2.16-50001-1800-reno.txt\n",
      "sender-10.10.2.16-50002-1800-reno.txt\n",
      "sender-10.10.2.16-50003-1800-reno.txt\n",
      "sender-10.10.2.16-50004-1800-reno.txt\n",
      "sender-10.10.2.16-50005-1800-reno.txt\n",
      "sender-10.10.2.16-50006-1800-reno.txt\n",
      "sender-10.10.2.16-50007-1800-reno.txt\n",
      "sender-10.10.2.16-50008-1800-reno.txt\n",
      "sender-10.10.2.16-50009-1800-reno.txt\n",
      "sender-10.10.2.16-50010-1800-reno.txt\n",
      "src\n",
      "examples\n",
      "sender-10.10.2.17-50001-1800-reno.txt\n",
      "sender-10.10.2.17-50002-1800-reno.txt\n",
      "sender-10.10.2.17-50003-1800-reno.txt\n",
      "sender-10.10.2.17-50004-1800-reno.txt\n",
      "sender-10.10.2.17-50005-1800-reno.txt\n",
      "sender-10.10.2.17-50006-1800-reno.txt\n",
      "sender-10.10.2.17-50007-1800-reno.txt\n",
      "sender-10.10.2.17-50008-1800-reno.txt\n",
      "sender-10.10.2.17-50009-1800-reno.txt\n",
      "sender-10.10.2.17-50010-1800-reno.txt\n",
      "src\n",
      "examples\n",
      "sender-10.10.2.18-50001-1800-reno.txt\n",
      "sender-10.10.2.18-50002-1800-reno.txt\n",
      "sender-10.10.2.18-50003-1800-reno.txt\n",
      "sender-10.10.2.18-50004-1800-reno.txt\n",
      "sender-10.10.2.18-50005-1800-reno.txt\n",
      "sender-10.10.2.18-50006-1800-reno.txt\n",
      "sender-10.10.2.18-50007-1800-reno.txt\n",
      "sender-10.10.2.18-50008-1800-reno.txt\n",
      "sender-10.10.2.18-50009-1800-reno.txt\n",
      "sender-10.10.2.18-50010-1800-reno.txt\n",
      "src\n",
      "examples\n",
      "sender-10.10.2.19-50001-1800-reno.txt\n",
      "sender-10.10.2.19-50002-1800-reno.txt\n",
      "sender-10.10.2.19-50003-1800-reno.txt\n",
      "sender-10.10.2.19-50004-1800-reno.txt\n",
      "sender-10.10.2.19-50005-1800-reno.txt\n",
      "sender-10.10.2.19-50006-1800-reno.txt\n",
      "sender-10.10.2.19-50007-1800-reno.txt\n",
      "sender-10.10.2.19-50008-1800-reno.txt\n",
      "sender-10.10.2.19-50009-1800-reno.txt\n",
      "sender-10.10.2.19-50010-1800-reno.txt\n",
      "src\n"
     ]
    }
   ],
   "source": [
    "#check files on all the senders\n",
    "for n in sender_nodes:\n",
    "    n.execute(\"ls\")"
   ]
  },
  {
   "cell_type": "markdown",
   "id": "cfd3071b-334e-458b-80f9-0aa9bc49896a",
   "metadata": {},
   "source": [
    "## Analyze the results"
   ]
  },
  {
   "cell_type": "markdown",
   "id": "e9aa8653-ba42-444a-a73a-c901909bc995",
   "metadata": {},
   "source": [
    "Transfer files from hosts to router"
   ]
  },
  {
   "cell_type": "markdown",
   "id": "2a4c7365-ce87-430b-a9fd-d1567397464d",
   "metadata": {},
   "source": [
    "Calculate sum of bandwidth, square of sum of bandwidth, count of flows and jfi:"
   ]
  },
  {
   "cell_type": "code",
   "execution_count": 42,
   "id": "48fc986e-9efc-45d0-a498-7505535cd4b1",
   "metadata": {},
   "outputs": [
    {
     "name": "stdout",
     "output_type": "stream",
     "text": [
      "93688\n",
      "293506776\n",
      "30\n",
      "95265\n",
      "303848575\n",
      "30\n",
      "94981\n",
      "302053255\n",
      "30\n",
      "98590\n",
      "327174698\n",
      "30\n",
      "95260\n",
      "305340674\n",
      "30\n",
      "99835\n",
      "334745827\n",
      "30\n",
      "98702\n",
      "325274206\n",
      "30\n",
      "96612\n",
      "312194606\n",
      "30\n",
      "97170\n",
      "316144206\n",
      "30\n",
      "96899\n",
      "313886719\n",
      "30\n",
      "Sum of bandwidth is 967002.000000 Kbits/sec \n",
      "Sum of square of bandwidth is 3134169542.000000\n",
      "Count of flows is 300\n",
      "JFI is 0.994514\n"
     ]
    }
   ],
   "source": [
    "\n",
    "sum_bw = []\n",
    "sum_sq_bw = []\n",
    "count_flow = []\n",
    "\n",
    "for n in sender_nodes:\n",
    "    (sum_sen, serr)=n.execute(\"grep -r -E \\\"[0-9].*0.00-[0-9].*sender\\\" . |awk '{sum+=$7}END {print sum}'\")\n",
    "    sum_bw.append(float(sum_sen.strip()))\n",
    "    (sum_sq, sqerr)=n.execute(\"grep -r -E \\\"[0-9].*0.00-[0-9].*sender\\\" . |awk '{sum+=$7*$7}END {print sum}'\")\n",
    "    sum_sq_bw.append(float(sum_sq.strip()))\n",
    "    (ncount, ncerr)=n.execute(\"grep -r -E \\\"[0-9].*0.00-[0-9].*sender\\\" . |awk '{count+=1}END {print count}'\")\n",
    "    count_flow.append(int(ncount.strip()))\n",
    "\n",
    "\n",
    "total_tput=sum(sum_bw)\n",
    "sum_sq_tput=sum(sum_sq_bw)\n",
    "count_flow=sum(count_flow)\n",
    "\n",
    "print(\"Sum of bandwidth is %f Kbits/sec \" % total_tput)\n",
    "\n",
    "print(\"Sum of square of bandwidth is %f\" % sum_sq_tput)\n",
    "\n",
    "print(\"Count of flows is %d\" % count_flow)\n",
    "\n",
    "jfi= (total_tput*total_tput)/(count_flow*sum_sq_tput)\n",
    "\n",
    "print(\"JFI is %f\" % jfi)"
   ]
  },
  {
   "cell_type": "code",
   "execution_count": 43,
   "id": "67289e8c-ee1d-48cd-b4cd-7b3f070e5291",
   "metadata": {},
   "outputs": [],
   "source": [
    "import csv\n",
    "import sys\n",
    "import os\n",
    "\n",
    "jfi_filename='jfi.csv'\n",
    "if not os.path.isfile(jfi_filename):\n",
    "    with open(jfi_filename, 'a', newline='') as csvfile:\n",
    "        writer = csv.writer(csvfile)\n",
    "        header ='CCA', 'Duration of Expt(sec)', 'Base RTT(ms)', 'Total Bandwidth(Kbps)', 'Sum of sq of BW', 'Flow Count', 'JFI'\n",
    "        writer.writerow(header)\n",
    "    \n",
    "with open(jfi_filename, 'a', newline='') as csvfile:\n",
    "    writer = csv.writer(csvfile)\n",
    "    columns = cca, test_duration, delay, total_tput, sum_sq_tput, count_flow, jfi\n",
    "    writer.writerow(columns)\n"
   ]
  },
  {
   "cell_type": "code",
   "execution_count": null,
   "id": "bf17ef30-dc88-4f8d-92ef-3807a23f3b19",
   "metadata": {},
   "outputs": [],
   "source": []
  }
 ],
 "metadata": {
  "kernelspec": {
   "display_name": "Python 3 (ipykernel)",
   "language": "python",
   "name": "python3"
  },
  "language_info": {
   "codemirror_mode": {
    "name": "ipython",
    "version": 3
   },
   "file_extension": ".py",
   "mimetype": "text/x-python",
   "name": "python",
   "nbconvert_exporter": "python",
   "pygments_lexer": "ipython3",
   "version": "3.10.6"
  }
 },
 "nbformat": 4,
 "nbformat_minor": 5
}
