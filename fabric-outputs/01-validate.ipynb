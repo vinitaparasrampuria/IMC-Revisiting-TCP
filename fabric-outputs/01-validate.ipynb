{
 "cells": [
  {
   "cell_type": "markdown",
   "id": "02a5be90-977a-4948-a299-b5df71273eef",
   "metadata": {},
   "source": [
    "# Validate configuration for reproducing \"Revisiting TCP Congestion Control Throughput Models & Fairness Properties at Scale\""
   ]
  },
  {
   "cell_type": "markdown",
   "id": "79d083f0-5028-4517-8d4e-eba13f28cac4",
   "metadata": {},
   "source": [
    "## Set up your FABRIC environment\n"
   ]
  },
  {
   "cell_type": "code",
   "execution_count": 1,
   "id": "9cf58277-480d-4459-a9c6-08a085b1313e",
   "metadata": {},
   "outputs": [
    {
     "data": {
      "text/html": [
       "<style type=\"text/css\">\n",
       "#T_1aa63 tr:nth-child(even) {\n",
       "  background: #dbf3ff;\n",
       "  color: #231f20;\n",
       "}\n",
       "#T_1aa63 tr:nth-child(odd) {\n",
       "  background: #ffffff;\n",
       "  color: #231f20;\n",
       "}\n",
       "#T_1aa63 caption {\n",
       "  text-align: center;\n",
       "  font-size: 150%;\n",
       "}\n",
       "#T_1aa63_row0_col0, #T_1aa63_row0_col1, #T_1aa63_row1_col0, #T_1aa63_row1_col1, #T_1aa63_row2_col0, #T_1aa63_row2_col1, #T_1aa63_row3_col0, #T_1aa63_row3_col1, #T_1aa63_row4_col0, #T_1aa63_row4_col1, #T_1aa63_row5_col0, #T_1aa63_row5_col1, #T_1aa63_row6_col0, #T_1aa63_row6_col1, #T_1aa63_row7_col0, #T_1aa63_row7_col1, #T_1aa63_row8_col0, #T_1aa63_row8_col1, #T_1aa63_row9_col0, #T_1aa63_row9_col1, #T_1aa63_row10_col0, #T_1aa63_row10_col1, #T_1aa63_row11_col0, #T_1aa63_row11_col1, #T_1aa63_row12_col0, #T_1aa63_row12_col1, #T_1aa63_row13_col0, #T_1aa63_row13_col1 {\n",
       "  text-align: left;\n",
       "  border: 1px #231f20 solid !important;\n",
       "  overwrite: False;\n",
       "}\n",
       "</style>\n",
       "<table id=\"T_1aa63\">\n",
       "  <caption>FABlib Config</caption>\n",
       "  <thead>\n",
       "  </thead>\n",
       "  <tbody>\n",
       "    <tr>\n",
       "      <td id=\"T_1aa63_row0_col0\" class=\"data row0 col0\" >Credential Manager</td>\n",
       "      <td id=\"T_1aa63_row0_col1\" class=\"data row0 col1\" >cm.fabric-testbed.net</td>\n",
       "    </tr>\n",
       "    <tr>\n",
       "      <td id=\"T_1aa63_row1_col0\" class=\"data row1 col0\" >Orchestrator</td>\n",
       "      <td id=\"T_1aa63_row1_col1\" class=\"data row1 col1\" >orchestrator.fabric-testbed.net</td>\n",
       "    </tr>\n",
       "    <tr>\n",
       "      <td id=\"T_1aa63_row2_col0\" class=\"data row2 col0\" >Token File</td>\n",
       "      <td id=\"T_1aa63_row2_col1\" class=\"data row2 col1\" >/home/fabric/.tokens.json</td>\n",
       "    </tr>\n",
       "    <tr>\n",
       "      <td id=\"T_1aa63_row3_col0\" class=\"data row3 col0\" >Project ID</td>\n",
       "      <td id=\"T_1aa63_row3_col1\" class=\"data row3 col1\" >073ee843-2310-45bd-a01f-a15d808827dc</td>\n",
       "    </tr>\n",
       "    <tr>\n",
       "      <td id=\"T_1aa63_row4_col0\" class=\"data row4 col0\" >Bastion Username</td>\n",
       "      <td id=\"T_1aa63_row4_col1\" class=\"data row4 col1\" >vinita_p_0000073925</td>\n",
       "    </tr>\n",
       "    <tr>\n",
       "      <td id=\"T_1aa63_row5_col0\" class=\"data row5 col0\" >Bastion Private Key File</td>\n",
       "      <td id=\"T_1aa63_row5_col1\" class=\"data row5 col1\" >/home/fabric/work/fabric_config/fabric_bastion_key</td>\n",
       "    </tr>\n",
       "    <tr>\n",
       "      <td id=\"T_1aa63_row6_col0\" class=\"data row6 col0\" >Bastion Host</td>\n",
       "      <td id=\"T_1aa63_row6_col1\" class=\"data row6 col1\" >bastion.fabric-testbed.net</td>\n",
       "    </tr>\n",
       "    <tr>\n",
       "      <td id=\"T_1aa63_row7_col0\" class=\"data row7 col0\" >Bastion Private Key Passphrase</td>\n",
       "      <td id=\"T_1aa63_row7_col1\" class=\"data row7 col1\" >None</td>\n",
       "    </tr>\n",
       "    <tr>\n",
       "      <td id=\"T_1aa63_row8_col0\" class=\"data row8 col0\" >Slice Public Key File</td>\n",
       "      <td id=\"T_1aa63_row8_col1\" class=\"data row8 col1\" >/home/fabric/work/fabric_config/slice_key.pub</td>\n",
       "    </tr>\n",
       "    <tr>\n",
       "      <td id=\"T_1aa63_row9_col0\" class=\"data row9 col0\" >Slice Private Key File</td>\n",
       "      <td id=\"T_1aa63_row9_col1\" class=\"data row9 col1\" >/home/fabric/work/fabric_config/slice_key</td>\n",
       "    </tr>\n",
       "    <tr>\n",
       "      <td id=\"T_1aa63_row10_col0\" class=\"data row10 col0\" >Slice Private Key Passphrase</td>\n",
       "      <td id=\"T_1aa63_row10_col1\" class=\"data row10 col1\" >None</td>\n",
       "    </tr>\n",
       "    <tr>\n",
       "      <td id=\"T_1aa63_row11_col0\" class=\"data row11 col0\" >Log File</td>\n",
       "      <td id=\"T_1aa63_row11_col1\" class=\"data row11 col1\" >/home/fabric/fablib.log</td>\n",
       "    </tr>\n",
       "    <tr>\n",
       "      <td id=\"T_1aa63_row12_col0\" class=\"data row12 col0\" >Log Level</td>\n",
       "      <td id=\"T_1aa63_row12_col1\" class=\"data row12 col1\" >INFO</td>\n",
       "    </tr>\n",
       "    <tr>\n",
       "      <td id=\"T_1aa63_row13_col0\" class=\"data row13 col0\" >Version</td>\n",
       "      <td id=\"T_1aa63_row13_col1\" class=\"data row13 col1\" >1.5.3</td>\n",
       "    </tr>\n",
       "  </tbody>\n",
       "</table>\n"
      ],
      "text/plain": [
       "<pandas.io.formats.style.Styler at 0x7fc303ad3be0>"
      ]
     },
     "metadata": {},
     "output_type": "display_data"
    },
    {
     "data": {
      "text/html": [
       "<style type=\"text/css\">\n",
       "#T_1aa63 tr:nth-child(even) {\n",
       "  background: #dbf3ff;\n",
       "  color: #231f20;\n",
       "}\n",
       "#T_1aa63 tr:nth-child(odd) {\n",
       "  background: #ffffff;\n",
       "  color: #231f20;\n",
       "}\n",
       "#T_1aa63 caption {\n",
       "  text-align: center;\n",
       "  font-size: 150%;\n",
       "}\n",
       "#T_1aa63_row0_col0, #T_1aa63_row0_col1, #T_1aa63_row1_col0, #T_1aa63_row1_col1, #T_1aa63_row2_col0, #T_1aa63_row2_col1, #T_1aa63_row3_col0, #T_1aa63_row3_col1, #T_1aa63_row4_col0, #T_1aa63_row4_col1, #T_1aa63_row5_col0, #T_1aa63_row5_col1, #T_1aa63_row6_col0, #T_1aa63_row6_col1, #T_1aa63_row7_col0, #T_1aa63_row7_col1, #T_1aa63_row8_col0, #T_1aa63_row8_col1, #T_1aa63_row9_col0, #T_1aa63_row9_col1, #T_1aa63_row10_col0, #T_1aa63_row10_col1, #T_1aa63_row11_col0, #T_1aa63_row11_col1, #T_1aa63_row12_col0, #T_1aa63_row12_col1, #T_1aa63_row13_col0, #T_1aa63_row13_col1 {\n",
       "  text-align: left;\n",
       "  border: 1px #231f20 solid !important;\n",
       "  overwrite: False;\n",
       "}\n",
       "</style>\n",
       "<table id=\"T_1aa63\">\n",
       "  <caption>FABlib Config</caption>\n",
       "  <thead>\n",
       "  </thead>\n",
       "  <tbody>\n",
       "    <tr>\n",
       "      <td id=\"T_1aa63_row0_col0\" class=\"data row0 col0\" >Credential Manager</td>\n",
       "      <td id=\"T_1aa63_row0_col1\" class=\"data row0 col1\" >cm.fabric-testbed.net</td>\n",
       "    </tr>\n",
       "    <tr>\n",
       "      <td id=\"T_1aa63_row1_col0\" class=\"data row1 col0\" >Orchestrator</td>\n",
       "      <td id=\"T_1aa63_row1_col1\" class=\"data row1 col1\" >orchestrator.fabric-testbed.net</td>\n",
       "    </tr>\n",
       "    <tr>\n",
       "      <td id=\"T_1aa63_row2_col0\" class=\"data row2 col0\" >Token File</td>\n",
       "      <td id=\"T_1aa63_row2_col1\" class=\"data row2 col1\" >/home/fabric/.tokens.json</td>\n",
       "    </tr>\n",
       "    <tr>\n",
       "      <td id=\"T_1aa63_row3_col0\" class=\"data row3 col0\" >Project ID</td>\n",
       "      <td id=\"T_1aa63_row3_col1\" class=\"data row3 col1\" >073ee843-2310-45bd-a01f-a15d808827dc</td>\n",
       "    </tr>\n",
       "    <tr>\n",
       "      <td id=\"T_1aa63_row4_col0\" class=\"data row4 col0\" >Bastion Username</td>\n",
       "      <td id=\"T_1aa63_row4_col1\" class=\"data row4 col1\" >vinita_p_0000073925</td>\n",
       "    </tr>\n",
       "    <tr>\n",
       "      <td id=\"T_1aa63_row5_col0\" class=\"data row5 col0\" >Bastion Private Key File</td>\n",
       "      <td id=\"T_1aa63_row5_col1\" class=\"data row5 col1\" >/home/fabric/work/fabric_config/fabric_bastion_key</td>\n",
       "    </tr>\n",
       "    <tr>\n",
       "      <td id=\"T_1aa63_row6_col0\" class=\"data row6 col0\" >Bastion Host</td>\n",
       "      <td id=\"T_1aa63_row6_col1\" class=\"data row6 col1\" >bastion.fabric-testbed.net</td>\n",
       "    </tr>\n",
       "    <tr>\n",
       "      <td id=\"T_1aa63_row7_col0\" class=\"data row7 col0\" >Bastion Private Key Passphrase</td>\n",
       "      <td id=\"T_1aa63_row7_col1\" class=\"data row7 col1\" >None</td>\n",
       "    </tr>\n",
       "    <tr>\n",
       "      <td id=\"T_1aa63_row8_col0\" class=\"data row8 col0\" >Slice Public Key File</td>\n",
       "      <td id=\"T_1aa63_row8_col1\" class=\"data row8 col1\" >/home/fabric/work/fabric_config/slice_key.pub</td>\n",
       "    </tr>\n",
       "    <tr>\n",
       "      <td id=\"T_1aa63_row9_col0\" class=\"data row9 col0\" >Slice Private Key File</td>\n",
       "      <td id=\"T_1aa63_row9_col1\" class=\"data row9 col1\" >/home/fabric/work/fabric_config/slice_key</td>\n",
       "    </tr>\n",
       "    <tr>\n",
       "      <td id=\"T_1aa63_row10_col0\" class=\"data row10 col0\" >Slice Private Key Passphrase</td>\n",
       "      <td id=\"T_1aa63_row10_col1\" class=\"data row10 col1\" >None</td>\n",
       "    </tr>\n",
       "    <tr>\n",
       "      <td id=\"T_1aa63_row11_col0\" class=\"data row11 col0\" >Log File</td>\n",
       "      <td id=\"T_1aa63_row11_col1\" class=\"data row11 col1\" >/home/fabric/fablib.log</td>\n",
       "    </tr>\n",
       "    <tr>\n",
       "      <td id=\"T_1aa63_row12_col0\" class=\"data row12 col0\" >Log Level</td>\n",
       "      <td id=\"T_1aa63_row12_col1\" class=\"data row12 col1\" >INFO</td>\n",
       "    </tr>\n",
       "    <tr>\n",
       "      <td id=\"T_1aa63_row13_col0\" class=\"data row13 col0\" >Version</td>\n",
       "      <td id=\"T_1aa63_row13_col1\" class=\"data row13 col1\" >1.5.3</td>\n",
       "    </tr>\n",
       "  </tbody>\n",
       "</table>\n"
      ],
      "text/plain": [
       "<pandas.io.formats.style.Styler at 0x7fc303ad3be0>"
      ]
     },
     "execution_count": 1,
     "metadata": {},
     "output_type": "execute_result"
    }
   ],
   "source": [
    "from fabrictestbed_extensions.fablib.fablib import FablibManager as fablib_manager\n",
    "fablib = fablib_manager() \n",
    "fablib.show_config()"
   ]
  },
  {
   "cell_type": "code",
   "execution_count": 2,
   "id": "4ccb86ad-4f11-4dcd-acf8-748361d615c8",
   "metadata": {},
   "outputs": [],
   "source": [
    "!chmod 600 {fablib.get_bastion_key_filename()}\n",
    "!chmod 600 {fablib.get_default_slice_private_key_file()}"
   ]
  },
  {
   "cell_type": "markdown",
   "id": "1a288b3d-4162-4249-8c9a-111ddb4beecf",
   "metadata": {},
   "source": [
    "## Get slice details"
   ]
  },
  {
   "cell_type": "markdown",
   "id": "a7704d48-a158-4c40-ba58-9ea4f462706c",
   "metadata": {},
   "source": [
    "Put your slice name and the number of endpoints in the following cell:"
   ]
  },
  {
   "cell_type": "code",
   "execution_count": 3,
   "id": "d3047eaf-4fb4-40c1-8dd0-c2f364685384",
   "metadata": {},
   "outputs": [],
   "source": [
    "n_endpoints = 10\n",
    "slice_name=\"bottleneck-\" + str(n_endpoints) + '-test'"
   ]
  },
  {
   "cell_type": "markdown",
   "id": "832e8f83-c35a-4669-98b5-647ef965efb1",
   "metadata": {},
   "source": [
    "Then, load your slice details into the environment.slice = fablib.new_slice(name=slice_name)"
   ]
  },
  {
   "cell_type": "code",
   "execution_count": 4,
   "id": "26f9af4c-28f9-4314-8791-878b4c41d5c6",
   "metadata": {},
   "outputs": [],
   "source": [
    "slice = fablib.get_slice(name=slice_name)"
   ]
  },
  {
   "cell_type": "code",
   "execution_count": 5,
   "id": "1ac3a090-f28c-4665-a470-06a9967decac",
   "metadata": {},
   "outputs": [],
   "source": [
    "sender_nodes = [slice.get_node(name='sender-' + str(i))  for i in range(n_endpoints)]\n",
    "receiver_nodes = [slice.get_node(name='receiver-' + str(i))  for i in range(n_endpoints)]"
   ]
  },
  {
   "cell_type": "code",
   "execution_count": 6,
   "id": "0d7db1cb-7e04-4077-bcd2-c135b78d8cd2",
   "metadata": {},
   "outputs": [],
   "source": [
    "router_node = slice.get_node(name='router')\n",
    "router_ingress_iface = router_node.get_interface(network_name = \"link-sender\")\n",
    "router_egress_iface  = router_node.get_interface(network_name = \"link-receiver\")\n",
    "router_egress_name = router_egress_iface.get_device_name()"
   ]
  },
  {
   "cell_type": "markdown",
   "id": "15f1e6bb-6a90-44ad-8507-752522462b1e",
   "metadata": {},
   "source": [
    "## Check network capacity\n",
    "\n",
    "We should get close to 25 Gbps (probably more like 23 Gbps because of protocol overhead) through the router."
   ]
  },
  {
   "cell_type": "markdown",
   "id": "62807868-233d-43f1-9eb5-07c2e6cea3c3",
   "metadata": {},
   "source": [
    "First, make sure there is no rate limiting at the router - don't worry if you get an error message, this just means there was already no rate limiting."
   ]
  },
  {
   "cell_type": "code",
   "execution_count": 7,
   "id": "c5a8e037-d889-44f1-85c1-42dd732aac7d",
   "metadata": {},
   "outputs": [
    {
     "name": "stdout",
     "output_type": "stream",
     "text": [
      "\u001b[31m Error: Cannot delete qdisc with handle of zero.\n",
      " \u001b[0m"
     ]
    },
    {
     "data": {
      "text/plain": [
       "('', 'Error: Cannot delete qdisc with handle of zero.\\n')"
      ]
     },
     "execution_count": 7,
     "metadata": {},
     "output_type": "execute_result"
    }
   ],
   "source": [
    "router_node.execute(\"sudo tc qdisc del dev \" + router_egress_name + \" root\")"
   ]
  },
  {
   "cell_type": "markdown",
   "id": "542456af-2c5f-4d3b-b91a-722c3eebc260",
   "metadata": {},
   "source": [
    "Change the queue at the sender nodes to pfifo_fast to replace existing fq_codel queue"
   ]
  },
  {
   "cell_type": "code",
   "execution_count": 10,
   "id": "c8837ccc-eb06-41f2-b4cf-9df92161a19c",
   "metadata": {},
   "outputs": [
    {
     "name": "stdout",
     "output_type": "stream",
     "text": [
      "qdisc pfifo_fast 1: root refcnt 17 bands 3 priomap  1 2 2 2 1 2 0 0 1 1 1 1 1 1 1 1\n",
      " Sent 0 bytes 0 pkt (dropped 0, overlimits 0 requeues 0) \n",
      " backlog 0b 0p requeues 0\n",
      "qdisc pfifo_fast 1: root refcnt 17 bands 3 priomap  1 2 2 2 1 2 0 0 1 1 1 1 1 1 1 1\n",
      " Sent 0 bytes 0 pkt (dropped 0, overlimits 0 requeues 0) \n",
      " backlog 0b 0p requeues 0\n",
      "qdisc pfifo_fast 1: root refcnt 17 bands 3 priomap  1 2 2 2 1 2 0 0 1 1 1 1 1 1 1 1\n",
      " Sent 0 bytes 0 pkt (dropped 0, overlimits 0 requeues 0) \n",
      " backlog 0b 0p requeues 0\n",
      "qdisc pfifo_fast 1: root refcnt 17 bands 3 priomap  1 2 2 2 1 2 0 0 1 1 1 1 1 1 1 1\n",
      " Sent 0 bytes 0 pkt (dropped 0, overlimits 0 requeues 0) \n",
      " backlog 0b 0p requeues 0\n",
      "qdisc pfifo_fast 1: root refcnt 17 bands 3 priomap  1 2 2 2 1 2 0 0 1 1 1 1 1 1 1 1\n",
      " Sent 0 bytes 0 pkt (dropped 0, overlimits 0 requeues 0) \n",
      " backlog 0b 0p requeues 0\n",
      "qdisc pfifo_fast 1: root refcnt 17 bands 3 priomap  1 2 2 2 1 2 0 0 1 1 1 1 1 1 1 1\n",
      " Sent 0 bytes 0 pkt (dropped 0, overlimits 0 requeues 0) \n",
      " backlog 0b 0p requeues 0\n",
      "qdisc pfifo_fast 1: root refcnt 17 bands 3 priomap  1 2 2 2 1 2 0 0 1 1 1 1 1 1 1 1\n",
      " Sent 0 bytes 0 pkt (dropped 0, overlimits 0 requeues 0) \n",
      " backlog 0b 0p requeues 0\n",
      "qdisc pfifo_fast 1: root refcnt 17 bands 3 priomap  1 2 2 2 1 2 0 0 1 1 1 1 1 1 1 1\n",
      " Sent 0 bytes 0 pkt (dropped 0, overlimits 0 requeues 0) \n",
      " backlog 0b 0p requeues 0\n",
      "qdisc pfifo_fast 1: root refcnt 17 bands 3 priomap  1 2 2 2 1 2 0 0 1 1 1 1 1 1 1 1\n",
      " Sent 0 bytes 0 pkt (dropped 0, overlimits 0 requeues 0) \n",
      " backlog 0b 0p requeues 0\n",
      "qdisc pfifo_fast 1: root refcnt 17 bands 3 priomap  1 2 2 2 1 2 0 0 1 1 1 1 1 1 1 1\n",
      " Sent 0 bytes 0 pkt (dropped 0, overlimits 0 requeues 0) \n",
      " backlog 0b 0p requeues 0\n"
     ]
    }
   ],
   "source": [
    "for n in sender_nodes:\n",
    "    sender_inf=n.get_interface(network_name= \"link-sender\")\n",
    "    sender_inf_name = sender_inf.get_device_name()\n",
    "    n.execute(\"sudo tc qdisc replace dev \" + sender_inf_name + \" root handle 1: pfifo_fast\")\n",
    "    n.execute(\"tc -s -d qdisc show dev \"+ sender_inf_name)\n"
   ]
  },
  {
   "cell_type": "markdown",
   "id": "dca45d0f-e883-4be4-a803-bf2fba9f25cb",
   "metadata": {},
   "source": [
    "Now start the `iperf3` flows:"
   ]
  },
  {
   "cell_type": "code",
   "execution_count": 14,
   "id": "7382ceb2-e264-43c3-8f09-183ff2785f02",
   "metadata": {},
   "outputs": [],
   "source": [
    "for n in receiver_nodes:\n",
    "    n.execute(\"sudo killall iperf3\")\n",
    "    n.execute(\"iperf3 -s -1 -f g -D --logfile validate.dat\")"
   ]
  },
  {
   "cell_type": "code",
   "execution_count": 15,
   "id": "8debcbc7-e2a7-4f6b-948f-23c4db52a740",
   "metadata": {},
   "outputs": [
    {
     "name": "stdout",
     "output_type": "stream",
     "text": [
      "\u001b[31m iperf3: no process found\n",
      " \u001b[0m\u001b[31m iperf3: no process found\n",
      " \u001b[0m\u001b[31m iperf3: no process found\n",
      " \u001b[0m\u001b[31m iperf3: no process found\n",
      " \u001b[0m\u001b[31m iperf3: no process found\n",
      " \u001b[0m\u001b[31m iperf3: no process found\n",
      " \u001b[0m\u001b[31m iperf3: no process found\n",
      " \u001b[0m\u001b[31m iperf3: no process found\n",
      " \u001b[0m\u001b[31m iperf3: no process found\n",
      " \u001b[0m\u001b[31m iperf3: no process found\n",
      " \u001b[0m"
     ]
    }
   ],
   "source": [
    "import time\n",
    "for i,n in enumerate(sender_nodes):\n",
    "    n.execute(\"sudo killall iperf3\")\n",
    "    n.execute_thread(\"iperf3 -t 60 -P 10 -c 10.10.2.1\"+str(i))\n",
    "time.sleep(65)"
   ]
  },
  {
   "cell_type": "code",
   "execution_count": 16,
   "id": "99299a0c-ab19-43e5-bee2-81990ca9ecf0",
   "metadata": {},
   "outputs": [
    {
     "name": "stdout",
     "output_type": "stream",
     "text": [
      "3.07\n",
      "3.07\n",
      "\n",
      "2.99\n",
      "2.99\n",
      "\n",
      "3.04\n",
      "3.04\n",
      "\n",
      "2.83\n",
      "2.83\n",
      "\n",
      "2.56\n",
      "2.56\n",
      "\n",
      "2.57\n",
      "2.57\n",
      "\n",
      "2.26\n",
      "2.26\n",
      "\n",
      "2.48\n",
      "2.48\n",
      "\n",
      "3.55\n",
      "3.55\n",
      "\n",
      "2.90\n",
      "2.90\n",
      "\n",
      "Sum throughput is: 28.250000 Gbps\n"
     ]
    }
   ],
   "source": [
    "tputs = []\n",
    "for n in receiver_nodes:\n",
    "    (nout, nerr) = n.execute(\"tail --lines=2 validate.dat | grep receiver | awk '{print $6}'\")\n",
    "    print(nout)\n",
    "    tputs.append(float(nout.strip()))\n",
    "print(\"Sum throughput is: %f Gbps\" % sum(tputs))"
   ]
  },
  {
   "cell_type": "markdown",
   "id": "36cd7bb0-4db1-4b71-bf07-1aa067fb150c",
   "metadata": {},
   "source": [
    "A single pair of endpoints should be able to get about 10 Gbps, possibly higher."
   ]
  },
  {
   "cell_type": "code",
   "execution_count": 18,
   "id": "64fcd5e6-c957-42dc-9eba-ae98c22d3964",
   "metadata": {},
   "outputs": [
    {
     "name": "stdout",
     "output_type": "stream",
     "text": [
      "Connecting to host 10.10.2.10, port 5201\n",
      "[  5] local 10.10.1.10 port 58394 connected to 10.10.2.10 port 5201\n",
      "[  7] local 10.10.1.10 port 58402 connected to 10.10.2.10 port 5201\n",
      "[  9] local 10.10.1.10 port 58410 connected to 10.10.2.10 port 5201\n",
      "[ 11] local 10.10.1.10 port 58412 connected to 10.10.2.10 port 5201\n",
      "[ 13] local 10.10.1.10 port 58418 connected to 10.10.2.10 port 5201\n",
      "[ 15] local 10.10.1.10 port 58430 connected to 10.10.2.10 port 5201\n",
      "[ 17] local 10.10.1.10 port 58438 connected to 10.10.2.10 port 5201\n",
      "[ 19] local 10.10.1.10 port 58442 connected to 10.10.2.10 port 5201\n",
      "[ 21] local 10.10.1.10 port 58444 connected to 10.10.2.10 port 5201\n",
      "[ 23] local 10.10.1.10 port 58448 connected to 10.10.2.10 port 5201\n",
      "[ ID] Interval           Transfer     Bitrate         Retr  Cwnd\n",
      "[  5]   0.00-60.00  sec  12.1 GBytes  1.73 Gbits/sec  296    199 KBytes       \n",
      "[  7]   0.00-60.00  sec  12.1 GBytes  1.73 Gbits/sec  358    209 KBytes       \n",
      "[  9]   0.00-60.00  sec  12.1 GBytes  1.73 Gbits/sec  290    533 KBytes       \n",
      "[ 11]   0.00-60.00  sec  12.1 GBytes  1.73 Gbits/sec  289    240 KBytes       \n",
      "[ 13]   0.00-60.00  sec  12.1 GBytes  1.73 Gbits/sec  278    236 KBytes       \n",
      "[ 15]   0.00-60.00  sec  12.1 GBytes  1.73 Gbits/sec  369    221 KBytes       \n",
      "[ 17]   0.00-60.00  sec  12.1 GBytes  1.73 Gbits/sec  358    307 KBytes       \n",
      "[ 19]   0.00-60.00  sec  12.1 GBytes  1.73 Gbits/sec  450    264 KBytes       \n",
      "[ 21]   0.00-60.00  sec  12.1 GBytes  1.73 Gbits/sec  446    328 KBytes       \n",
      "[ 23]   0.00-60.00  sec  12.1 GBytes  1.73 Gbits/sec  326    280 KBytes       \n",
      "[SUM]   0.00-60.00  sec   121 GBytes  17.3 Gbits/sec  3460             \n",
      "- - - - - - - - - - - - - - - - - - - - - - - - -\n",
      "[ ID] Interval           Transfer     Bitrate         Retr\n",
      "[  5]   0.00-60.00  sec  12.1 GBytes  1.73 Gbits/sec  296             sender\n",
      "[  5]   0.00-60.00  sec  12.1 GBytes  1.73 Gbits/sec                  receiver\n",
      "[  7]   0.00-60.00  sec  12.1 GBytes  1.73 Gbits/sec  358             sender\n",
      "[  7]   0.00-60.00  sec  12.1 GBytes  1.73 Gbits/sec                  receiver\n",
      "[  9]   0.00-60.00  sec  12.1 GBytes  1.73 Gbits/sec  290             sender\n",
      "[  9]   0.00-60.00  sec  12.1 GBytes  1.73 Gbits/sec                  receiver\n",
      "[ 11]   0.00-60.00  sec  12.1 GBytes  1.73 Gbits/sec  289             sender\n",
      "[ 11]   0.00-60.00  sec  12.1 GBytes  1.73 Gbits/sec                  receiver\n",
      "[ 13]   0.00-60.00  sec  12.1 GBytes  1.73 Gbits/sec  278             sender\n",
      "[ 13]   0.00-60.00  sec  12.1 GBytes  1.73 Gbits/sec                  receiver\n",
      "[ 15]   0.00-60.00  sec  12.1 GBytes  1.73 Gbits/sec  369             sender\n",
      "[ 15]   0.00-60.00  sec  12.1 GBytes  1.73 Gbits/sec                  receiver\n",
      "[ 17]   0.00-60.00  sec  12.1 GBytes  1.73 Gbits/sec  358             sender\n",
      "[ 17]   0.00-60.00  sec  12.1 GBytes  1.73 Gbits/sec                  receiver\n",
      "[ 19]   0.00-60.00  sec  12.1 GBytes  1.73 Gbits/sec  450             sender\n",
      "[ 19]   0.00-60.00  sec  12.1 GBytes  1.73 Gbits/sec                  receiver\n",
      "[ 21]   0.00-60.00  sec  12.1 GBytes  1.73 Gbits/sec  446             sender\n",
      "[ 21]   0.00-60.00  sec  12.1 GBytes  1.73 Gbits/sec                  receiver\n",
      "[ 23]   0.00-60.00  sec  12.1 GBytes  1.73 Gbits/sec  326             sender\n",
      "[ 23]   0.00-60.00  sec  12.1 GBytes  1.73 Gbits/sec                  receiver\n",
      "[SUM]   0.00-60.00  sec   121 GBytes  17.3 Gbits/sec  3460             sender\n",
      "[SUM]   0.00-60.00  sec   121 GBytes  17.3 Gbits/sec                  receiver\n",
      "\n",
      "iperf Done.\n"
     ]
    },
    {
     "data": {
      "text/plain": [
       "('Connecting to host 10.10.2.10, port 5201\\n[  5] local 10.10.1.10 port 58394 connected to 10.10.2.10 port 5201\\n[  7] local 10.10.1.10 port 58402 connected to 10.10.2.10 port 5201\\n[  9] local 10.10.1.10 port 58410 connected to 10.10.2.10 port 5201\\n[ 11] local 10.10.1.10 port 58412 connected to 10.10.2.10 port 5201\\n[ 13] local 10.10.1.10 port 58418 connected to 10.10.2.10 port 5201\\n[ 15] local 10.10.1.10 port 58430 connected to 10.10.2.10 port 5201\\n[ 17] local 10.10.1.10 port 58438 connected to 10.10.2.10 port 5201\\n[ 19] local 10.10.1.10 port 58442 connected to 10.10.2.10 port 5201\\n[ 21] local 10.10.1.10 port 58444 connected to 10.10.2.10 port 5201\\n[ 23] local 10.10.1.10 port 58448 connected to 10.10.2.10 port 5201\\n[ ID] Interval           Transfer     Bitrate         Retr  Cwnd\\n[  5]   0.00-60.00  sec  12.1 GBytes  1.73 Gbits/sec  296    199 KBytes       \\n[  7]   0.00-60.00  sec  12.1 GBytes  1.73 Gbits/sec  358    209 KBytes       \\n[  9]   0.00-60.00  sec  12.1 GBytes  1.73 Gbits/sec  290    533 KBytes       \\n[ 11]   0.00-60.00  sec  12.1 GBytes  1.73 Gbits/sec  289    240 KBytes       \\n[ 13]   0.00-60.00  sec  12.1 GBytes  1.73 Gbits/sec  278    236 KBytes       \\n[ 15]   0.00-60.00  sec  12.1 GBytes  1.73 Gbits/sec  369    221 KBytes       \\n[ 17]   0.00-60.00  sec  12.1 GBytes  1.73 Gbits/sec  358    307 KBytes       \\n[ 19]   0.00-60.00  sec  12.1 GBytes  1.73 Gbits/sec  450    264 KBytes       \\n[ 21]   0.00-60.00  sec  12.1 GBytes  1.73 Gbits/sec  446    328 KBytes       \\n[ 23]   0.00-60.00  sec  12.1 GBytes  1.73 Gbits/sec  326    280 KBytes       \\n[SUM]   0.00-60.00  sec   121 GBytes  17.3 Gbits/sec  3460             \\n- - - - - - - - - - - - - - - - - - - - - - - - -\\n[ ID] Interval           Transfer     Bitrate         Retr\\n[  5]   0.00-60.00  sec  12.1 GBytes  1.73 Gbits/sec  296             sender\\n[  5]   0.00-60.00  sec  12.1 GBytes  1.73 Gbits/sec                  receiver\\n[  7]   0.00-60.00  sec  12.1 GBytes  1.73 Gbits/sec  358             sender\\n[  7]   0.00-60.00  sec  12.1 GBytes  1.73 Gbits/sec                  receiver\\n[  9]   0.00-60.00  sec  12.1 GBytes  1.73 Gbits/sec  290             sender\\n[  9]   0.00-60.00  sec  12.1 GBytes  1.73 Gbits/sec                  receiver\\n[ 11]   0.00-60.00  sec  12.1 GBytes  1.73 Gbits/sec  289             sender\\n[ 11]   0.00-60.00  sec  12.1 GBytes  1.73 Gbits/sec                  receiver\\n[ 13]   0.00-60.00  sec  12.1 GBytes  1.73 Gbits/sec  278             sender\\n[ 13]   0.00-60.00  sec  12.1 GBytes  1.73 Gbits/sec                  receiver\\n[ 15]   0.00-60.00  sec  12.1 GBytes  1.73 Gbits/sec  369             sender\\n[ 15]   0.00-60.00  sec  12.1 GBytes  1.73 Gbits/sec                  receiver\\n[ 17]   0.00-60.00  sec  12.1 GBytes  1.73 Gbits/sec  358             sender\\n[ 17]   0.00-60.00  sec  12.1 GBytes  1.73 Gbits/sec                  receiver\\n[ 19]   0.00-60.00  sec  12.1 GBytes  1.73 Gbits/sec  450             sender\\n[ 19]   0.00-60.00  sec  12.1 GBytes  1.73 Gbits/sec                  receiver\\n[ 21]   0.00-60.00  sec  12.1 GBytes  1.73 Gbits/sec  446             sender\\n[ 21]   0.00-60.00  sec  12.1 GBytes  1.73 Gbits/sec                  receiver\\n[ 23]   0.00-60.00  sec  12.1 GBytes  1.73 Gbits/sec  326             sender\\n[ 23]   0.00-60.00  sec  12.1 GBytes  1.73 Gbits/sec                  receiver\\n[SUM]   0.00-60.00  sec   121 GBytes  17.3 Gbits/sec  3460             sender\\n[SUM]   0.00-60.00  sec   121 GBytes  17.3 Gbits/sec                  receiver\\n\\niperf Done.\\n',\n",
       " '')"
      ]
     },
     "execution_count": 18,
     "metadata": {},
     "output_type": "execute_result"
    }
   ],
   "source": [
    "receiver_nodes[0].execute(\"iperf3 -s -1 -f g -D\")\n",
    "sender_nodes[0].execute(\"iperf3 -t 60 -i 60 -P 10 -c 10.10.2.10\")"
   ]
  },
  {
   "cell_type": "markdown",
   "id": "559dc2c4-e69d-4749-8abd-f352d55f75bd",
   "metadata": {},
   "source": [
    "## Check network delay\n",
    "\n",
    "We should get sub-ms latency across the router."
   ]
  },
  {
   "cell_type": "code",
   "execution_count": null,
   "id": "b1c337af-31bb-487b-89ae-918621332976",
   "metadata": {},
   "outputs": [
    {
     "name": "stdout",
     "output_type": "stream",
     "text": [
      "rtt min/avg/max/mdev = 0.110/0.153/0.266/0.059 ms\n",
      "rtt min/avg/max/mdev = 0.116/0.157/0.297/0.071 ms\n"
     ]
    }
   ],
   "source": [
    "for i,n in enumerate(sender_nodes):\n",
    "    n.execute(\"ping -c 5 10.10.2.1\"+str(i)+\" | grep rtt\")"
   ]
  },
  {
   "cell_type": "code",
   "execution_count": null,
   "id": "ea0c3d6c-84a3-4bf8-b8a3-3d762be497a6",
   "metadata": {},
   "outputs": [],
   "source": []
  }
 ],
 "metadata": {
  "kernelspec": {
   "display_name": "Python 3 (ipykernel)",
   "language": "python",
   "name": "python3"
  },
  "language_info": {
   "codemirror_mode": {
    "name": "ipython",
    "version": 3
   },
   "file_extension": ".py",
   "mimetype": "text/x-python",
   "name": "python",
   "nbconvert_exporter": "python",
   "pygments_lexer": "ipython3",
   "version": "3.10.6"
  }
 },
 "nbformat": 4,
 "nbformat_minor": 5
}
