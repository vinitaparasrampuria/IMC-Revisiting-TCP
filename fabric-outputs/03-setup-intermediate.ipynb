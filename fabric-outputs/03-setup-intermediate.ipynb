{
 "cells": [
  {
   "cell_type": "markdown",
   "id": "02a5be90-977a-4948-a299-b5df71273eef",
   "metadata": {},
   "source": [
    "# CoreScale results for \"Revisiting TCP Congestion Control Throughput Models & Fairness Properties at Scale\""
   ]
  },
  {
   "cell_type": "markdown",
   "id": "79d083f0-5028-4517-8d4e-eba13f28cac4",
   "metadata": {},
   "source": [
    "## Set up your FABRIC environment\n"
   ]
  },
  {
   "cell_type": "code",
   "execution_count": 2,
   "id": "9cf58277-480d-4459-a9c6-08a085b1313e",
   "metadata": {},
   "outputs": [
    {
     "data": {
      "text/html": [
       "<style type=\"text/css\">\n",
       "#T_df072 tr:nth-child(even) {\n",
       "  background: #dbf3ff;\n",
       "  color: #231f20;\n",
       "}\n",
       "#T_df072 tr:nth-child(odd) {\n",
       "  background: #ffffff;\n",
       "  color: #231f20;\n",
       "}\n",
       "#T_df072 caption {\n",
       "  text-align: center;\n",
       "  font-size: 150%;\n",
       "}\n",
       "#T_df072_row0_col0, #T_df072_row0_col1, #T_df072_row1_col0, #T_df072_row1_col1, #T_df072_row2_col0, #T_df072_row2_col1, #T_df072_row3_col0, #T_df072_row3_col1, #T_df072_row4_col0, #T_df072_row4_col1, #T_df072_row5_col0, #T_df072_row5_col1, #T_df072_row6_col0, #T_df072_row6_col1, #T_df072_row7_col0, #T_df072_row7_col1, #T_df072_row8_col0, #T_df072_row8_col1, #T_df072_row9_col0, #T_df072_row9_col1, #T_df072_row10_col0, #T_df072_row10_col1, #T_df072_row11_col0, #T_df072_row11_col1, #T_df072_row12_col0, #T_df072_row12_col1, #T_df072_row13_col0, #T_df072_row13_col1 {\n",
       "  text-align: left;\n",
       "  border: 1px #231f20 solid !important;\n",
       "  overwrite: False;\n",
       "}\n",
       "</style>\n",
       "<table id=\"T_df072\">\n",
       "  <caption>FABlib Config</caption>\n",
       "  <thead>\n",
       "  </thead>\n",
       "  <tbody>\n",
       "    <tr>\n",
       "      <td id=\"T_df072_row0_col0\" class=\"data row0 col0\" >Credential Manager</td>\n",
       "      <td id=\"T_df072_row0_col1\" class=\"data row0 col1\" >cm.fabric-testbed.net</td>\n",
       "    </tr>\n",
       "    <tr>\n",
       "      <td id=\"T_df072_row1_col0\" class=\"data row1 col0\" >Orchestrator</td>\n",
       "      <td id=\"T_df072_row1_col1\" class=\"data row1 col1\" >orchestrator.fabric-testbed.net</td>\n",
       "    </tr>\n",
       "    <tr>\n",
       "      <td id=\"T_df072_row2_col0\" class=\"data row2 col0\" >Token File</td>\n",
       "      <td id=\"T_df072_row2_col1\" class=\"data row2 col1\" >/home/fabric/.tokens.json</td>\n",
       "    </tr>\n",
       "    <tr>\n",
       "      <td id=\"T_df072_row3_col0\" class=\"data row3 col0\" >Project ID</td>\n",
       "      <td id=\"T_df072_row3_col1\" class=\"data row3 col1\" >073ee843-2310-45bd-a01f-a15d808827dc</td>\n",
       "    </tr>\n",
       "    <tr>\n",
       "      <td id=\"T_df072_row4_col0\" class=\"data row4 col0\" >Bastion Username</td>\n",
       "      <td id=\"T_df072_row4_col1\" class=\"data row4 col1\" >vinita_p_0000073925</td>\n",
       "    </tr>\n",
       "    <tr>\n",
       "      <td id=\"T_df072_row5_col0\" class=\"data row5 col0\" >Bastion Private Key File</td>\n",
       "      <td id=\"T_df072_row5_col1\" class=\"data row5 col1\" >/home/fabric/work/fabric_config/fabric_bastion_key</td>\n",
       "    </tr>\n",
       "    <tr>\n",
       "      <td id=\"T_df072_row6_col0\" class=\"data row6 col0\" >Bastion Host</td>\n",
       "      <td id=\"T_df072_row6_col1\" class=\"data row6 col1\" >bastion.fabric-testbed.net</td>\n",
       "    </tr>\n",
       "    <tr>\n",
       "      <td id=\"T_df072_row7_col0\" class=\"data row7 col0\" >Bastion Private Key Passphrase</td>\n",
       "      <td id=\"T_df072_row7_col1\" class=\"data row7 col1\" >None</td>\n",
       "    </tr>\n",
       "    <tr>\n",
       "      <td id=\"T_df072_row8_col0\" class=\"data row8 col0\" >Slice Public Key File</td>\n",
       "      <td id=\"T_df072_row8_col1\" class=\"data row8 col1\" >/home/fabric/work/fabric_config/slice_key.pub</td>\n",
       "    </tr>\n",
       "    <tr>\n",
       "      <td id=\"T_df072_row9_col0\" class=\"data row9 col0\" >Slice Private Key File</td>\n",
       "      <td id=\"T_df072_row9_col1\" class=\"data row9 col1\" >/home/fabric/work/fabric_config/slice_key</td>\n",
       "    </tr>\n",
       "    <tr>\n",
       "      <td id=\"T_df072_row10_col0\" class=\"data row10 col0\" >Slice Private Key Passphrase</td>\n",
       "      <td id=\"T_df072_row10_col1\" class=\"data row10 col1\" >None</td>\n",
       "    </tr>\n",
       "    <tr>\n",
       "      <td id=\"T_df072_row11_col0\" class=\"data row11 col0\" >Log File</td>\n",
       "      <td id=\"T_df072_row11_col1\" class=\"data row11 col1\" >/home/fabric/fablib.log</td>\n",
       "    </tr>\n",
       "    <tr>\n",
       "      <td id=\"T_df072_row12_col0\" class=\"data row12 col0\" >Log Level</td>\n",
       "      <td id=\"T_df072_row12_col1\" class=\"data row12 col1\" >INFO</td>\n",
       "    </tr>\n",
       "    <tr>\n",
       "      <td id=\"T_df072_row13_col0\" class=\"data row13 col0\" >Version</td>\n",
       "      <td id=\"T_df072_row13_col1\" class=\"data row13 col1\" >1.5.3</td>\n",
       "    </tr>\n",
       "  </tbody>\n",
       "</table>\n"
      ],
      "text/plain": [
       "<pandas.io.formats.style.Styler at 0x7faf6c723f70>"
      ]
     },
     "metadata": {},
     "output_type": "display_data"
    },
    {
     "data": {
      "text/html": [
       "<style type=\"text/css\">\n",
       "#T_df072 tr:nth-child(even) {\n",
       "  background: #dbf3ff;\n",
       "  color: #231f20;\n",
       "}\n",
       "#T_df072 tr:nth-child(odd) {\n",
       "  background: #ffffff;\n",
       "  color: #231f20;\n",
       "}\n",
       "#T_df072 caption {\n",
       "  text-align: center;\n",
       "  font-size: 150%;\n",
       "}\n",
       "#T_df072_row0_col0, #T_df072_row0_col1, #T_df072_row1_col0, #T_df072_row1_col1, #T_df072_row2_col0, #T_df072_row2_col1, #T_df072_row3_col0, #T_df072_row3_col1, #T_df072_row4_col0, #T_df072_row4_col1, #T_df072_row5_col0, #T_df072_row5_col1, #T_df072_row6_col0, #T_df072_row6_col1, #T_df072_row7_col0, #T_df072_row7_col1, #T_df072_row8_col0, #T_df072_row8_col1, #T_df072_row9_col0, #T_df072_row9_col1, #T_df072_row10_col0, #T_df072_row10_col1, #T_df072_row11_col0, #T_df072_row11_col1, #T_df072_row12_col0, #T_df072_row12_col1, #T_df072_row13_col0, #T_df072_row13_col1 {\n",
       "  text-align: left;\n",
       "  border: 1px #231f20 solid !important;\n",
       "  overwrite: False;\n",
       "}\n",
       "</style>\n",
       "<table id=\"T_df072\">\n",
       "  <caption>FABlib Config</caption>\n",
       "  <thead>\n",
       "  </thead>\n",
       "  <tbody>\n",
       "    <tr>\n",
       "      <td id=\"T_df072_row0_col0\" class=\"data row0 col0\" >Credential Manager</td>\n",
       "      <td id=\"T_df072_row0_col1\" class=\"data row0 col1\" >cm.fabric-testbed.net</td>\n",
       "    </tr>\n",
       "    <tr>\n",
       "      <td id=\"T_df072_row1_col0\" class=\"data row1 col0\" >Orchestrator</td>\n",
       "      <td id=\"T_df072_row1_col1\" class=\"data row1 col1\" >orchestrator.fabric-testbed.net</td>\n",
       "    </tr>\n",
       "    <tr>\n",
       "      <td id=\"T_df072_row2_col0\" class=\"data row2 col0\" >Token File</td>\n",
       "      <td id=\"T_df072_row2_col1\" class=\"data row2 col1\" >/home/fabric/.tokens.json</td>\n",
       "    </tr>\n",
       "    <tr>\n",
       "      <td id=\"T_df072_row3_col0\" class=\"data row3 col0\" >Project ID</td>\n",
       "      <td id=\"T_df072_row3_col1\" class=\"data row3 col1\" >073ee843-2310-45bd-a01f-a15d808827dc</td>\n",
       "    </tr>\n",
       "    <tr>\n",
       "      <td id=\"T_df072_row4_col0\" class=\"data row4 col0\" >Bastion Username</td>\n",
       "      <td id=\"T_df072_row4_col1\" class=\"data row4 col1\" >vinita_p_0000073925</td>\n",
       "    </tr>\n",
       "    <tr>\n",
       "      <td id=\"T_df072_row5_col0\" class=\"data row5 col0\" >Bastion Private Key File</td>\n",
       "      <td id=\"T_df072_row5_col1\" class=\"data row5 col1\" >/home/fabric/work/fabric_config/fabric_bastion_key</td>\n",
       "    </tr>\n",
       "    <tr>\n",
       "      <td id=\"T_df072_row6_col0\" class=\"data row6 col0\" >Bastion Host</td>\n",
       "      <td id=\"T_df072_row6_col1\" class=\"data row6 col1\" >bastion.fabric-testbed.net</td>\n",
       "    </tr>\n",
       "    <tr>\n",
       "      <td id=\"T_df072_row7_col0\" class=\"data row7 col0\" >Bastion Private Key Passphrase</td>\n",
       "      <td id=\"T_df072_row7_col1\" class=\"data row7 col1\" >None</td>\n",
       "    </tr>\n",
       "    <tr>\n",
       "      <td id=\"T_df072_row8_col0\" class=\"data row8 col0\" >Slice Public Key File</td>\n",
       "      <td id=\"T_df072_row8_col1\" class=\"data row8 col1\" >/home/fabric/work/fabric_config/slice_key.pub</td>\n",
       "    </tr>\n",
       "    <tr>\n",
       "      <td id=\"T_df072_row9_col0\" class=\"data row9 col0\" >Slice Private Key File</td>\n",
       "      <td id=\"T_df072_row9_col1\" class=\"data row9 col1\" >/home/fabric/work/fabric_config/slice_key</td>\n",
       "    </tr>\n",
       "    <tr>\n",
       "      <td id=\"T_df072_row10_col0\" class=\"data row10 col0\" >Slice Private Key Passphrase</td>\n",
       "      <td id=\"T_df072_row10_col1\" class=\"data row10 col1\" >None</td>\n",
       "    </tr>\n",
       "    <tr>\n",
       "      <td id=\"T_df072_row11_col0\" class=\"data row11 col0\" >Log File</td>\n",
       "      <td id=\"T_df072_row11_col1\" class=\"data row11 col1\" >/home/fabric/fablib.log</td>\n",
       "    </tr>\n",
       "    <tr>\n",
       "      <td id=\"T_df072_row12_col0\" class=\"data row12 col0\" >Log Level</td>\n",
       "      <td id=\"T_df072_row12_col1\" class=\"data row12 col1\" >INFO</td>\n",
       "    </tr>\n",
       "    <tr>\n",
       "      <td id=\"T_df072_row13_col0\" class=\"data row13 col0\" >Version</td>\n",
       "      <td id=\"T_df072_row13_col1\" class=\"data row13 col1\" >1.5.3</td>\n",
       "    </tr>\n",
       "  </tbody>\n",
       "</table>\n"
      ],
      "text/plain": [
       "<pandas.io.formats.style.Styler at 0x7faf6c723f70>"
      ]
     },
     "execution_count": 2,
     "metadata": {},
     "output_type": "execute_result"
    }
   ],
   "source": [
    "from fabrictestbed_extensions.fablib.fablib import FablibManager as fablib_manager\n",
    "fablib = fablib_manager() \n",
    "fablib.show_config()"
   ]
  },
  {
   "cell_type": "code",
   "execution_count": 3,
   "id": "4ccb86ad-4f11-4dcd-acf8-748361d615c8",
   "metadata": {},
   "outputs": [],
   "source": [
    "!chmod 600 {fablib.get_bastion_key_filename()}\n",
    "!chmod 600 {fablib.get_default_slice_private_key_file()}"
   ]
  },
  {
   "cell_type": "markdown",
   "id": "1a288b3d-4162-4249-8c9a-111ddb4beecf",
   "metadata": {},
   "source": [
    "## Get slice details"
   ]
  },
  {
   "cell_type": "markdown",
   "id": "a7704d48-a158-4c40-ba58-9ea4f462706c",
   "metadata": {},
   "source": [
    "Put your slice name and the number of endpoints in the following cell:"
   ]
  },
  {
   "cell_type": "code",
   "execution_count": 4,
   "id": "d3047eaf-4fb4-40c1-8dd0-c2f364685384",
   "metadata": {},
   "outputs": [],
   "source": [
    "n_endpoints = 10\n",
    "slice_name=\"bottleneck-\" + str(n_endpoints) + '-test'"
   ]
  },
  {
   "cell_type": "markdown",
   "id": "832e8f83-c35a-4669-98b5-647ef965efb1",
   "metadata": {},
   "source": [
    "Then, load your slice details into the environment.slice = fablib.new_slice(name=slice_name)"
   ]
  },
  {
   "cell_type": "code",
   "execution_count": 5,
   "id": "26f9af4c-28f9-4314-8791-878b4c41d5c6",
   "metadata": {},
   "outputs": [],
   "source": [
    "slice = fablib.get_slice(name=slice_name)"
   ]
  },
  {
   "cell_type": "code",
   "execution_count": 6,
   "id": "1ac3a090-f28c-4665-a470-06a9967decac",
   "metadata": {},
   "outputs": [],
   "source": [
    "sender_nodes = [slice.get_node(name='sender-' + str(i))  for i in range(n_endpoints)]\n",
    "receiver_nodes = [slice.get_node(name='receiver-' + str(i))  for i in range(n_endpoints)]"
   ]
  },
  {
   "cell_type": "code",
   "execution_count": 7,
   "id": "0d7db1cb-7e04-4077-bcd2-c135b78d8cd2",
   "metadata": {},
   "outputs": [],
   "source": [
    "router_node = slice.get_node(name='router')\n",
    "router_ingress_iface = router_node.get_interface(network_name = \"link-sender\")\n",
    "router_egress_iface  = router_node.get_interface(network_name = \"link-receiver\")\n",
    "router_egress_name = router_egress_iface.get_device_name()"
   ]
  },
  {
   "cell_type": "markdown",
   "id": "bb268672-a214-42f5-ac95-9a476f7ad132",
   "metadata": {},
   "source": [
    "## Configure router for CoreScale scenario\n",
    "\n",
    "> CoreScale: The “at scale\" setting with a bottleneck bandwidth\n",
    "of 10 Gbps, 1000 to 5000 competing flows, and a 375MB\n",
    "buffer"
   ]
  },
  {
   "cell_type": "markdown",
   "id": "eb56b968-3b4d-425d-b457-0a9e0e244621",
   "metadata": {},
   "source": [
    "We implement CoreScale at the router using a `tc htb` rate limiting queue. Because of [limitations of the software implementation](https://unix.stackexchange.com/questions/704918/has-10-gbps-through-linux-tc-qdiscs-ever-been-solved), we use hardware offload on the Mellanox interface to achieve the full 10 Gbps."
   ]
  },
  {
   "cell_type": "markdown",
   "id": "b8f2a8fa-23ed-4ba3-ae79-67618599703f",
   "metadata": {},
   "source": [
    "First, make sure this feature is turned on:"
   ]
  },
  {
   "cell_type": "code",
   "execution_count": 7,
   "id": "867578a2-4c65-4020-ac5a-efa9d8f16713",
   "metadata": {},
   "outputs": [
    {
     "name": "stdout",
     "output_type": "stream",
     "text": [
      "hw-tc-offload: on\n"
     ]
    },
    {
     "data": {
      "text/plain": [
       "('hw-tc-offload: on\\n', '')"
      ]
     },
     "execution_count": 7,
     "metadata": {},
     "output_type": "execute_result"
    }
   ],
   "source": [
    "router_node.execute('sudo ethtool  -K ' + router_egress_name + ' hw-tc-offload on')\n",
    "router_node.execute('sudo ethtool  -k ' + router_egress_name + \" | grep hw-tc-offload\" )"
   ]
  },
  {
   "cell_type": "markdown",
   "id": "0418afc2-0258-4a59-b483-2c9315d7bf1c",
   "metadata": {},
   "source": [
    "Now, we should be able to configure the 10 Gbps queue.\n",
    "\n",
    "First delete any existing queue (don't worry if there is an error, it means there was not!)"
   ]
  },
  {
   "cell_type": "code",
   "execution_count": 8,
   "id": "c5a8e037-d889-44f1-85c1-42dd732aac7d",
   "metadata": {},
   "outputs": [
    {
     "data": {
      "text/plain": [
       "('', '')"
      ]
     },
     "execution_count": 8,
     "metadata": {},
     "output_type": "execute_result"
    }
   ],
   "source": [
    "router_node.execute(\"sudo tc qdisc del dev \" + router_egress_name + \" root\")"
   ]
  },
  {
   "cell_type": "markdown",
   "id": "b3fd7a67-a01f-4bd3-a336-a96c34d1d249",
   "metadata": {},
   "source": [
    "Then set one up, with hardware offload:"
   ]
  },
  {
   "cell_type": "code",
   "execution_count": 9,
   "id": "b6fa92c5-2e87-43ae-b691-d819f8c36df3",
   "metadata": {},
   "outputs": [
    {
     "data": {
      "text/plain": [
       "('', '')"
      ]
     },
     "execution_count": 9,
     "metadata": {},
     "output_type": "execute_result"
    }
   ],
   "source": [
    "router_node.execute(\"sudo tc qdisc replace dev \" + router_egress_name + \" root handle 1: htb default 3 offload\")\n",
    "router_node.execute(\"sudo tc class add dev \" + router_egress_name + \" parent 1: classid 1:3 htb rate 1Gbit\")\n",
    "router_node.execute(\"sudo tc qdisc add dev \" + router_egress_name + \" parent 1:3 handle 3: bfifo limit 25MB\")"
   ]
  },
  {
   "cell_type": "markdown",
   "id": "15f1e6bb-6a90-44ad-8507-752522462b1e",
   "metadata": {},
   "source": [
    "## Check network capacity\n",
    "\n",
    "This time, we should get close to **10 Gbps** through the router."
   ]
  },
  {
   "cell_type": "markdown",
   "id": "dca45d0f-e883-4be4-a803-bf2fba9f25cb",
   "metadata": {},
   "source": [
    "Now start the `iperf3` flows:"
   ]
  },
  {
   "cell_type": "code",
   "execution_count": 10,
   "id": "7382ceb2-e264-43c3-8f09-183ff2785f02",
   "metadata": {},
   "outputs": [],
   "source": [
    "for n in receiver_nodes:\n",
    "    n.execute(\"iperf3 -s -1 -f g -D --logfile validate.dat\")"
   ]
  },
  {
   "cell_type": "code",
   "execution_count": 11,
   "id": "8debcbc7-e2a7-4f6b-948f-23c4db52a740",
   "metadata": {},
   "outputs": [],
   "source": [
    "import time\n",
    "for i, n in enumerate(sender_nodes):\n",
    "    n.execute_thread(\"iperf3 -t 60 -P 10 -c 10.10.2.1\"+str(i))\n",
    "time.sleep(65)"
   ]
  },
  {
   "cell_type": "code",
   "execution_count": 12,
   "id": "99299a0c-ab19-43e5-bee2-81990ca9ecf0",
   "metadata": {},
   "outputs": [
    {
     "name": "stdout",
     "output_type": "stream",
     "text": [
      "0.06\n",
      "0.07\n",
      "0.21\n",
      "0.06\n",
      "0.07\n",
      "0.10\n",
      "0.11\n",
      "0.07\n",
      "0.12\n",
      "0.08\n",
      "Sum throughput is: 0.950000 Gbps\n"
     ]
    }
   ],
   "source": [
    "tputs = []\n",
    "for n in receiver_nodes:\n",
    "    (nout, nerr) = n.execute(\"tail --lines=2 validate.dat | grep receiver | awk '{print $6}'\")\n",
    "    tputs.append(float(nout.strip()))\n",
    "print(\"Sum throughput is: %f Gbps\" % sum(tputs))"
   ]
  },
  {
   "cell_type": "markdown",
   "id": "559dc2c4-e69d-4749-8abd-f352d55f75bd",
   "metadata": {},
   "source": [
    "## Check network delay\n",
    "\n",
    "We should still get sub-ms latency across the router."
   ]
  },
  {
   "cell_type": "code",
   "execution_count": 8,
   "id": "b1c337af-31bb-487b-89ae-918621332976",
   "metadata": {},
   "outputs": [
    {
     "name": "stdout",
     "output_type": "stream",
     "text": [
      "rtt min/avg/max/mdev = 0.134/0.185/0.259/0.045 ms\n",
      "rtt min/avg/max/mdev = 0.123/0.154/0.228/0.039 ms\n",
      "rtt min/avg/max/mdev = 0.137/0.165/0.204/0.027 ms\n",
      "rtt min/avg/max/mdev = 0.159/0.176/0.208/0.023 ms\n",
      "rtt min/avg/max/mdev = 0.163/0.193/0.238/0.030 ms\n",
      "rtt min/avg/max/mdev = 0.135/0.156/0.168/0.019 ms\n",
      "rtt min/avg/max/mdev = 0.129/0.175/0.287/0.059 ms\n",
      "rtt min/avg/max/mdev = 0.132/0.174/0.262/0.050 ms\n",
      "rtt min/avg/max/mdev = 0.119/0.168/0.196/0.031 ms\n",
      "rtt min/avg/max/mdev = 0.124/0.144/0.188/0.023 ms\n"
     ]
    }
   ],
   "source": [
    "for i, n in enumerate(sender_nodes):\n",
    "    n.execute(\"ping -c 5 10.10.2.1\"+str(i)+\" | grep rtt\")"
   ]
  },
  {
   "cell_type": "code",
   "execution_count": null,
   "id": "e8a52328-d2c5-478c-850c-152349c2afac",
   "metadata": {},
   "outputs": [],
   "source": []
  }
 ],
 "metadata": {
  "kernelspec": {
   "display_name": "Python 3 (ipykernel)",
   "language": "python",
   "name": "python3"
  },
  "language_info": {
   "codemirror_mode": {
    "name": "ipython",
    "version": 3
   },
   "file_extension": ".py",
   "mimetype": "text/x-python",
   "name": "python",
   "nbconvert_exporter": "python",
   "pygments_lexer": "ipython3",
   "version": "3.10.6"
  }
 },
 "nbformat": 4,
 "nbformat_minor": 5
}
